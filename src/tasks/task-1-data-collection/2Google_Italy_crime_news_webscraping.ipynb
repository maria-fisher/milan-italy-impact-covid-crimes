{
 "cells": [
  {
   "cell_type": "markdown",
   "id": "ccbc2c84",
   "metadata": {},
   "source": [
    "# Omdena-Milan Covid19 Crimes\n",
    "### Exploratory analysis for assessing the impact of Covid-19 on crime cates in Italy\n",
    "#### Author: Maria Fisher \n"
   ]
  },
  {
   "cell_type": "markdown",
   "id": "9b6a9d16",
   "metadata": {},
   "source": [
    "The main objective of this study is to gather information about crime in Italy for the period of covid19 pandemic.\n",
    "\n"
   ]
  },
  {
   "cell_type": "code",
   "execution_count": null,
   "id": "1b814b31",
   "metadata": {},
   "outputs": [],
   "source": []
  },
  {
   "cell_type": "code",
   "execution_count": 5,
   "id": "68e43db2",
   "metadata": {},
   "outputs": [],
   "source": [
    "from urllib.request import Request, urlopen\n",
    "from bs4 import BeautifulSoup as soup\n",
    "import requests\n",
    "import re\n",
    "import pandas as pd\n",
    "\n",
    "import matplotlib.pyplot as plt\n",
    "%matplotlib inline\n",
    "from datetime import date\n",
    "today = date.today()\n",
    "d = today.strftime(\"%m-%d-%y\")\n",
    "\n"
   ]
  },
  {
   "cell_type": "code",
   "execution_count": 6,
   "id": "4d269df2",
   "metadata": {
    "scrolled": true
   },
   "outputs": [],
   "source": [
    "\n",
    "root = \"https://www.google.com\"\n",
    "link = \"https://www.google.com/search?q=furto+in+Italia&biw=915&bih=933&tbm=nws&ei=SFVOZLWrJJyFhbIPmLiHiAs&ved=0ahUKEwi178umxNH-AhWcQkEAHRjcAbEQ4dUDCA0&uact=5&oq=furto+in+Italia&gs_lcp=Cgxnd3Mtd2l6LW5ld3MQAzIECAAQHjIGCAAQHhAPMgYIABAeEA8yBggAEB4QDzIECAAQHjIECAAQHjIGCAAQBRAeMggIABAIEB4QDzIGCAAQCBAeMgYIABAIEB46BggAEAcQHjoGCAAQHhANOggIABAeEA0QDzoICAAQCBAeEA06CAgAEAgQBxAeOggIABAFEB4QDVCRB1j3KmCML2gAcAB4AIABe4gBwAaSAQMwLjeYAQCgAQHAAQE&sclient=gws-wiz-news\"\n",
    "\n",
    "req = Request(link, headers={'User-Agent':'Mozilla/5.0 (Windows NT 10.0; Win64; x64) AppleWebKit/537.36 (KHTML, like Gecko) Chrome/74.0.3729.169 Safari/537.36'}\n",
    ")\n",
    "\n",
    "\n",
    "   "
   ]
  },
  {
   "cell_type": "code",
   "execution_count": null,
   "id": "b29fea34",
   "metadata": {
    "scrolled": true
   },
   "outputs": [],
   "source": []
  },
  {
   "cell_type": "code",
   "execution_count": 7,
   "id": "d5e36c84",
   "metadata": {},
   "outputs": [
    {
     "ename": "AttributeError",
     "evalue": "'str' object has no attribute 'descendants'",
     "output_type": "error",
     "traceback": [
      "\u001b[0;31m---------------------------------------------------------------------------\u001b[0m",
      "\u001b[0;31mAttributeError\u001b[0m                            Traceback (most recent call last)",
      "Cell \u001b[0;32mIn [7], line 1\u001b[0m\n\u001b[0;32m----> 1\u001b[0m \u001b[38;5;28;01mfor\u001b[39;00m item \u001b[38;5;129;01min\u001b[39;00m \u001b[43msoup\u001b[49m\u001b[38;5;241;43m.\u001b[39;49m\u001b[43mfind_all\u001b[49m\u001b[43m(\u001b[49m\u001b[38;5;124;43m\"\u001b[39;49m\u001b[38;5;124;43mdiv\u001b[39;49m\u001b[38;5;124;43m\"\u001b[39;49m\u001b[43m,\u001b[49m\u001b[43mattrs\u001b[49m\u001b[38;5;241;43m=\u001b[39;49m\u001b[43m{\u001b[49m\u001b[38;5;124;43m\"\u001b[39;49m\u001b[38;5;124;43mclass\u001b[39;49m\u001b[38;5;124;43m\"\u001b[39;49m\u001b[43m:\u001b[49m\u001b[38;5;124;43m\"\u001b[39;49m\u001b[38;5;124;43mg\u001b[39;49m\u001b[38;5;124;43m\"\u001b[39;49m\u001b[43m}\u001b[49m\u001b[43m)\u001b[49m:\n\u001b[1;32m      2\u001b[0m     \u001b[38;5;28mprint\u001b[39m(item)\n",
      "File \u001b[0;32m~/anaconda3/envs/Omdena-Milan/lib/python3.11/site-packages/bs4/element.py:2026\u001b[0m, in \u001b[0;36mTag.find_all\u001b[0;34m(self, name, attrs, recursive, string, limit, **kwargs)\u001b[0m\n\u001b[1;32m   2008\u001b[0m \u001b[38;5;28;01mdef\u001b[39;00m \u001b[38;5;21mfind_all\u001b[39m(\u001b[38;5;28mself\u001b[39m, name\u001b[38;5;241m=\u001b[39m\u001b[38;5;28;01mNone\u001b[39;00m, attrs\u001b[38;5;241m=\u001b[39m{}, recursive\u001b[38;5;241m=\u001b[39m\u001b[38;5;28;01mTrue\u001b[39;00m, string\u001b[38;5;241m=\u001b[39m\u001b[38;5;28;01mNone\u001b[39;00m,\n\u001b[1;32m   2009\u001b[0m              limit\u001b[38;5;241m=\u001b[39m\u001b[38;5;28;01mNone\u001b[39;00m, \u001b[38;5;241m*\u001b[39m\u001b[38;5;241m*\u001b[39mkwargs):\n\u001b[1;32m   2010\u001b[0m     \u001b[38;5;124;03m\"\"\"Look in the children of this PageElement and find all\u001b[39;00m\n\u001b[1;32m   2011\u001b[0m \u001b[38;5;124;03m    PageElements that match the given criteria.\u001b[39;00m\n\u001b[1;32m   2012\u001b[0m \n\u001b[0;32m   (...)\u001b[0m\n\u001b[1;32m   2024\u001b[0m \u001b[38;5;124;03m    :rtype: bs4.element.ResultSet\u001b[39;00m\n\u001b[1;32m   2025\u001b[0m \u001b[38;5;124;03m    \"\"\"\u001b[39;00m\n\u001b[0;32m-> 2026\u001b[0m     generator \u001b[38;5;241m=\u001b[39m \u001b[38;5;28;43mself\u001b[39;49m\u001b[38;5;241;43m.\u001b[39;49m\u001b[43mdescendants\u001b[49m\n\u001b[1;32m   2027\u001b[0m     \u001b[38;5;28;01mif\u001b[39;00m \u001b[38;5;129;01mnot\u001b[39;00m recursive:\n\u001b[1;32m   2028\u001b[0m         generator \u001b[38;5;241m=\u001b[39m \u001b[38;5;28mself\u001b[39m\u001b[38;5;241m.\u001b[39mchildren\n",
      "\u001b[0;31mAttributeError\u001b[0m: 'str' object has no attribute 'descendants'"
     ]
    }
   ],
   "source": [
    "for item in soup.find_all(\"div\",attrs={\"class\":\"g\"}):\n",
    "    print(item)"
   ]
  },
  {
   "cell_type": "code",
   "execution_count": null,
   "id": "25dde416",
   "metadata": {},
   "outputs": [],
   "source": [
    "item"
   ]
  },
  {
   "cell_type": "code",
   "execution_count": null,
   "id": "7fdc682b",
   "metadata": {},
   "outputs": [],
   "source": []
  },
  {
   "cell_type": "code",
   "execution_count": null,
   "id": "980cd94c",
   "metadata": {},
   "outputs": [],
   "source": []
  },
  {
   "cell_type": "markdown",
   "id": "f9b5147a",
   "metadata": {},
   "source": [
    "Google search 2019\n"
   ]
  },
  {
   "cell_type": "code",
   "execution_count": 8,
   "id": "af429a20",
   "metadata": {},
   "outputs": [],
   "source": [
    "headers={'User-Agent':'Mozilla/5.0 (Windows NT 10.0; Win64; x64) AppleWebKit/537.36 (KHTML, like Gecko) Chrome/74.0.3729.169 Safari/537.36'}\n",
    "\n",
    "url = \"https://www.google.com/search?q=furti+in+Italia\"\n",
    "html = requests.get(url,headers=headers)"
   ]
  },
  {
   "cell_type": "code",
   "execution_count": 9,
   "id": "6b286e01",
   "metadata": {},
   "outputs": [],
   "source": [
    "soup = soup(html.text, 'html.parser')"
   ]
  },
  {
   "cell_type": "code",
   "execution_count": 10,
   "id": "03b25f36",
   "metadata": {},
   "outputs": [],
   "source": [
    "newsP1 = soup.find_all(\"div\",{\"class\":\"g\"})"
   ]
  },
  {
   "cell_type": "code",
   "execution_count": 11,
   "id": "2d9247d0",
   "metadata": {
    "scrolled": true
   },
   "outputs": [
    {
     "data": {
      "text/plain": [
       "[<div class=\"g wF4fFd JnwWd g-blk\" data-hveid=\"CAkQAA\" data-ved=\"2ahUKEwjW2LOJ0YP_AhVzUqQEHahqDI4QjDYoAHoECAkQAA\" lang=\"en-GB\"><div class=\"dG2XIf XzTjhb\"><div class=\"c2xzTb\"><div><div><div class=\"xpdopen\"><div class=\"ifM9O\"><h2 class=\"Uo8X3b OhScic zsYMMe\">Featured snippet from the web</h2><div><div><div class=\"yp1CPe wDYxhc NFQFxe viOShc LKPcQc\" data-md=\"471\" lang=\"en-GB\"><div class=\"V3FYCf\"><div class=\"wDYxhc\" data-md=\"61\" lang=\"en-GB\" style=\"clear:none\"><div aria-level=\"3\" class=\"LGOjhe\" data-attrid=\"wa:/description\" data-hveid=\"CBEQAA\" role=\"heading\"><span class=\"ILfuVd\" lang=\"it\"><span class=\"hgKElc\">I furti sono scesi da 1.477.000 circa nel 2012 a <b>1.189.000 nel 2018</b>. Le rapine sono scese da 41.281 nel 2012 a 28.390 nel 2018.</span></span></div></div><div class=\"g\"><div data-hveid=\"CAgQAA\" data-ved=\"2ahUKEwjW2LOJ0YP_AhVzUqQEHahqDI4QFSgAegQICBAA\" lang=\"it\"><div class=\"tF2Cxc\"><div class=\"yuRUbf\"><a data-ved=\"2ahUKEwjW2LOJ0YP_AhVzUqQEHahqDI4QFnoECAgQAw\" href=\"https://www.netatmo.com/it-it/blog/burglary-france\" ping=\"/url?sa=t&amp;source=web&amp;rct=j&amp;url=https://www.netatmo.com/it-it/blog/burglary-france&amp;ved=2ahUKEwjW2LOJ0YP_AhVzUqQEHahqDI4QFnoECAgQAw\"><br/><h3 class=\"LC20lb MBeuO DKV0Md\">Criminalità in Italia: cosa dicono i numeri sui furti - Netatmo</h3><div class=\"TbwUpd NJjxre iUh30 apx8Vc ojE3Fb\"><span class=\"H9lube\"><div aria-hidden=\"true\" class=\"eqA2re NjwKYd Vwoesf\"><img alt=\"\" class=\"XNo5Ab\" src=\"data:image/png;base64,iVBORw0KGgoAAAANSUhEUgAAACAAAAAgCAMAAABEpIrGAAAAXVBMVEVHcEwABQDkexL0ihS6Yg6ZVw3/jxX/kRXXaw7Gag/uhRT8jRSsXA1sOgnLchHsfRLUeBH9eBH2dA/1fRH/oxf5eBDzcA79exHuZgv/mRbqXQniUAbgSAP/eBHLNwBToZCDAAAAH3RSTlMAEtH/d0D//7+U9f5ZKaPosYD//f/////////+///uIpNYtAAAAPhJREFUeAF900WSxTAMBNCgFGam+x9zDCWVfhxPb/sl5uA3YRQnwT9JYwDM/H0OOliEnj5CsCmrr7qOgYON2ycliGD7Hqaj35OIU1mHBbgR6614eBmMxOo+ARQ1r85DzHqTkoErYgX6YfSJcpo0mJfF8/1kwTov29cw+0RAC2eYEicBlNjw1e87AyWGZTvkMKUaQYWAFeeIogeUwIprQ65JaHCTOK6zRO6VIGDFMGzHda3IvZmGBVbMixKPPDlkwCKzN5sFARolMbenFeIHLDXfPxcoEYkrVpIgoJIHInXxBkPlviIJWve1JRJkvpccm585v6dkcRX8AVtwH+DlYbhWAAAAAElFTkSuQmCC\" style=\"height:18px;width:18px\"/></div></span><div><span class=\"VuuXrf\">Netatmo</span><div class=\"byrV5b\"><cite class=\"apx8Vc qLRx3b tjvcx GvPZzd cHaqb\" role=\"text\" style=\"max-width:330px\">https://www.netatmo.com<span class=\"apx8Vc dyjrff ob9lvb\" role=\"text\"> › it-it › blog › burglary-france</span></cite></div></div></div></a><div class=\"B6fmyf byrV5b Mg1HEd\"><div class=\"TbwUpd iUh30 apx8Vc ojE3Fb\"><span class=\"H9lube\"><div class=\"eqA2re NjwKYd\" style=\"height:18px;width:18px\"></div></span><div><span class=\"VuuXrf\">Netatmo</span><div class=\"byrV5b\"><cite class=\"apx8Vc qLRx3b tjvcx GvPZzd cHaqb\" role=\"text\" style=\"max-width:330px\">https://www.netatmo.com<span class=\"apx8Vc dyjrff ob9lvb\" role=\"text\"> › it-it › blog › burglary-france</span></cite><div class=\"eFM0qc BCF2pd iUh30\"></div></div></div></div><div class=\"csDOgf BCF2pd L48a4c\"><div data-bsextraheight=\"0\" data-isdesktop=\"true\" data-ved=\"2ahUKEwjW2LOJ0YP_AhVzUqQEHahqDI4Q2esEegQICBAL\" jscontroller=\"exgaYe\" jsdata=\"l7Bhpb;_;Cky1FY cECq7c;_;Cky1Fc\"><div aria-label=\"Informazioni su questo risultato\" class=\"iTPLzd rNSxBe lUn2nc\" jsaction=\"RvIhPd\" jsname=\"I3kE2c\" role=\"button\" style=\"position:absolute\" tabindex=\"0\"><span class=\"D6lY4c mBswFe\" jsname=\"czHhOd\"><span class=\"xTFaxe z1asCe SaPW2b\" jsname=\"Bil8Ae\" style=\"height:18px;line-height:18px;width:18px\"><svg focusable=\"false\" viewbox=\"0 0 24 24\" xmlns=\"http://www.w3.org/2000/svg\"><path d=\"M12 8c1.1 0 2-.9 2-2s-.9-2-2-2-2 .9-2 2 .9 2 2 2zm0 2c-1.1 0-2 .9-2 2s.9 2 2 2 2-.9 2-2-.9-2-2-2zm0 6c-1.1 0-2 .9-2 2s.9 2 2 2 2-.9 2-2-.9-2-2-2z\"></path></svg></span></span></div><span data-ved=\"2ahUKEwjW2LOJ0YP_AhVzUqQEHahqDI4Qh-4GegQICBAM\" jsname=\"zOVa8\"></span></div></div></div></div><div class=\"IsZvec\"><span class=\"aCOpRe ljeAnf\" style=\"-webkit-line-clamp:2\"></span></div></div></div></div></div></div></div></div></div><div style=\"clear:both\"></div></div></div></div></div></div><div><div class=\"KFFQ0c xKf9F\"><div class=\"akqY6\"></div><div class=\"YfftMc\"><div class=\"AuP6le VTZT1b kno-ftr\"><div class=\"iOWvff P58Kof\"><a aria-hidden=\"true\" href=\"/url?url=https://support.google.com/websearch?p%3Dfeatured_snippets%26hl%3Den-GB&amp;rct=j&amp;q=&amp;esrc=s&amp;usg=AOvVaw3yEGS1Djvre93x1ZE7hMnD&amp;hl=en-GB&amp;sa=X&amp;ved=2ahUKEwjW2LOJ0YP_AhVzUqQEHahqDI4QrpwBegQICRAB\"><span aria-hidden=\"true\" class=\"b3Ke9b gxMdVd z1asCe JrWGoc\" style=\"height:16px;line-height:16px;width:16px\" tabindex=\"-1\"><svg focusable=\"false\" viewbox=\"0 0 24 24\" xmlns=\"http://www.w3.org/2000/svg\"><path d=\"M12 2C6.48 2 2 6.48 2 12s4.48 10 10 10 10-4.48 10-10S17.52 2 12 2zm1 17h-2v-2h2v2zm2.07-7.75l-.9.92C13.45 12.9 13 13.5 13 15h-2v-.5c0-1.1.45-2.1 1.17-2.83l1.24-1.26c.37-.36.59-.86.59-1.41 0-1.1-.9-2-2-2s-2 .9-2 2H8c0-2.21 1.79-4 4-4s4 1.79 4 4c0 .88-.36 1.68-.93 2.25z\"></path></svg></span></a><span class=\"hELpae\"><a href=\"/url?url=https://support.google.com/websearch?p%3Dfeatured_snippets%26hl%3Den-GB&amp;rct=j&amp;q=&amp;esrc=s&amp;usg=AOvVaw3yEGS1Djvre93x1ZE7hMnD&amp;hl=en-GB&amp;sa=X&amp;ved=2ahUKEwjW2LOJ0YP_AhVzUqQEHahqDI4QrpwBegQICRAC\">About featured snippets</a></span><span aria-hidden=\"true\" style=\"padding:0 12px\">•</span></div><div class=\"OwRFvb P58Kof kno-fb\"><div data-async-context=\"async_id:duf3-1-1;authority:0;card_id:;entry_point:0;feature_id:;ftoe:0;header:0;is_jobs_spam_form:0;open:0;preselect_answer_index:-1;suggestions:;suggestions_subtypes:;suggestions_types:;surface:0;title:;type:1\"><div jsaction=\"rcuQ6b:npT2md\" jscontroller=\"EkevXb\" style=\"display:none\"></div><div class=\"yp\" data-async-context-required=\"type,open,feature_id,async_id,entry_point,authority,card_id,ftoe,title,header,suggestions,surface,suggestions_types,suggestions_subtypes,preselect_answer_index,is_jobs_spam_form\" data-async-type=\"duffy3\" data-jiis=\"up\" data-ved=\"2ahUKEwjW2LOJ0YP_AhVzUqQEHahqDI4Q-0F6BAgJEAM\" id=\"duf3-1-1\"></div><span><span aria-hidden=\"true\" class=\"RTZ84b z1asCe Msi2Rc\" data-async-trigger=\"duf3-1-1\" data-ved=\"2ahUKEwjW2LOJ0YP_AhVzUqQEHahqDI4Qtw96BAgJEAQ\" jsaction=\"trigger.szjOR\" role=\"link\" style=\"height:14px;line-height:14px;width:14px\" tabindex=\"-1\"><svg focusable=\"false\" viewbox=\"0 0 24 24\" xmlns=\"http://www.w3.org/2000/svg\"><path d=\"M20 2H4c-1.1 0-1.99.9-1.99 2L2 22l4-4h14c1.1 0 2-.9 2-2V4c0-1.1-.9-2-2-2zm-7 9h-2V5h2v6zm0 4h-2v-2h2v2z\"></path></svg></span><a aria-label=\"Give feedback on this result\" class=\"XEKxtf\" data-async-trigger=\"duf3-1-1\" data-ved=\"2ahUKEwjW2LOJ0YP_AhVzUqQEHahqDI4Qtw96BAgJEAU\" href=\"#\" jsaction=\"trigger.szjOR\" role=\"button\">Feedback</a></span></div></div></div></div></div></div></div>,\n",
       " <div class=\"g\"><div data-hveid=\"CAgQAA\" data-ved=\"2ahUKEwjW2LOJ0YP_AhVzUqQEHahqDI4QFSgAegQICBAA\" lang=\"it\"><div class=\"tF2Cxc\"><div class=\"yuRUbf\"><a data-ved=\"2ahUKEwjW2LOJ0YP_AhVzUqQEHahqDI4QFnoECAgQAw\" href=\"https://www.netatmo.com/it-it/blog/burglary-france\" ping=\"/url?sa=t&amp;source=web&amp;rct=j&amp;url=https://www.netatmo.com/it-it/blog/burglary-france&amp;ved=2ahUKEwjW2LOJ0YP_AhVzUqQEHahqDI4QFnoECAgQAw\"><br/><h3 class=\"LC20lb MBeuO DKV0Md\">Criminalità in Italia: cosa dicono i numeri sui furti - Netatmo</h3><div class=\"TbwUpd NJjxre iUh30 apx8Vc ojE3Fb\"><span class=\"H9lube\"><div aria-hidden=\"true\" class=\"eqA2re NjwKYd Vwoesf\"><img alt=\"\" class=\"XNo5Ab\" src=\"data:image/png;base64,iVBORw0KGgoAAAANSUhEUgAAACAAAAAgCAMAAABEpIrGAAAAXVBMVEVHcEwABQDkexL0ihS6Yg6ZVw3/jxX/kRXXaw7Gag/uhRT8jRSsXA1sOgnLchHsfRLUeBH9eBH2dA/1fRH/oxf5eBDzcA79exHuZgv/mRbqXQniUAbgSAP/eBHLNwBToZCDAAAAH3RSTlMAEtH/d0D//7+U9f5ZKaPosYD//f/////////+///uIpNYtAAAAPhJREFUeAF900WSxTAMBNCgFGam+x9zDCWVfhxPb/sl5uA3YRQnwT9JYwDM/H0OOliEnj5CsCmrr7qOgYON2ycliGD7Hqaj35OIU1mHBbgR6614eBmMxOo+ARQ1r85DzHqTkoErYgX6YfSJcpo0mJfF8/1kwTov29cw+0RAC2eYEicBlNjw1e87AyWGZTvkMKUaQYWAFeeIogeUwIprQ65JaHCTOK6zRO6VIGDFMGzHda3IvZmGBVbMixKPPDlkwCKzN5sFARolMbenFeIHLDXfPxcoEYkrVpIgoJIHInXxBkPlviIJWve1JRJkvpccm585v6dkcRX8AVtwH+DlYbhWAAAAAElFTkSuQmCC\" style=\"height:18px;width:18px\"/></div></span><div><span class=\"VuuXrf\">Netatmo</span><div class=\"byrV5b\"><cite class=\"apx8Vc qLRx3b tjvcx GvPZzd cHaqb\" role=\"text\" style=\"max-width:330px\">https://www.netatmo.com<span class=\"apx8Vc dyjrff ob9lvb\" role=\"text\"> › it-it › blog › burglary-france</span></cite></div></div></div></a><div class=\"B6fmyf byrV5b Mg1HEd\"><div class=\"TbwUpd iUh30 apx8Vc ojE3Fb\"><span class=\"H9lube\"><div class=\"eqA2re NjwKYd\" style=\"height:18px;width:18px\"></div></span><div><span class=\"VuuXrf\">Netatmo</span><div class=\"byrV5b\"><cite class=\"apx8Vc qLRx3b tjvcx GvPZzd cHaqb\" role=\"text\" style=\"max-width:330px\">https://www.netatmo.com<span class=\"apx8Vc dyjrff ob9lvb\" role=\"text\"> › it-it › blog › burglary-france</span></cite><div class=\"eFM0qc BCF2pd iUh30\"></div></div></div></div><div class=\"csDOgf BCF2pd L48a4c\"><div data-bsextraheight=\"0\" data-isdesktop=\"true\" data-ved=\"2ahUKEwjW2LOJ0YP_AhVzUqQEHahqDI4Q2esEegQICBAL\" jscontroller=\"exgaYe\" jsdata=\"l7Bhpb;_;Cky1FY cECq7c;_;Cky1Fc\"><div aria-label=\"Informazioni su questo risultato\" class=\"iTPLzd rNSxBe lUn2nc\" jsaction=\"RvIhPd\" jsname=\"I3kE2c\" role=\"button\" style=\"position:absolute\" tabindex=\"0\"><span class=\"D6lY4c mBswFe\" jsname=\"czHhOd\"><span class=\"xTFaxe z1asCe SaPW2b\" jsname=\"Bil8Ae\" style=\"height:18px;line-height:18px;width:18px\"><svg focusable=\"false\" viewbox=\"0 0 24 24\" xmlns=\"http://www.w3.org/2000/svg\"><path d=\"M12 8c1.1 0 2-.9 2-2s-.9-2-2-2-2 .9-2 2 .9 2 2 2zm0 2c-1.1 0-2 .9-2 2s.9 2 2 2 2-.9 2-2-.9-2-2-2zm0 6c-1.1 0-2 .9-2 2s.9 2 2 2 2-.9 2-2-.9-2-2-2z\"></path></svg></span></span></div><span data-ved=\"2ahUKEwjW2LOJ0YP_AhVzUqQEHahqDI4Qh-4GegQICBAM\" jsname=\"zOVa8\"></span></div></div></div></div><div class=\"IsZvec\"><span class=\"aCOpRe ljeAnf\" style=\"-webkit-line-clamp:2\"></span></div></div></div></div>,\n",
       " <div class=\"g Ww4FFb vt6azd tF2Cxc asEBEc\" data-hveid=\"CBoQAA\" data-ved=\"2ahUKEwjW2LOJ0YP_AhVzUqQEHahqDI4QFSgAegQIGhAA\" jsaction=\"QyLbLe:OMITjf;ewaord:qsYrDe;xd28Mb:A6j43c\" jscontroller=\"SC7lYd\" lang=\"it\" style=\"width:600px\"><div class=\"kvH3mc BToiNc UK95Uc\" data-snc=\"ih6Jnb_cxqROe\"><div class=\"Z26q7c UK95Uc jGGQ5e\" data-snf=\"x5WNvb\" data-snhf=\"0\"><div class=\"yuRUbf\"><a data-ved=\"2ahUKEwjW2LOJ0YP_AhVzUqQEHahqDI4QFnoECA8QAQ\" href=\"https://lab24.ilsole24ore.com/indice-della-criminalita/\" ping=\"/url?sa=t&amp;source=web&amp;rct=j&amp;url=https://lab24.ilsole24ore.com/indice-della-criminalita/&amp;ved=2ahUKEwjW2LOJ0YP_AhVzUqQEHahqDI4QFnoECA8QAQ\"><br/><h3 class=\"LC20lb MBeuO DKV0Md\">Reati, furti, rapine: trova l'indice della criminalità 2022 ... - Lab24</h3><div class=\"TbwUpd NJjxre iUh30 apx8Vc ojE3Fb\"><span class=\"H9lube fJOpI\"><div aria-hidden=\"true\" class=\"eqA2re NjwKYd Vwoesf\"><span class=\"Jj3Uob XNo5Ab z1asCe GYDk8c\" style=\"height:18px;line-height:18px;width:18px\"><svg focusable=\"false\" viewbox=\"0 0 24 24\" xmlns=\"http://www.w3.org/2000/svg\"><path d=\"M12 2C6.48 2 2 6.48 2 12s4.48 10 10 10 10-4.48 10-10S17.52 2 12 2zm-1 17.93c-3.95-.49-7-3.85-7-7.93 0-.62.08-1.21.21-1.79L9 15v1c0 1.1.9 2 2 2v1.93zm6.9-2.54c-.26-.81-1-1.39-1.9-1.39h-1v-3c0-.55-.45-1-1-1H8v-2h2c.55 0 1-.45 1-1V7h2c1.1 0 2-.9 2-2v-.41c2.93 1.19 5 4.06 5 7.41 0 2.08-.8 3.97-2.1 5.39z\"></path></svg></span></div></span><div><span class=\"VuuXrf\">ilsole24ore.com</span><div class=\"byrV5b\"><cite class=\"apx8Vc qLRx3b tjvcx GvPZzd cHaqb\" role=\"text\" style=\"max-width:212px\">https://lab24.ilsole24ore.com<span class=\"apx8Vc dyjrff ob9lvb\" role=\"text\"> › indi...</span></cite></div></div></div></a><div class=\"B6fmyf byrV5b Mg1HEd\"><div class=\"TbwUpd iUh30 apx8Vc ojE3Fb\"><span class=\"H9lube fJOpI\"><div class=\"eqA2re NjwKYd\" style=\"height:18px;width:18px\"></div></span><div><span class=\"VuuXrf\">ilsole24ore.com</span><div class=\"byrV5b\"><cite class=\"apx8Vc qLRx3b tjvcx GvPZzd cHaqb\" role=\"text\" style=\"max-width:212px\">https://lab24.ilsole24ore.com<span class=\"apx8Vc dyjrff ob9lvb\" role=\"text\"> › indi...</span></cite><div class=\"eFM0qc BCF2pd iUh30\"><span class=\"LAWljd BCF2pd\"> · </span><a class=\"fl iUh30\" href=\"https://translate.google.com/translate?hl=en&amp;sl=it&amp;u=https://lab24.ilsole24ore.com/indice-della-criminalita/&amp;prev=search&amp;pto=aue\" ping=\"/url?sa=t&amp;source=web&amp;rct=j&amp;url=https://translate.google.com/translate%3Fhl%3Den%26sl%3Dit%26u%3Dhttps://lab24.ilsole24ore.com/indice-della-criminalita/%26prev%3Dsearch%26pto%3Daue&amp;ved=2ahUKEwjW2LOJ0YP_AhVzUqQEHahqDI4Q7gF6BAgPEAo\"><span>Translate this page</span></a></div></div></div></div><div class=\"csDOgf BCF2pd L48a4c\"><div data-bsextraheight=\"0\" data-isdesktop=\"true\" data-ved=\"2ahUKEwjW2LOJ0YP_AhVzUqQEHahqDI4Q2esEegQIDxAL\" jscontroller=\"exgaYe\" jsdata=\"l7Bhpb;_;Cky1Fg cECq7c;_;Cky1Fk\"><div aria-label=\"About this result\" class=\"iTPLzd rNSxBe lUn2nc\" jsaction=\"RvIhPd\" jsname=\"I3kE2c\" role=\"button\" style=\"position:absolute\" tabindex=\"0\"><span class=\"D6lY4c mBswFe\" jsname=\"czHhOd\"><span class=\"xTFaxe z1asCe SaPW2b\" jsname=\"Bil8Ae\" style=\"height:18px;line-height:18px;width:18px\"><svg focusable=\"false\" viewbox=\"0 0 24 24\" xmlns=\"http://www.w3.org/2000/svg\"><path d=\"M12 8c1.1 0 2-.9 2-2s-.9-2-2-2-2 .9-2 2 .9 2 2 2zm0 2c-1.1 0-2 .9-2 2s.9 2 2 2 2-.9 2-2-.9-2-2-2zm0 6c-1.1 0-2 .9-2 2s.9 2 2 2 2-.9 2-2-.9-2-2-2z\"></path></svg></span></span></div><span data-ved=\"2ahUKEwjW2LOJ0YP_AhVzUqQEHahqDI4Qh-4GegQIDxAM\" jsname=\"zOVa8\"></span></div></div></div></div></div><div class=\"Z26q7c UK95Uc\" data-sncf=\"1\" data-snf=\"nke7rc\"><div class=\"VwiC3b yXK7lf MUxGbd yDYNvb lyLwlc lEBKkf\" style=\"-webkit-line-clamp:2\">Stupefacenti. 17 · 63,7. punteggio ; Classifica finale. 1 ; Omicidi volontari consumati. 37 · 0,6. punteggio ; Tentati omicidi. 39 · 1,7. punteggio ; Violenze sessuali.</div></div><div class=\"Z26q7c UK95Uc\" data-snf=\"bvRFlf\"><div data-ved=\"2ahUKEwjW2LOJ0YP_AhVzUqQEHahqDI4Q2Z0BegQIGxAA\" id=\"eob_1\" jsaction=\"rcuQ6b:npT2md\" jscontroller=\"K6HGfd\" jsdata=\"fxg5tf;_;Cky1Fo\"></div></div></div></div>,\n",
       " <div class=\"g Ww4FFb vt6azd tF2Cxc asEBEc\" data-hveid=\"CCkQAA\" data-ved=\"2ahUKEwjW2LOJ0YP_AhVzUqQEHahqDI4QFSgAegQIKRAA\" jsaction=\"QyLbLe:OMITjf;ewaord:qsYrDe;xd28Mb:A6j43c\" jscontroller=\"SC7lYd\" lang=\"it\" style=\"width:600px\"><div class=\"kvH3mc BToiNc UK95Uc\" data-snc=\"ih6Jnb_y1a6hc\"><div class=\"Z26q7c UK95Uc jGGQ5e\" data-snf=\"x5WNvb\" data-snhf=\"0\"><div class=\"yuRUbf\"><a data-ved=\"2ahUKEwjW2LOJ0YP_AhVzUqQEHahqDI4QFnoECB8QAQ\" href=\"https://www.quotidiano.net/cronaca/furti-rapine-violenze-sessuali-italia-2022-1.8423068\" ping=\"/url?sa=t&amp;source=web&amp;rct=j&amp;url=https://www.quotidiano.net/cronaca/furti-rapine-violenze-sessuali-italia-2022-1.8423068&amp;ved=2ahUKEwjW2LOJ0YP_AhVzUqQEHahqDI4QFnoECB8QAQ\"><br/><h3 class=\"LC20lb MBeuO DKV0Md\">In Italia aumentano furti (+20%) e rapine (+18). Il report ...</h3><div class=\"TbwUpd NJjxre iUh30 apx8Vc ojE3Fb\"><span class=\"H9lube\"><div aria-hidden=\"true\" class=\"eqA2re NjwKYd Vwoesf\"><img alt=\"\" class=\"XNo5Ab\" src=\"data:image/png;base64,iVBORw0KGgoAAAANSUhEUgAAACAAAAAgCAYAAABzenr0AAAEBElEQVR4AWIgCngvZ2TwWiYKxF5A3A3EOwHFVwOQXUsQje182yp9u/xtM7Zt2yjF5jrW2rZt21vZp5PuqZupqbybNbrqXA36dN/unhlCHCFfQzx/09q+0/r27NFuoUkILxNWEUIINQQ0gxruq415qcd3RL6NyocR5hBSCBYCWgkek0yYTRjaWuUvEWwJBgLaCYM214stVf4WwYeADoYPz90Sy6XyTiLx0sOUD9VchU6GDevSIzBX/vPOhUEEtypaqiXpDviWcQE9viHQXb+PREvbklinSmCV7kBSOvg3ezw7/gpemXIdz4y7goG/2PF3OWHvH2ww/E8HjPzLUdx7f28j5+j3ky1G0HduG/qHA3p+r+ognSxa1QpWlbOlw393wKyDofCMKUZGUS3yyxuQXlgL54hCTNgXhEFM5OsLeGvGTXjHliAirQKhKeX4e7ufIMj4crWH+BaVXgkb7ywMJxKKJ4KFbq101qiWD/3dHkdvp8FoskBPGg1m7HJIQB+y/v35d1Bdb5Bt8dlVeH3qdfT48jz+JDIms5hDkBj1t6NKoIZ1M4FdBEgQ83F7A2EwmiGU0f3QzVT8u9MfZ9wz5IS1DUZ8RRa+M/e2IKDKKdd0Qe7PbSqBCoWAxC4m4KwS4IF2PtlysuDkMoz+iwZ+eQ7PjL2MxNxq2bb/chLem3cHVQ8QaGg04f9dAfhji29zBJyZQJzq/mH0n4KTyuRklwNyBSlu4wD0jC6SbVeD8vDpYhdU1QkCQpnRZAZLXFYV1p+PgYHfH04gjgnkqQRGkbWR1Pm+OPnnoLdGYAARcIuSBHAnvACfL3WVBAorGth7gojFAuSXNTTngTwrAkMo7fziS6SSK4HSAyLyvSgr7ssl/1x8sshF/oLc0np6d4ZzeCFUaY5AnPKBc5WCKEMODKf0euxfJxEDL0y4itT8Gtm23T4e7yoxkEcWvzjxKj5a4MxkWkIgTgahmgW/bPZB/V0jWDgVbbyyMOdQGHkjD2bNpeU1jfhsiauaBYLAy5Ovifow52AYZ1BzBJxlGqoY8LMtWyeiWU9qGgxYfjJS9JV1QCXAFfRXO5zzyFQIVOqnoVqIJDjif7bD71t9ccEzE1nFdSDRlNTjN0qvvhwXpOg1KjqcKa6RhbhInnpqzGW5drxG5duWgtKdApdrydDfHawKkX4pVn5HL4qJTyjVOBZKqu4ig8rx2D0BSszYoP/PtgQ7vtO7agivB6JN3HvKuZVSbL0YWaMnTfQ0FaE3p99giGDsJRedNmNVC5ZjCelWZVluD+RyrJKY010bEnVLZtMdW7Lu35R2/7bcmsSL3XQwsYqJ2YTkrj+aSRLiVPxSNxxOrbyhdzyPV47ncVbH8+9bpvgemCmVjOCkFloAAAAASUVORK5CYII=\" style=\"height:18px;width:18px\"/></div></span><div><span class=\"VuuXrf\">quotidiano.net</span><div class=\"byrV5b\"><cite class=\"apx8Vc qLRx3b tjvcx GvPZzd cHaqb\" role=\"text\" style=\"max-width:212px\">https://www.quotidiano.net<span class=\"apx8Vc dyjrff ob9lvb\" role=\"text\"> › cronaca</span></cite></div></div></div></a><div class=\"B6fmyf byrV5b Mg1HEd\"><div class=\"TbwUpd iUh30 apx8Vc ojE3Fb\"><span class=\"H9lube\"><div class=\"eqA2re NjwKYd\" style=\"height:18px;width:18px\"></div></span><div><span class=\"VuuXrf\">quotidiano.net</span><div class=\"byrV5b\"><cite class=\"apx8Vc qLRx3b tjvcx GvPZzd cHaqb\" role=\"text\" style=\"max-width:212px\">https://www.quotidiano.net<span class=\"apx8Vc dyjrff ob9lvb\" role=\"text\"> › cronaca</span></cite><div class=\"eFM0qc BCF2pd iUh30\"><span class=\"LAWljd BCF2pd\"> · </span><a class=\"fl iUh30\" href=\"https://translate.google.com/translate?hl=en&amp;sl=it&amp;u=https://www.quotidiano.net/cronaca/furti-rapine-violenze-sessuali-italia-2022-1.8423068&amp;prev=search&amp;pto=aue\" ping=\"/url?sa=t&amp;source=web&amp;rct=j&amp;url=https://translate.google.com/translate%3Fhl%3Den%26sl%3Dit%26u%3Dhttps://www.quotidiano.net/cronaca/furti-rapine-violenze-sessuali-italia-2022-1.8423068%26prev%3Dsearch%26pto%3Daue&amp;ved=2ahUKEwjW2LOJ0YP_AhVzUqQEHahqDI4Q7gF6BAgfEAo\"><span>Translate this page</span></a></div></div></div></div><div class=\"csDOgf BCF2pd L48a4c\"><div data-bsextraheight=\"0\" data-isdesktop=\"true\" data-ved=\"2ahUKEwjW2LOJ0YP_AhVzUqQEHahqDI4Q2esEegQIHxAL\" jscontroller=\"exgaYe\" jsdata=\"l7Bhpb;_;Cky1Fw cECq7c;_;Cky1F8\"><div aria-label=\"About this result\" class=\"iTPLzd rNSxBe lUn2nc\" jsaction=\"RvIhPd\" jsname=\"I3kE2c\" role=\"button\" style=\"position:absolute\" tabindex=\"0\"><span class=\"D6lY4c mBswFe\" jsname=\"czHhOd\"><span class=\"xTFaxe z1asCe SaPW2b\" jsname=\"Bil8Ae\" style=\"height:18px;line-height:18px;width:18px\"><svg focusable=\"false\" viewbox=\"0 0 24 24\" xmlns=\"http://www.w3.org/2000/svg\"><path d=\"M12 8c1.1 0 2-.9 2-2s-.9-2-2-2-2 .9-2 2 .9 2 2 2zm0 2c-1.1 0-2 .9-2 2s.9 2 2 2 2-.9 2-2-.9-2-2-2zm0 6c-1.1 0-2 .9-2 2s.9 2 2 2 2-.9 2-2-.9-2-2-2z\"></path></svg></span></span></div><span data-ved=\"2ahUKEwjW2LOJ0YP_AhVzUqQEHahqDI4Qh-4GegQIHxAM\" jsname=\"zOVa8\"></span></div></div></div></div></div><div class=\"Z26q7c UK95Uc\" data-sncf=\"1\" data-snf=\"nke7rc\"><div class=\"VwiC3b yXK7lf MUxGbd yDYNvb lyLwlc lEBKkf\" style=\"-webkit-line-clamp:2\"><span>In <em>Italia</em> aumentano <em>furti</em> (+20%) e rapine (+18). Il report 2022 della polizia sui crimini. Il confronto con il 2021 e il pre-pandemia Covid.</span></div></div><div class=\"Z26q7c UK95Uc\" data-snf=\"bvRFlf\"><div data-ved=\"2ahUKEwjW2LOJ0YP_AhVzUqQEHahqDI4Q2Z0BegQILhAA\" id=\"eob_2\" jsaction=\"rcuQ6b:npT2md\" jscontroller=\"K6HGfd\" jsdata=\"fxg5tf;_;Cky1Go\"></div></div></div></div>,\n",
       " <div class=\"g Ww4FFb vt6azd tF2Cxc asEBEc\" data-hveid=\"CCoQAA\" data-ved=\"2ahUKEwjW2LOJ0YP_AhVzUqQEHahqDI4QFSgAegQIKhAA\" jsaction=\"QyLbLe:OMITjf;ewaord:qsYrDe;xd28Mb:A6j43c\" jscontroller=\"SC7lYd\" lang=\"it\" style=\"width:600px\"><div class=\"kvH3mc BToiNc UK95Uc\" data-snc=\"ih6Jnb_FsMale\"><div class=\"Z26q7c UK95Uc jGGQ5e\" data-snf=\"x5WNvb\" data-snhf=\"0\"><div class=\"yuRUbf\"><a data-ved=\"2ahUKEwjW2LOJ0YP_AhVzUqQEHahqDI4QFnoECCEQAQ\" href=\"https://www.truenumbers.it/furti-in-casa/\" ping=\"/url?sa=t&amp;source=web&amp;rct=j&amp;url=https://www.truenumbers.it/furti-in-casa/&amp;ved=2ahUKEwjW2LOJ0YP_AhVzUqQEHahqDI4QFnoECCEQAQ\"><br/><h3 class=\"LC20lb MBeuO DKV0Md\">Furti in casa in Italia: colpite 10,3 famiglie ogni mille</h3><div class=\"TbwUpd NJjxre iUh30 apx8Vc ojE3Fb\"><span class=\"H9lube\"><div aria-hidden=\"true\" class=\"eqA2re NjwKYd Vwoesf\"><img alt=\"\" class=\"XNo5Ab\" src=\"data:image/png;base64,iVBORw0KGgoAAAANSUhEUgAAACAAAAAgCAYAAABzenr0AAAExUlEQVR4Ae1WRWAbOxCVdtfMdpiTMreXMjMzM3N7KdOlzL195jIzMzMzoxPHFKgxS3/kbANOPv+emreeJUkzTzNPWqMylOGLB/ZyvIYXBEokD3D8FUL9wBgscpjCQZTHIo7jlBhjSqPRcNAUBBPhufg4UUQEPp+PYVlWSdwwDCPgbx6/HPCR5TTQTiMcFklC0ffED4URb1bI3hlU6stvt66XZeXkNM/NzbWAQ1vlypWvjBkzxhlOQiJAr1+/PvHu3bsNBUHQGI1GL3Mp0znLEQiaOAHJwLEELJJ7nB8PC2LIRahVIEwpzCdp1Gej9PyTh+fPaa22zPF2u726QqFIdzgcX0dFRe1csGBBNgkalgn65s2bVQ4dOjSV5/nY+Ph4F2SSxMnvV4SvHIIaIK4M3rFgOQiuCIClA0mDwBEDZiYOvV5v1P3790dDJjLnz59/YvXq1QEUBuinhJLFwDUOrphpGBOxJlQCJDLgWASfoiuQl/As52N/D8ulaGWMtZJBt9milFuBFIYMQOkxlED+JiE+wf1QrjDRNM1BUKIFOjs7u9bTp08JCUfz5s1vLFmyhJ83bx4ikEiLpPZwFULjuiTH7+JCIsxPRYRSIS65/bga3LcGSwFzyWlq3+RqFR7YfP58sUI14B0XrWJ839E0RhLAoQi1VWZmZjbVarUZ9+7dy16+fPnzRo0aCeGCJEbAxKmVnqINrQ+dRVVN+gBp/mQelg+aftvj8QzrUVBT0len06H27dsjqdaiSqXKlcvlHpfLFfnq1asuer3e9u233/4wbty4dMlVCVAoDCdvPQQ1UrRUbviFZkt5Z6z+0+WMADDr9AoVKhwEYu/9fn/sw4cPB1y6dKnT3r17DePHj0d/iwDCVOmLP8qMSkORjGAI6rNYLEeAxAFYEdmwNMtDGUbu27evaYsWLZSlE/i7EP+6FZRNeTyeD7C81sfExJwDTbBut7vW48ePRx87dqwWiScCwgj8fyC7IQDPmDHjQcWKFX8wm823QZQym83W5N27dyPWrVuXStQvAj4LAQJCIDU1NdijR4+LNWvW/AmE+DwYDOrfvn3b8cGDB71BpCZC4lPpGPQZIE0wG2Z+iIjxzp07Y+EaB3roC/q4pATAsyhl4PMAgqOxY8faypcvvzUtLW0/zDzX6XSWf/bsWQeO44ii/yEBjP4RQIRo1apVQo0aNV4mJSX9HBsbe5YEBRIJgUBA9SfLEBePiSWDtP5TzJw5E1mtVr5Tp073K1Wq9IPJZLoD5eFBmBhQOgESiOz3YDQviAiMJs8o14PCAY7I0sNgDKSV3FPEOSqC6dOnox07dgS6d+9+AbLxE2xWL6CfyLIsRcYxJWWMEY0xx2DsYihsA3PRGHFIRpWmeMQwDCeTyVxgNjAn+cCEb1SSKHMkUUbeunVrILzTwVh3Ca/96tVEdSwma+OYyG9bxEUtahwT8W1NszEddWmFwjFo0CDUuHHjjHbt2n0Py25R586dv2nQoMH70nZL2IzQkCFDbPXr11/frVu3RdB/aZs2bdaVWD6OQBDl5rE0fJLVdn9A5wzkaXLzOPq1x0/ai/WFrx6CnY6CPyPqjIwMHVw1OTk5dNGvXbh/actWw1idw+HQoDKU4YvH7yGbe+Zr63DIAAAAAElFTkSuQmCC\" style=\"height:18px;width:18px\"/></div></span><div><span class=\"VuuXrf\">truenumbers.it</span><div class=\"byrV5b\"><cite class=\"apx8Vc qLRx3b tjvcx GvPZzd cHaqb\" role=\"text\" style=\"max-width:212px\">https://www.truenumbers.it<span class=\"apx8Vc dyjrff ob9lvb\" role=\"text\"> › furti-i...</span></cite></div></div></div></a><div class=\"B6fmyf byrV5b Mg1HEd\"><div class=\"TbwUpd iUh30 apx8Vc ojE3Fb\"><span class=\"H9lube\"><div class=\"eqA2re NjwKYd\" style=\"height:18px;width:18px\"></div></span><div><span class=\"VuuXrf\">truenumbers.it</span><div class=\"byrV5b\"><cite class=\"apx8Vc qLRx3b tjvcx GvPZzd cHaqb\" role=\"text\" style=\"max-width:212px\">https://www.truenumbers.it<span class=\"apx8Vc dyjrff ob9lvb\" role=\"text\"> › furti-i...</span></cite><div class=\"eFM0qc BCF2pd iUh30\"><span class=\"LAWljd BCF2pd\"> · </span><a class=\"fl iUh30\" href=\"https://translate.google.com/translate?hl=en&amp;sl=it&amp;u=https://www.truenumbers.it/furti-in-casa/&amp;prev=search&amp;pto=aue\" ping=\"/url?sa=t&amp;source=web&amp;rct=j&amp;url=https://translate.google.com/translate%3Fhl%3Den%26sl%3Dit%26u%3Dhttps://www.truenumbers.it/furti-in-casa/%26prev%3Dsearch%26pto%3Daue&amp;ved=2ahUKEwjW2LOJ0YP_AhVzUqQEHahqDI4Q7gF6BAghEAo\"><span>Translate this page</span></a></div></div></div></div><div class=\"csDOgf BCF2pd L48a4c\"><div data-bsextraheight=\"0\" data-isdesktop=\"true\" data-ved=\"2ahUKEwjW2LOJ0YP_AhVzUqQEHahqDI4Q2esEegQIIRAL\" jscontroller=\"exgaYe\" jsdata=\"l7Bhpb;_;Cky1GI cECq7c;_;Cky1GM\"><div aria-label=\"About this result\" class=\"iTPLzd rNSxBe lUn2nc\" jsaction=\"RvIhPd\" jsname=\"I3kE2c\" role=\"button\" style=\"position:absolute\" tabindex=\"0\"><span class=\"D6lY4c mBswFe\" jsname=\"czHhOd\"><span class=\"xTFaxe z1asCe SaPW2b\" jsname=\"Bil8Ae\" style=\"height:18px;line-height:18px;width:18px\"><svg focusable=\"false\" viewbox=\"0 0 24 24\" xmlns=\"http://www.w3.org/2000/svg\"><path d=\"M12 8c1.1 0 2-.9 2-2s-.9-2-2-2-2 .9-2 2 .9 2 2 2zm0 2c-1.1 0-2 .9-2 2s.9 2 2 2 2-.9 2-2-.9-2-2-2zm0 6c-1.1 0-2 .9-2 2s.9 2 2 2 2-.9 2-2-.9-2-2-2z\"></path></svg></span></span></div><span data-ved=\"2ahUKEwjW2LOJ0YP_AhVzUqQEHahqDI4Qh-4GegQIIRAM\" jsname=\"zOVa8\"></span></div></div></div></div></div><div class=\"Z26q7c UK95Uc\" data-sncf=\"1\" data-snf=\"nke7rc\"><div class=\"VwiC3b yXK7lf MUxGbd yDYNvb lyLwlc lEBKkf\" style=\"-webkit-line-clamp:2\"><span>La città dove i ladri entrano più spesso in casa è Milano con 11.097 <em>furti</em> in appartamento denunciati. La seconda è Roma con 10.474 <em>furti</em> in casa denunciati. In ...</span></div></div><div class=\"Z26q7c UK95Uc\" data-snf=\"bvRFlf\"><div data-ved=\"2ahUKEwjW2LOJ0YP_AhVzUqQEHahqDI4Q2Z0BegQILRAA\" id=\"eob_4\" jsaction=\"rcuQ6b:npT2md\" jscontroller=\"K6HGfd\" jsdata=\"fxg5tf;_;Cky1Gw\"></div></div></div></div>,\n",
       " <div class=\"g Ww4FFb vt6azd tF2Cxc asEBEc\" data-hveid=\"CDYQAA\" data-ved=\"2ahUKEwjW2LOJ0YP_AhVzUqQEHahqDI4QFSgAegQINhAA\" jsaction=\"QyLbLe:OMITjf;ewaord:qsYrDe;xd28Mb:A6j43c\" jscontroller=\"SC7lYd\" lang=\"it\" style=\"width:600px\"><div class=\"kvH3mc BToiNc UK95Uc\" data-snc=\"ih6Jnb_q9xXCb\"><div class=\"Z26q7c UK95Uc jGGQ5e\" data-snf=\"x5WNvb\" data-snhf=\"0\"><div class=\"yuRUbf\"><a data-ved=\"2ahUKEwjW2LOJ0YP_AhVzUqQEHahqDI4QFnoECCMQAQ\" href=\"https://www.iodonna.it/attualita/costume-e-societa/2022/10/04/furti-rapine-e-scippi-la-classifica-delle-citta-piu-pericolose-ditalia/\" ping=\"/url?sa=t&amp;source=web&amp;rct=j&amp;url=https://www.iodonna.it/attualita/costume-e-societa/2022/10/04/furti-rapine-e-scippi-la-classifica-delle-citta-piu-pericolose-ditalia/&amp;ved=2ahUKEwjW2LOJ0YP_AhVzUqQEHahqDI4QFnoECCMQAQ\"><br/><h3 class=\"LC20lb MBeuO DKV0Md\">La classifica delle città più pericolose d'Italia</h3><div class=\"TbwUpd NJjxre iUh30 apx8Vc ojE3Fb\"><span class=\"H9lube\"><div aria-hidden=\"true\" class=\"eqA2re NjwKYd Vwoesf\"><img alt=\"\" class=\"XNo5Ab\" src=\"data:image/png;base64,iVBORw0KGgoAAAANSUhEUgAAACAAAAAWCAMAAACWh252AAAAPFBMVEVHcEwAAAAAAAAAAAAAAAAAAAAAAAAAAAAAAAAAAAAAAAAAAAAAAAAAAAAAAAAAAAAAAAAAAAAAAAAAAACHr/7WAAAAFHRSTlMAaFwgeIelz8T/LdmV9kPpDDpQtJ4j2FsAAADVSURBVHgBXc+BioUgFADReVnZVJq2//+vu6w8ww6AVxzgCvCZ6MI8z8sa4xLoNl1oQmwT++axQ6NubZoNfE169jG1+DTwyLoxmF1ed1ceBGV0aOYRXRllvaD8CQGCTrwkrdxL0hkWDbyc7SdZPxC18JI1Avt/kJSQYd+pAfZAKEVTD1RqLeWu1A9lquSM2oIJ1MCbph4cevOmRw/axqOiZw+yJl6y1h5waWa0ePEEtx6Mkpn+Tfhp52NyBaB+H6LWYcWNMeBnWCOtNKvflHy5hjbesbW/kR4JeEDsV6oAAAAASUVORK5CYII=\" style=\"height:18px;width:18px\"/></div></span><div><span class=\"VuuXrf\">iodonna.it</span><div class=\"byrV5b\"><cite class=\"apx8Vc qLRx3b tjvcx GvPZzd cHaqb\" role=\"text\" style=\"max-width:212px\">https://www.iodonna.it<span class=\"apx8Vc dyjrff ob9lvb\" role=\"text\"> › 2022/10/04</span></cite></div></div></div></a><div class=\"B6fmyf byrV5b Mg1HEd\"><div class=\"TbwUpd iUh30 apx8Vc ojE3Fb\"><span class=\"H9lube\"><div class=\"eqA2re NjwKYd\" style=\"height:18px;width:18px\"></div></span><div><span class=\"VuuXrf\">iodonna.it</span><div class=\"byrV5b\"><cite class=\"apx8Vc qLRx3b tjvcx GvPZzd cHaqb\" role=\"text\" style=\"max-width:212px\">https://www.iodonna.it<span class=\"apx8Vc dyjrff ob9lvb\" role=\"text\"> › 2022/10/04</span></cite><div class=\"eFM0qc BCF2pd iUh30\"><span class=\"LAWljd BCF2pd\"> · </span><a class=\"fl iUh30\" href=\"https://translate.google.com/translate?hl=en&amp;sl=it&amp;u=https://www.iodonna.it/attualita/costume-e-societa/2022/10/04/furti-rapine-e-scippi-la-classifica-delle-citta-piu-pericolose-ditalia/&amp;prev=search&amp;pto=aue\" ping=\"/url?sa=t&amp;source=web&amp;rct=j&amp;url=https://translate.google.com/translate%3Fhl%3Den%26sl%3Dit%26u%3Dhttps://www.iodonna.it/attualita/costume-e-societa/2022/10/04/furti-rapine-e-scippi-la-classifica-delle-citta-piu-pericolose-ditalia/%26prev%3Dsearch%26pto%3Daue&amp;ved=2ahUKEwjW2LOJ0YP_AhVzUqQEHahqDI4Q7gF6BAgjEAo\"><span>Translate this page</span></a></div></div></div></div><div class=\"csDOgf BCF2pd L48a4c\"><div data-bsextraheight=\"0\" data-isdesktop=\"true\" data-ved=\"2ahUKEwjW2LOJ0YP_AhVzUqQEHahqDI4Q2esEegQIIxAL\" jscontroller=\"exgaYe\" jsdata=\"l7Bhpb;_;Cky1GQ cECq7c;_;Cky1Gg\"><div aria-label=\"About this result\" class=\"iTPLzd rNSxBe lUn2nc\" jsaction=\"RvIhPd\" jsname=\"I3kE2c\" role=\"button\" style=\"position:absolute\" tabindex=\"0\"><span class=\"D6lY4c mBswFe\" jsname=\"czHhOd\"><span class=\"xTFaxe z1asCe SaPW2b\" jsname=\"Bil8Ae\" style=\"height:18px;line-height:18px;width:18px\"><svg focusable=\"false\" viewbox=\"0 0 24 24\" xmlns=\"http://www.w3.org/2000/svg\"><path d=\"M12 8c1.1 0 2-.9 2-2s-.9-2-2-2-2 .9-2 2 .9 2 2 2zm0 2c-1.1 0-2 .9-2 2s.9 2 2 2 2-.9 2-2-.9-2-2-2zm0 6c-1.1 0-2 .9-2 2s.9 2 2 2 2-.9 2-2-.9-2-2-2z\"></path></svg></span></span></div><span data-ved=\"2ahUKEwjW2LOJ0YP_AhVzUqQEHahqDI4Qh-4GegQIIxAM\" jsname=\"zOVa8\"></span></div></div></div></div></div><div class=\"Z26q7c UK95Uc\" data-sncf=\"1\" data-snf=\"nke7rc\"><div class=\"VwiC3b yXK7lf MUxGbd yDYNvb lyLwlc lEBKkf\" style=\"-webkit-line-clamp:2\"><span class=\"MUxGbd wuQ4Ob WZ8Tjf\"><span>4 Oct 2022</span> — </span><span>A Milano va quello dei <em>furti</em> in generale (seguita da Rimini e Roma), a Barletta quello dei <em>furti</em> di automobili, mentre Napoli “vince” per <em>furti</em> ...</span></div></div><div class=\"Z26q7c UK95Uc\" data-snf=\"bvRFlf\"><div data-ved=\"2ahUKEwjW2LOJ0YP_AhVzUqQEHahqDI4Q2Z0BegQIOxAA\" id=\"eob_7\" jsaction=\"rcuQ6b:npT2md\" jscontroller=\"K6HGfd\" jsdata=\"fxg5tf;_;Cky1HA\"></div></div></div></div>,\n",
       " <div class=\"g Ww4FFb vt6azd tF2Cxc asEBEc\" data-hveid=\"CDgQAA\" data-ved=\"2ahUKEwjW2LOJ0YP_AhVzUqQEHahqDI4QFSgAegQIOBAA\" jsaction=\"QyLbLe:OMITjf;ewaord:qsYrDe;xd28Mb:A6j43c\" jscontroller=\"SC7lYd\" lang=\"it\" style=\"width:600px\"><div class=\"kvH3mc BToiNc UK95Uc\" data-snc=\"ih6Jnb_Blr6X\"><div class=\"Z26q7c UK95Uc jGGQ5e\" data-snf=\"x5WNvb\" data-snhf=\"0\"><div class=\"yuRUbf\"><a data-ved=\"2ahUKEwjW2LOJ0YP_AhVzUqQEHahqDI4QFnoECCIQAQ\" href=\"https://www.ilmessaggero.it/italia/furti_rapinte_omicidi_boom_dati_viminale-6873029.html\" ping=\"/url?sa=t&amp;source=web&amp;rct=j&amp;url=https://www.ilmessaggero.it/italia/furti_rapinte_omicidi_boom_dati_viminale-6873029.html&amp;ved=2ahUKEwjW2LOJ0YP_AhVzUqQEHahqDI4QFnoECCIQAQ\"><br/><h3 class=\"LC20lb MBeuO DKV0Md\">Rapine, omicidi e furti: è boom nel 2022. I dati del Viminale</h3><div class=\"TbwUpd NJjxre iUh30 apx8Vc ojE3Fb\"><span class=\"H9lube\"><div aria-hidden=\"true\" class=\"eqA2re NjwKYd Vwoesf\"><img alt=\"\" class=\"XNo5Ab\" src=\"data:image/png;base64,iVBORw0KGgoAAAANSUhEUgAAACAAAAAgCAAAAABWESUoAAABpklEQVR4AX2SIYjDMBiFn6+rl7Mz5ybOVs6cmpo4X19RT6GeyapCzVT0bG111VQhqlCIKuRdHh3LDXb3QfNg/9dkrwT8C++9AkquKwVn0q8acVWIINAWx2N+nea5rbiWZZDoi4qUGATOHxDYpbgwBzrSfQMNhQfZ4Ml41HqzmcJMC0mQJR58dlWTI1C334rS00vokA334XYd+sN4nU4AJnNX3LYWnPcXimGHsXOlhOvUPQWSk2GgB4KwPIRWgupAXdSI1R+CZnreCRqAQRPvBRJeyKkhwb0KXi0Uq6kzCW3xGaI4203wEnSE0xQSsDHHHTSnwauQSIj/QecnabIJiiS1saaOYNON90JCN+Qh+ktsAQpRvWkRhf++w3b5vAQs7YugUdwhB3JGIR6h9wVQuYdgfwua235wnCU2ToIxElCRVM21SoF9beXnuq5Iz7ZCoDGzWtQQ2JW3Ib8MRvc2G43EpCfB5YCII+cdDpZ0X8CgI2j32hQi1zGcTgq606gAeQZGrstkVwY8hX8GyHsGjcRDiMpW0/ULvYirhA2EJ76ogRbG334AMS2RRtFnce0AAAAASUVORK5CYII=\" style=\"height:18px;width:18px\"/></div></span><div><span class=\"VuuXrf\">ilmessaggero.it</span><div class=\"byrV5b\"><cite class=\"apx8Vc qLRx3b tjvcx GvPZzd cHaqb\" role=\"text\" style=\"max-width:212px\">https://www.ilmessaggero.it<span class=\"apx8Vc dyjrff ob9lvb\" role=\"text\"> › italia</span></cite></div></div></div></a><div class=\"B6fmyf byrV5b Mg1HEd\"><div class=\"TbwUpd iUh30 apx8Vc ojE3Fb\"><span class=\"H9lube\"><div class=\"eqA2re NjwKYd\" style=\"height:18px;width:18px\"></div></span><div><span class=\"VuuXrf\">ilmessaggero.it</span><div class=\"byrV5b\"><cite class=\"apx8Vc qLRx3b tjvcx GvPZzd cHaqb\" role=\"text\" style=\"max-width:212px\">https://www.ilmessaggero.it<span class=\"apx8Vc dyjrff ob9lvb\" role=\"text\"> › italia</span></cite><div class=\"eFM0qc BCF2pd iUh30\"><span class=\"LAWljd BCF2pd\"> · </span><a class=\"fl iUh30\" href=\"https://translate.google.com/translate?hl=en&amp;sl=it&amp;u=https://www.ilmessaggero.it/italia/furti_rapinte_omicidi_boom_dati_viminale-6873029.html&amp;prev=search&amp;pto=aue\" ping=\"/url?sa=t&amp;source=web&amp;rct=j&amp;url=https://translate.google.com/translate%3Fhl%3Den%26sl%3Dit%26u%3Dhttps://www.ilmessaggero.it/italia/furti_rapinte_omicidi_boom_dati_viminale-6873029.html%26prev%3Dsearch%26pto%3Daue&amp;ved=2ahUKEwjW2LOJ0YP_AhVzUqQEHahqDI4Q7gF6BAgiEAo\"><span>Translate this page</span></a></div></div></div></div><div class=\"csDOgf BCF2pd L48a4c\"><div data-bsextraheight=\"0\" data-isdesktop=\"true\" data-ved=\"2ahUKEwjW2LOJ0YP_AhVzUqQEHahqDI4Q2esEegQIIhAL\" jscontroller=\"exgaYe\" jsdata=\"l7Bhpb;_;Cky1GY cECq7c;_;Cky1Gc\"><div aria-label=\"About this result\" class=\"iTPLzd rNSxBe lUn2nc\" jsaction=\"RvIhPd\" jsname=\"I3kE2c\" role=\"button\" style=\"position:absolute\" tabindex=\"0\"><span class=\"D6lY4c mBswFe\" jsname=\"czHhOd\"><span class=\"xTFaxe z1asCe SaPW2b\" jsname=\"Bil8Ae\" style=\"height:18px;line-height:18px;width:18px\"><svg focusable=\"false\" viewbox=\"0 0 24 24\" xmlns=\"http://www.w3.org/2000/svg\"><path d=\"M12 8c1.1 0 2-.9 2-2s-.9-2-2-2-2 .9-2 2 .9 2 2 2zm0 2c-1.1 0-2 .9-2 2s.9 2 2 2 2-.9 2-2-.9-2-2-2zm0 6c-1.1 0-2 .9-2 2s.9 2 2 2 2-.9 2-2-.9-2-2-2z\"></path></svg></span></span></div><span data-ved=\"2ahUKEwjW2LOJ0YP_AhVzUqQEHahqDI4Qh-4GegQIIhAM\" jsname=\"zOVa8\"></span></div></div></div></div></div><div class=\"Z26q7c UK95Uc\" data-sncf=\"1\" data-snf=\"nke7rc\"><div class=\"VwiC3b yXK7lf MUxGbd yDYNvb lyLwlc lEBKkf\" style=\"-webkit-line-clamp:2\"><span class=\"MUxGbd wuQ4Ob WZ8Tjf\"><span>15 Aug 2022</span> — </span><span>Al 10 agosto sono 95.184 in totale i migranti in accoglienza in <em>Italia</em>, il 23,9% in più rispetto al 10 agosto dello scorso anno: 682 sono in ...</span></div></div><div class=\"Z26q7c UK95Uc\" data-snf=\"bvRFlf\"><div data-ved=\"2ahUKEwjW2LOJ0YP_AhVzUqQEHahqDI4Q2Z0BegQIPBAA\" id=\"eob_8\" jsaction=\"rcuQ6b:npT2md\" jscontroller=\"K6HGfd\" jsdata=\"fxg5tf;_;Cky1G8\"></div></div></div></div>,\n",
       " <div class=\"g Ww4FFb vt6azd tF2Cxc asEBEc\" data-hveid=\"CCwQAA\" data-ved=\"2ahUKEwjW2LOJ0YP_AhVzUqQEHahqDI4QFSgAegQILBAA\" jsaction=\"QyLbLe:OMITjf;ewaord:qsYrDe;xd28Mb:A6j43c\" jscontroller=\"SC7lYd\" lang=\"it\" style=\"width:600px\"><div class=\"kvH3mc BToiNc UK95Uc\" data-snc=\"ih6Jnb_OIy6fe\"><div class=\"Z26q7c UK95Uc jGGQ5e\" data-snf=\"x5WNvb\" data-snhf=\"0\"><div class=\"yuRUbf\"><a data-ved=\"2ahUKEwjW2LOJ0YP_AhVzUqQEHahqDI4QFnoECB4QAQ\" href=\"https://tg24.sky.it/cronaca/2022/08/11/furti-casa-italia-dati-2021\" ping=\"/url?sa=t&amp;source=web&amp;rct=j&amp;url=https://tg24.sky.it/cronaca/2022/08/11/furti-casa-italia-dati-2021&amp;ved=2ahUKEwjW2LOJ0YP_AhVzUqQEHahqDI4QFnoECB4QAQ\"><br/><h3 class=\"LC20lb MBeuO DKV0Md\">Furti in casa, uno ogni tre minuti in Italia: 182mila denunce ...</h3><div class=\"TbwUpd NJjxre iUh30 apx8Vc ojE3Fb\"><span class=\"H9lube\"><div aria-hidden=\"true\" class=\"eqA2re NjwKYd Vwoesf\"><img alt=\"\" class=\"XNo5Ab\" src=\"data:image/jpeg;base64,/9j/4AAQSkZJRgABAQAAAQABAAD/2wCEAAkGBwgHBgkIBwgKCgkLDRYPDQwMDRsUFRAWIB0iIiAdHx8kKDQsJCYxJx8fLT0tMTU3Ojo6Iys/RD84QzQ5OjcBCgoKDQwNGhAPGjclHyU3Nzc3Nzc3Nzc3Nzc3NzcrNzc3Kzc3Nzc3Ny03NTc3Nzc3Nzc3Nzc3Nzc3Nzc3Nzc3N//AABEIACAAIAMBIgACEQEDEQH/xAAXAAADAQAAAAAAAAAAAAAAAAAFBgcE/8QAKRAAAgIBBAEDAgcAAAAAAAAAAQIDBBEABRIhMQYTQSJRBzJCYXGB8P/EABcBAQADAAAAAAAAAAAAAAAAAAABBQf/xAAhEQABAgQHAAAAAAAAAAAAAAAAAQIDESOxBBIUIUFCof/aAAwDAQACEQMRAD8AtG53q+2bfZv3HKV60bSysAThQMnoaW7XqqaWGhLVo2KqWL8EBe2i4kjfJJXDHwB/WdM1uNp6ssUcixu6FVdkDgE/PE+f40m0fw8r15nmluxt7liCWWKGmkMTiPn1wU4y3Ps/toArR9a7Lde37czpDWhecTyLxjmiQkO8Z/UARgnRzb7QvUYLaxyRLMgcJIMMoIyMj76RNz9De9Bsey8Jbe31rUjmyzhTXrYz7DfVmQMcL48Dvx3QhgDzoCA1dtks2IoEOGldUBJ6GTjWpNhsEFuUJUBiCJx9QUZYr32B/vnSzDvt+GxFOlgh43DqMDGQc+NF4PVsSU5Ek26F7GHWFh0sQdeJwCC3yT+b5Pjxqqbk5NAj6hFpyUKR7JzaD27MLJKzKJOTKqlSoOeQBxlgOs99awTPRrSvFJPl0YqwUMewcaxy+stzNiOeuYaroAMV4ygZR4UjJ6H2GPJ0HubhNdtS2bL85ZW5MfudQ5zepOHhxp1V29sf/9k=\" style=\"height:18px;width:18px\"/></div></span><div><span class=\"VuuXrf\">sky.it</span><div class=\"byrV5b\"><cite class=\"apx8Vc qLRx3b tjvcx GvPZzd cHaqb\" role=\"text\" style=\"max-width:212px\">https://tg24.sky.it<span class=\"apx8Vc dyjrff ob9lvb\" role=\"text\"> › 2022/08/11 › fu...</span></cite></div></div></div></a><div class=\"B6fmyf byrV5b Mg1HEd\"><div class=\"TbwUpd iUh30 apx8Vc ojE3Fb\"><span class=\"H9lube\"><div class=\"eqA2re NjwKYd\" style=\"height:18px;width:18px\"></div></span><div><span class=\"VuuXrf\">sky.it</span><div class=\"byrV5b\"><cite class=\"apx8Vc qLRx3b tjvcx GvPZzd cHaqb\" role=\"text\" style=\"max-width:212px\">https://tg24.sky.it<span class=\"apx8Vc dyjrff ob9lvb\" role=\"text\"> › 2022/08/11 › fu...</span></cite><div class=\"eFM0qc BCF2pd iUh30\"><span class=\"LAWljd BCF2pd\"> · </span><a class=\"fl iUh30\" href=\"https://translate.google.com/translate?hl=en&amp;sl=it&amp;u=https://tg24.sky.it/cronaca/2022/08/11/furti-casa-italia-dati-2021&amp;prev=search&amp;pto=aue\" ping=\"/url?sa=t&amp;source=web&amp;rct=j&amp;url=https://translate.google.com/translate%3Fhl%3Den%26sl%3Dit%26u%3Dhttps://tg24.sky.it/cronaca/2022/08/11/furti-casa-italia-dati-2021%26prev%3Dsearch%26pto%3Daue&amp;ved=2ahUKEwjW2LOJ0YP_AhVzUqQEHahqDI4Q7gF6BAgeEAo\"><span>Translate this page</span></a></div></div></div></div><div class=\"csDOgf BCF2pd L48a4c\"><div data-bsextraheight=\"0\" data-isdesktop=\"true\" data-ved=\"2ahUKEwjW2LOJ0YP_AhVzUqQEHahqDI4Q2esEegQIHhAL\" jscontroller=\"exgaYe\" jsdata=\"l7Bhpb;_;Cky1F0 cECq7c;_;Cky1F4\"><div aria-label=\"About this result\" class=\"iTPLzd rNSxBe lUn2nc\" jsaction=\"RvIhPd\" jsname=\"I3kE2c\" role=\"button\" style=\"position:absolute\" tabindex=\"0\"><span class=\"D6lY4c mBswFe\" jsname=\"czHhOd\"><span class=\"xTFaxe z1asCe SaPW2b\" jsname=\"Bil8Ae\" style=\"height:18px;line-height:18px;width:18px\"><svg focusable=\"false\" viewbox=\"0 0 24 24\" xmlns=\"http://www.w3.org/2000/svg\"><path d=\"M12 8c1.1 0 2-.9 2-2s-.9-2-2-2-2 .9-2 2 .9 2 2 2zm0 2c-1.1 0-2 .9-2 2s.9 2 2 2 2-.9 2-2-.9-2-2-2zm0 6c-1.1 0-2 .9-2 2s.9 2 2 2 2-.9 2-2-.9-2-2-2z\"></path></svg></span></span></div><span data-ved=\"2ahUKEwjW2LOJ0YP_AhVzUqQEHahqDI4Qh-4GegQIHhAM\" jsname=\"zOVa8\"></span></div></div></div></div></div><div class=\"Z26q7c UK95Uc\" data-sncf=\"1\" data-snf=\"nke7rc\"><div class=\"VwiC3b yXK7lf MUxGbd yDYNvb lyLwlc lEBKkf\" style=\"-webkit-line-clamp:2\"><span class=\"MUxGbd wuQ4Ob WZ8Tjf\"><span>11 Aug 2022</span> — </span><span>I <em>furti</em> continuano a essere un reato molto diffuso in <em>Italia</em>: 7,1 colpi ogni mille famiglie con picchi di 8,4 <em>furti</em> al Nord e di 7,8 al Centro; ...</span></div></div><div class=\"Z26q7c UK95Uc\" data-snf=\"bvRFlf\"><div data-ved=\"2ahUKEwjW2LOJ0YP_AhVzUqQEHahqDI4Q2Z0BegQILxAA\" id=\"eob_3\" jsaction=\"rcuQ6b:npT2md\" jscontroller=\"K6HGfd\" jsdata=\"fxg5tf;_;Cky1Gs\"></div></div></div></div>,\n",
       " <div class=\"g Ww4FFb vt6azd tF2Cxc asEBEc\" data-hveid=\"CDUQAA\" data-ved=\"2ahUKEwjW2LOJ0YP_AhVzUqQEHahqDI4QFSgAegQINRAA\" jsaction=\"QyLbLe:OMITjf;ewaord:qsYrDe;xd28Mb:A6j43c\" jscontroller=\"SC7lYd\" lang=\"it\" style=\"width:600px\"><div class=\"kvH3mc BToiNc UK95Uc\" data-snc=\"ih6Jnb_BTUYtb\"><div class=\"Z26q7c UK95Uc jGGQ5e\" data-snf=\"x5WNvb\" data-snhf=\"0\"><div class=\"yuRUbf\"><a data-ved=\"2ahUKEwjW2LOJ0YP_AhVzUqQEHahqDI4QFnoECCQQAQ\" href=\"https://www.sicuritalia.it/news/casa/quali-sono-le-citta-a-rischio-furti-una-classifica/\" ping=\"/url?sa=t&amp;source=web&amp;rct=j&amp;url=https://www.sicuritalia.it/news/casa/quali-sono-le-citta-a-rischio-furti-una-classifica/&amp;ved=2ahUKEwjW2LOJ0YP_AhVzUqQEHahqDI4QFnoECCQQAQ\"><br/><h3 class=\"LC20lb MBeuO DKV0Md\">Rischio furti: quali sono le città più pericolose in Italia nel ...</h3><div class=\"TbwUpd NJjxre iUh30 apx8Vc ojE3Fb\"><span class=\"H9lube\"><div aria-hidden=\"true\" class=\"eqA2re NjwKYd Vwoesf\"><img alt=\"\" class=\"XNo5Ab\" src=\"data:image/png;base64,iVBORw0KGgoAAAANSUhEUgAAACAAAAAgCAMAAABEpIrGAAAAe1BMVEX////x8/e2v9OuuM7O1OD3+Pvq7vSMmbc+VIkOMnYgPnxYapcvSYMAHmsAKnAOL3IALHMAJ2/L0uAyUIoAJG4QMHMAAGYAIW3p7fPEy9qjrcXZ3edOZZgADWgePX0NL3KYpcGrtcuCkrRre6NygqhCXJFSZJJKXY5gdKFtg6UeAAAA0ElEQVR4Ad3PVQLDIAwAUOjqEggyd7//CZdRL9sF+r6QKJsVHiwmwoj14iTNpvIi7P/LCsSUxEq1AdoIj7UWSs6cYImIZtUziPIbYZLYBaxVGIaboTDcIgCg3rF/wpLk+zqAr30xH2y5PcgfMpfu8COcfAKzbs2NBGF9mPIuQlerMePWPPN+6sVl5JxRBLg119fbnUw23rmA9Pu6K1eIpgqikbCvsHsgtRPpc+RlCb7XjKxToAtM0JPMmr5hRVefOGxZQ6UGPebY/btNfBs2Hx9CdCQxEd/QaQAAAABJRU5ErkJggg==\" style=\"height:18px;width:18px\"/></div></span><div><span class=\"VuuXrf\">sicuritalia.it</span><div class=\"byrV5b\"><cite class=\"apx8Vc qLRx3b tjvcx GvPZzd cHaqb\" role=\"text\" style=\"max-width:212px\">https://www.sicuritalia.it<span class=\"apx8Vc dyjrff ob9lvb\" role=\"text\"> › news › casa</span></cite></div></div></div></a><div class=\"B6fmyf byrV5b Mg1HEd\"><div class=\"TbwUpd iUh30 apx8Vc ojE3Fb\"><span class=\"H9lube\"><div class=\"eqA2re NjwKYd\" style=\"height:18px;width:18px\"></div></span><div><span class=\"VuuXrf\">sicuritalia.it</span><div class=\"byrV5b\"><cite class=\"apx8Vc qLRx3b tjvcx GvPZzd cHaqb\" role=\"text\" style=\"max-width:212px\">https://www.sicuritalia.it<span class=\"apx8Vc dyjrff ob9lvb\" role=\"text\"> › news › casa</span></cite><div class=\"eFM0qc BCF2pd iUh30\"><span class=\"LAWljd BCF2pd\"> · </span><a class=\"fl iUh30\" href=\"https://translate.google.com/translate?hl=en&amp;sl=it&amp;u=https://www.sicuritalia.it/news/casa/quali-sono-le-citta-a-rischio-furti-una-classifica/&amp;prev=search&amp;pto=aue\" ping=\"/url?sa=t&amp;source=web&amp;rct=j&amp;url=https://translate.google.com/translate%3Fhl%3Den%26sl%3Dit%26u%3Dhttps://www.sicuritalia.it/news/casa/quali-sono-le-citta-a-rischio-furti-una-classifica/%26prev%3Dsearch%26pto%3Daue&amp;ved=2ahUKEwjW2LOJ0YP_AhVzUqQEHahqDI4Q7gF6BAgkEAo\"><span>Translate this page</span></a></div></div></div></div><div class=\"csDOgf BCF2pd L48a4c\"><div data-bsextraheight=\"0\" data-isdesktop=\"true\" data-ved=\"2ahUKEwjW2LOJ0YP_AhVzUqQEHahqDI4Q2esEegQIJBAL\" jscontroller=\"exgaYe\" jsdata=\"l7Bhpb;_;Cky1GU cECq7c;_;Cky1Gk\"><div aria-label=\"About this result\" class=\"iTPLzd rNSxBe lUn2nc\" jsaction=\"RvIhPd\" jsname=\"I3kE2c\" role=\"button\" style=\"position:absolute\" tabindex=\"0\"><span class=\"D6lY4c mBswFe\" jsname=\"czHhOd\"><span class=\"xTFaxe z1asCe SaPW2b\" jsname=\"Bil8Ae\" style=\"height:18px;line-height:18px;width:18px\"><svg focusable=\"false\" viewbox=\"0 0 24 24\" xmlns=\"http://www.w3.org/2000/svg\"><path d=\"M12 8c1.1 0 2-.9 2-2s-.9-2-2-2-2 .9-2 2 .9 2 2 2zm0 2c-1.1 0-2 .9-2 2s.9 2 2 2 2-.9 2-2-.9-2-2-2zm0 6c-1.1 0-2 .9-2 2s.9 2 2 2 2-.9 2-2-.9-2-2-2z\"></path></svg></span></span></div><span data-ved=\"2ahUKEwjW2LOJ0YP_AhVzUqQEHahqDI4Qh-4GegQIJBAM\" jsname=\"zOVa8\"></span></div></div></div></div></div><div class=\"Z26q7c UK95Uc\" data-sncf=\"1\" data-snf=\"nke7rc\"><div class=\"VwiC3b yXK7lf MUxGbd yDYNvb lyLwlc lEBKkf\" style=\"-webkit-line-clamp:2\"><span>Attualmente in <em>Italia</em> vengono denunciati ogni giorno quasi 10mila reati, che corrispondono circa a 416 per ogni ora, secondo quanto riferito dai dipartimenti di ...</span></div></div><div class=\"Z26q7c UK95Uc\" data-snf=\"bvRFlf\"><div data-ved=\"2ahUKEwjW2LOJ0YP_AhVzUqQEHahqDI4Q2Z0BegQIORAA\" id=\"eob_6\" jsaction=\"rcuQ6b:npT2md\" jscontroller=\"K6HGfd\" jsdata=\"fxg5tf;_;Cky1G4\"></div></div></div></div>,\n",
       " <div class=\"g Ww4FFb vt6azd tF2Cxc asEBEc\" data-hveid=\"CDAQAA\" data-ved=\"2ahUKEwjW2LOJ0YP_AhVzUqQEHahqDI4QFSgAegQIMBAA\" jsaction=\"QyLbLe:OMITjf;ewaord:qsYrDe;xd28Mb:A6j43c\" jscontroller=\"SC7lYd\" lang=\"it\" style=\"width:600px\"><div class=\"kvH3mc BToiNc UK95Uc\" data-snc=\"ih6Jnb_ZR1eH\"><div class=\"Z26q7c UK95Uc jGGQ5e\" data-snf=\"x5WNvb\" data-snhf=\"0\"><div class=\"yuRUbf\"><a data-ved=\"2ahUKEwjW2LOJ0YP_AhVzUqQEHahqDI4QFnoECCAQAQ\" href=\"https://www.sicurezzamagazine.it/criminalita-diffusi-i-dati-relativi-ai-reati-in-italia-tra-2020-e-2021/\" ping=\"/url?sa=t&amp;source=web&amp;rct=j&amp;url=https://www.sicurezzamagazine.it/criminalita-diffusi-i-dati-relativi-ai-reati-in-italia-tra-2020-e-2021/&amp;ved=2ahUKEwjW2LOJ0YP_AhVzUqQEHahqDI4QFnoECCAQAQ\"><br/><h3 class=\"LC20lb MBeuO DKV0Md\">Criminalità: diffusi i dati relativi ai reati in Italia tra 2020 e ...</h3><div class=\"TbwUpd NJjxre iUh30 apx8Vc ojE3Fb\"><span class=\"H9lube\"><div aria-hidden=\"true\" class=\"eqA2re NjwKYd Vwoesf\"><img alt=\"\" class=\"XNo5Ab\" src=\"data:image/png;base64,iVBORw0KGgoAAAANSUhEUgAAACAAAAAgCAYAAABzenr0AAACPUlEQVR4Aa3XA6wdQQCF4Wfbthk8K6jboApr27Ztx0ntxqpt27bte6d/ETWrWSRfuLtzxjMuRp605JTfQlCJnpiCzdj2zyqMRjeUIgSuLlaf3z9BCgZgL17hJ4SKn3iOfRiCdNNB+NAHbXFeuVBdDlxCR/jKFh6IWfgAYdFHzEaA0cLdMQpfIGzyGf3gZiRABR5D2OwuCozUfhkEoDvY7uIRvkHocGICXLUCxOIShIZHGIRiJCMTrbEDDp1vDyJIK0A53kFomAg3hW8TcNBA+CytAE3wFULDEnipfD8DnzQ8R6VWgBb4rhPgHeYhH57/fZ+GWg3VCNYKUIOPBgfUA2zCYFQhEu5Wl94k3ICQ4MRbnMM6DEE5giAdwAPL4YQwyYnX2I/RyJNqmX8fnIewgRN3MRUxMLz11uG04ZbQ9xM7USwTIgtL8QLCJgeRLNMdXqjATJzFJwgLHJgFdzMHk2g0xETswjM4ICTdQpqVqfqbP4rQCatwEz8gDPiOlko/jkGtjmK4KUzdVHTBcYOt0l0pQGd80rEDfhotk42rZgN0MJD+BpI1uscfB8wGqMRbA/03Gl4qLVCGBxAavqKZUoAwHIXQ8Q7L0QDpSEYeuuCcwVmQqjbVRkocwT/hAe7iqcQsWAoPtT6M12kFq26hWG+ON8J9CJu9RUe46S00bmiE8zZuRvfQBV4yS28OVljcjN5jPcrhZmbZ9UYFZuEU3sChs+2+wWksQH3423FLdkMU6tBH43reE7WIMlrjX8P8PoCPETc4AAAAAElFTkSuQmCC\" style=\"height:18px;width:18px\"/></div></span><div><span class=\"VuuXrf\">sicurezzamagazine.it</span><div class=\"byrV5b\"><cite class=\"apx8Vc qLRx3b tjvcx GvPZzd cHaqb\" role=\"text\" style=\"max-width:212px\">https://www.sicurezzamagazine.it<span class=\"apx8Vc dyjrff ob9lvb\" role=\"text\"> › ...</span></cite></div></div></div></a><div class=\"B6fmyf byrV5b Mg1HEd\"><div class=\"TbwUpd iUh30 apx8Vc ojE3Fb\"><span class=\"H9lube\"><div class=\"eqA2re NjwKYd\" style=\"height:18px;width:18px\"></div></span><div><span class=\"VuuXrf\">sicurezzamagazine.it</span><div class=\"byrV5b\"><cite class=\"apx8Vc qLRx3b tjvcx GvPZzd cHaqb\" role=\"text\" style=\"max-width:212px\">https://www.sicurezzamagazine.it<span class=\"apx8Vc dyjrff ob9lvb\" role=\"text\"> › ...</span></cite><div class=\"eFM0qc BCF2pd iUh30\"><span class=\"LAWljd BCF2pd\"> · </span><a class=\"fl iUh30\" href=\"https://translate.google.com/translate?hl=en&amp;sl=it&amp;u=https://www.sicurezzamagazine.it/criminalita-diffusi-i-dati-relativi-ai-reati-in-italia-tra-2020-e-2021/&amp;prev=search&amp;pto=aue\" ping=\"/url?sa=t&amp;source=web&amp;rct=j&amp;url=https://translate.google.com/translate%3Fhl%3Den%26sl%3Dit%26u%3Dhttps://www.sicurezzamagazine.it/criminalita-diffusi-i-dati-relativi-ai-reati-in-italia-tra-2020-e-2021/%26prev%3Dsearch%26pto%3Daue&amp;ved=2ahUKEwjW2LOJ0YP_AhVzUqQEHahqDI4Q7gF6BAggEAo\"><span>Translate this page</span></a></div></div></div></div><div class=\"csDOgf BCF2pd L48a4c\"><div data-bsextraheight=\"0\" data-isdesktop=\"true\" data-ved=\"2ahUKEwjW2LOJ0YP_AhVzUqQEHahqDI4Q2esEegQIIBAL\" jscontroller=\"exgaYe\" jsdata=\"l7Bhpb;_;Cky1GA cECq7c;_;Cky1GE\"><div aria-label=\"About this result\" class=\"iTPLzd rNSxBe lUn2nc\" jsaction=\"RvIhPd\" jsname=\"I3kE2c\" role=\"button\" style=\"position:absolute\" tabindex=\"0\"><span class=\"D6lY4c mBswFe\" jsname=\"czHhOd\"><span class=\"xTFaxe z1asCe SaPW2b\" jsname=\"Bil8Ae\" style=\"height:18px;line-height:18px;width:18px\"><svg focusable=\"false\" viewbox=\"0 0 24 24\" xmlns=\"http://www.w3.org/2000/svg\"><path d=\"M12 8c1.1 0 2-.9 2-2s-.9-2-2-2-2 .9-2 2 .9 2 2 2zm0 2c-1.1 0-2 .9-2 2s.9 2 2 2 2-.9 2-2-.9-2-2-2zm0 6c-1.1 0-2 .9-2 2s.9 2 2 2 2-.9 2-2-.9-2-2-2z\"></path></svg></span></span></div><span data-ved=\"2ahUKEwjW2LOJ0YP_AhVzUqQEHahqDI4Qh-4GegQIIBAM\" jsname=\"zOVa8\"></span></div></div></div></div></div><div class=\"Z26q7c UK95Uc\" data-sncf=\"1\" data-snf=\"nke7rc\"><div class=\"VwiC3b yXK7lf MUxGbd yDYNvb lyLwlc lEBKkf\" style=\"-webkit-line-clamp:2\"><span class=\"MUxGbd wuQ4Ob WZ8Tjf\"><span>15 Feb 2022</span> — </span><span>In calo anche i <em>furti</em>, nel 2020 scesi del 32,7% rispetto al 2019, per un totale di 721.680 casi: è una tendenza in atto dal picco del 2014.</span></div></div><div class=\"Z26q7c UK95Uc\" data-snf=\"bvRFlf\"><div data-ved=\"2ahUKEwjW2LOJ0YP_AhVzUqQEHahqDI4Q2Z0BegQIMRAA\" id=\"eob_5\" jsaction=\"rcuQ6b:npT2md\" jscontroller=\"K6HGfd\" jsdata=\"fxg5tf;_;Cky1G0\"></div></div></div></div>]"
      ]
     },
     "execution_count": 11,
     "metadata": {},
     "output_type": "execute_result"
    }
   ],
   "source": [
    "newsP1"
   ]
  },
  {
   "cell_type": "code",
   "execution_count": null,
   "id": "eca06df3",
   "metadata": {
    "code_folding": []
   },
   "outputs": [],
   "source": []
  },
  {
   "cell_type": "code",
   "execution_count": 12,
   "id": "0e2f0fbd",
   "metadata": {
    "code_folding": [],
    "scrolled": false
   },
   "outputs": [
    {
     "name": "stdout",
     "output_type": "stream",
     "text": [
      "[{'link': 'https://www.netatmo.com/it-it/blog/burglary-france', 'title': 'Criminalità in Italia: cosa dicono i numeri sui furti - Netatmo', 'date': None, 'position': 1}]\n",
      "[{'link': 'https://www.netatmo.com/it-it/blog/burglary-france', 'title': 'Criminalità in Italia: cosa dicono i numeri sui furti - Netatmo', 'date': None, 'position': 1}, {'link': 'https://www.netatmo.com/it-it/blog/burglary-france', 'title': 'Criminalità in Italia: cosa dicono i numeri sui furti - Netatmo', 'date': None, 'position': 2}]\n",
      "[{'link': 'https://www.netatmo.com/it-it/blog/burglary-france', 'title': 'Criminalità in Italia: cosa dicono i numeri sui furti - Netatmo', 'date': None, 'position': 1}, {'link': 'https://www.netatmo.com/it-it/blog/burglary-france', 'title': 'Criminalità in Italia: cosa dicono i numeri sui furti - Netatmo', 'date': None, 'position': 2}, {'link': 'https://lab24.ilsole24ore.com/indice-della-criminalita/', 'title': \"Reati, furti, rapine: trova l'indice della criminalità 2022 ... - Lab24\", 'date': None, 'position': 3}]\n",
      "[{'link': 'https://www.netatmo.com/it-it/blog/burglary-france', 'title': 'Criminalità in Italia: cosa dicono i numeri sui furti - Netatmo', 'date': None, 'position': 1}, {'link': 'https://www.netatmo.com/it-it/blog/burglary-france', 'title': 'Criminalità in Italia: cosa dicono i numeri sui furti - Netatmo', 'date': None, 'position': 2}, {'link': 'https://lab24.ilsole24ore.com/indice-della-criminalita/', 'title': \"Reati, furti, rapine: trova l'indice della criminalità 2022 ... - Lab24\", 'date': None, 'position': 3}, {'link': 'https://www.quotidiano.net/cronaca/furti-rapine-violenze-sessuali-italia-2022-1.8423068', 'title': 'In Italia aumentano furti (+20%) e rapine (+18). Il report ...', 'date': None, 'position': 4}]\n",
      "[{'link': 'https://www.netatmo.com/it-it/blog/burglary-france', 'title': 'Criminalità in Italia: cosa dicono i numeri sui furti - Netatmo', 'date': None, 'position': 1}, {'link': 'https://www.netatmo.com/it-it/blog/burglary-france', 'title': 'Criminalità in Italia: cosa dicono i numeri sui furti - Netatmo', 'date': None, 'position': 2}, {'link': 'https://lab24.ilsole24ore.com/indice-della-criminalita/', 'title': \"Reati, furti, rapine: trova l'indice della criminalità 2022 ... - Lab24\", 'date': None, 'position': 3}, {'link': 'https://www.quotidiano.net/cronaca/furti-rapine-violenze-sessuali-italia-2022-1.8423068', 'title': 'In Italia aumentano furti (+20%) e rapine (+18). Il report ...', 'date': None, 'position': 4}, {'link': 'https://www.truenumbers.it/furti-in-casa/', 'title': 'Furti in casa in Italia: colpite 10,3 famiglie ogni mille', 'date': None, 'position': 5}]\n",
      "[{'link': 'https://www.netatmo.com/it-it/blog/burglary-france', 'title': 'Criminalità in Italia: cosa dicono i numeri sui furti - Netatmo', 'date': None, 'position': 1}, {'link': 'https://www.netatmo.com/it-it/blog/burglary-france', 'title': 'Criminalità in Italia: cosa dicono i numeri sui furti - Netatmo', 'date': None, 'position': 2}, {'link': 'https://lab24.ilsole24ore.com/indice-della-criminalita/', 'title': \"Reati, furti, rapine: trova l'indice della criminalità 2022 ... - Lab24\", 'date': None, 'position': 3}, {'link': 'https://www.quotidiano.net/cronaca/furti-rapine-violenze-sessuali-italia-2022-1.8423068', 'title': 'In Italia aumentano furti (+20%) e rapine (+18). Il report ...', 'date': None, 'position': 4}, {'link': 'https://www.truenumbers.it/furti-in-casa/', 'title': 'Furti in casa in Italia: colpite 10,3 famiglie ogni mille', 'date': None, 'position': 5}, {'link': 'https://www.iodonna.it/attualita/costume-e-societa/2022/10/04/furti-rapine-e-scippi-la-classifica-delle-citta-piu-pericolose-ditalia/', 'title': \"La classifica delle città più pericolose d'Italia\", 'date': None, 'position': 6}]\n",
      "[{'link': 'https://www.netatmo.com/it-it/blog/burglary-france', 'title': 'Criminalità in Italia: cosa dicono i numeri sui furti - Netatmo', 'date': None, 'position': 1}, {'link': 'https://www.netatmo.com/it-it/blog/burglary-france', 'title': 'Criminalità in Italia: cosa dicono i numeri sui furti - Netatmo', 'date': None, 'position': 2}, {'link': 'https://lab24.ilsole24ore.com/indice-della-criminalita/', 'title': \"Reati, furti, rapine: trova l'indice della criminalità 2022 ... - Lab24\", 'date': None, 'position': 3}, {'link': 'https://www.quotidiano.net/cronaca/furti-rapine-violenze-sessuali-italia-2022-1.8423068', 'title': 'In Italia aumentano furti (+20%) e rapine (+18). Il report ...', 'date': None, 'position': 4}, {'link': 'https://www.truenumbers.it/furti-in-casa/', 'title': 'Furti in casa in Italia: colpite 10,3 famiglie ogni mille', 'date': None, 'position': 5}, {'link': 'https://www.iodonna.it/attualita/costume-e-societa/2022/10/04/furti-rapine-e-scippi-la-classifica-delle-citta-piu-pericolose-ditalia/', 'title': \"La classifica delle città più pericolose d'Italia\", 'date': None, 'position': 6}, {'link': 'https://www.ilmessaggero.it/italia/furti_rapinte_omicidi_boom_dati_viminale-6873029.html', 'title': 'Rapine, omicidi e furti: è boom nel 2022. I dati del Viminale', 'date': None, 'position': 7}]\n",
      "[{'link': 'https://www.netatmo.com/it-it/blog/burglary-france', 'title': 'Criminalità in Italia: cosa dicono i numeri sui furti - Netatmo', 'date': None, 'position': 1}, {'link': 'https://www.netatmo.com/it-it/blog/burglary-france', 'title': 'Criminalità in Italia: cosa dicono i numeri sui furti - Netatmo', 'date': None, 'position': 2}, {'link': 'https://lab24.ilsole24ore.com/indice-della-criminalita/', 'title': \"Reati, furti, rapine: trova l'indice della criminalità 2022 ... - Lab24\", 'date': None, 'position': 3}, {'link': 'https://www.quotidiano.net/cronaca/furti-rapine-violenze-sessuali-italia-2022-1.8423068', 'title': 'In Italia aumentano furti (+20%) e rapine (+18). Il report ...', 'date': None, 'position': 4}, {'link': 'https://www.truenumbers.it/furti-in-casa/', 'title': 'Furti in casa in Italia: colpite 10,3 famiglie ogni mille', 'date': None, 'position': 5}, {'link': 'https://www.iodonna.it/attualita/costume-e-societa/2022/10/04/furti-rapine-e-scippi-la-classifica-delle-citta-piu-pericolose-ditalia/', 'title': \"La classifica delle città più pericolose d'Italia\", 'date': None, 'position': 6}, {'link': 'https://www.ilmessaggero.it/italia/furti_rapinte_omicidi_boom_dati_viminale-6873029.html', 'title': 'Rapine, omicidi e furti: è boom nel 2022. I dati del Viminale', 'date': None, 'position': 7}, {'link': 'https://tg24.sky.it/cronaca/2022/08/11/furti-casa-italia-dati-2021', 'title': 'Furti in casa, uno ogni tre minuti in Italia: 182mila denunce ...', 'date': None, 'position': 8}]\n",
      "[{'link': 'https://www.netatmo.com/it-it/blog/burglary-france', 'title': 'Criminalità in Italia: cosa dicono i numeri sui furti - Netatmo', 'date': None, 'position': 1}, {'link': 'https://www.netatmo.com/it-it/blog/burglary-france', 'title': 'Criminalità in Italia: cosa dicono i numeri sui furti - Netatmo', 'date': None, 'position': 2}, {'link': 'https://lab24.ilsole24ore.com/indice-della-criminalita/', 'title': \"Reati, furti, rapine: trova l'indice della criminalità 2022 ... - Lab24\", 'date': None, 'position': 3}, {'link': 'https://www.quotidiano.net/cronaca/furti-rapine-violenze-sessuali-italia-2022-1.8423068', 'title': 'In Italia aumentano furti (+20%) e rapine (+18). Il report ...', 'date': None, 'position': 4}, {'link': 'https://www.truenumbers.it/furti-in-casa/', 'title': 'Furti in casa in Italia: colpite 10,3 famiglie ogni mille', 'date': None, 'position': 5}, {'link': 'https://www.iodonna.it/attualita/costume-e-societa/2022/10/04/furti-rapine-e-scippi-la-classifica-delle-citta-piu-pericolose-ditalia/', 'title': \"La classifica delle città più pericolose d'Italia\", 'date': None, 'position': 6}, {'link': 'https://www.ilmessaggero.it/italia/furti_rapinte_omicidi_boom_dati_viminale-6873029.html', 'title': 'Rapine, omicidi e furti: è boom nel 2022. I dati del Viminale', 'date': None, 'position': 7}, {'link': 'https://tg24.sky.it/cronaca/2022/08/11/furti-casa-italia-dati-2021', 'title': 'Furti in casa, uno ogni tre minuti in Italia: 182mila denunce ...', 'date': None, 'position': 8}, {'link': 'https://www.sicuritalia.it/news/casa/quali-sono-le-citta-a-rischio-furti-una-classifica/', 'title': 'Rischio furti: quali sono le città più pericolose in Italia nel ...', 'date': None, 'position': 9}]\n",
      "[{'link': 'https://www.netatmo.com/it-it/blog/burglary-france', 'title': 'Criminalità in Italia: cosa dicono i numeri sui furti - Netatmo', 'date': None, 'position': 1}, {'link': 'https://www.netatmo.com/it-it/blog/burglary-france', 'title': 'Criminalità in Italia: cosa dicono i numeri sui furti - Netatmo', 'date': None, 'position': 2}, {'link': 'https://lab24.ilsole24ore.com/indice-della-criminalita/', 'title': \"Reati, furti, rapine: trova l'indice della criminalità 2022 ... - Lab24\", 'date': None, 'position': 3}, {'link': 'https://www.quotidiano.net/cronaca/furti-rapine-violenze-sessuali-italia-2022-1.8423068', 'title': 'In Italia aumentano furti (+20%) e rapine (+18). Il report ...', 'date': None, 'position': 4}, {'link': 'https://www.truenumbers.it/furti-in-casa/', 'title': 'Furti in casa in Italia: colpite 10,3 famiglie ogni mille', 'date': None, 'position': 5}, {'link': 'https://www.iodonna.it/attualita/costume-e-societa/2022/10/04/furti-rapine-e-scippi-la-classifica-delle-citta-piu-pericolose-ditalia/', 'title': \"La classifica delle città più pericolose d'Italia\", 'date': None, 'position': 6}, {'link': 'https://www.ilmessaggero.it/italia/furti_rapinte_omicidi_boom_dati_viminale-6873029.html', 'title': 'Rapine, omicidi e furti: è boom nel 2022. I dati del Viminale', 'date': None, 'position': 7}, {'link': 'https://tg24.sky.it/cronaca/2022/08/11/furti-casa-italia-dati-2021', 'title': 'Furti in casa, uno ogni tre minuti in Italia: 182mila denunce ...', 'date': None, 'position': 8}, {'link': 'https://www.sicuritalia.it/news/casa/quali-sono-le-citta-a-rischio-furti-una-classifica/', 'title': 'Rischio furti: quali sono le città più pericolose in Italia nel ...', 'date': None, 'position': 9}, {'link': 'https://www.sicurezzamagazine.it/criminalita-diffusi-i-dati-relativi-ai-reati-in-italia-tra-2020-e-2021/', 'title': 'Criminalità: diffusi i dati relativi ai reati in Italia tra 2020 e ...', 'date': None, 'position': 10}]\n"
     ]
    }
   ],
   "source": [
    "g=0\n",
    "newsData = [ ]\n",
    "l={}\n",
    "date=[]\n",
    "\n",
    "for i in range(0,len(newsP1)):\n",
    "                    link = newsP1[i].find('a').get('href')\n",
    "\n",
    "                    if(link is not None):\n",
    "                        if(link.find('https') != -1 and link.find('http') == 0 and link.find(\"SoaBEf\") == -1):\n",
    "                            g=g+1\n",
    "                            l[\"link\"]=link\n",
    "                            try:\n",
    "                                l[\"title\"]=newsP1[i].find(\"h3\").text\n",
    "                            except:\n",
    "                                l[\"title\"]=None \n",
    "                            try:\n",
    "                                l[\"date\"]=newsP1[i].find(\"span\",{\"class\":\"dyjrff ob9lvb\"}).text\n",
    "                            except:\n",
    "                                l[\"date\"]=None \n",
    "                                \n",
    "                                l[\"position\"]=g \n",
    "\n",
    "                                newsData.append(l)  \n",
    "\n",
    "                                l={}   \n",
    "\n",
    "                            else:\n",
    "                                     continue\n",
    "                        else:\n",
    "                                     continue\n",
    "              \n",
    "                    print(newsData)"
   ]
  },
  {
   "cell_type": "code",
   "execution_count": null,
   "id": "7191c82a",
   "metadata": {
    "scrolled": true
   },
   "outputs": [],
   "source": []
  },
  {
   "cell_type": "code",
   "execution_count": 13,
   "id": "1d47e2e6",
   "metadata": {},
   "outputs": [
    {
     "data": {
      "text/html": [
       "<div>\n",
       "<style scoped>\n",
       "    .dataframe tbody tr th:only-of-type {\n",
       "        vertical-align: middle;\n",
       "    }\n",
       "\n",
       "    .dataframe tbody tr th {\n",
       "        vertical-align: top;\n",
       "    }\n",
       "\n",
       "    .dataframe thead th {\n",
       "        text-align: right;\n",
       "    }\n",
       "</style>\n",
       "<table border=\"1\" class=\"dataframe\">\n",
       "  <thead>\n",
       "    <tr style=\"text-align: right;\">\n",
       "      <th></th>\n",
       "      <th>link</th>\n",
       "      <th>title</th>\n",
       "      <th>date</th>\n",
       "    </tr>\n",
       "  </thead>\n",
       "  <tbody>\n",
       "    <tr>\n",
       "      <th>0</th>\n",
       "      <td>https://www.netatmo.com/it-it/blog/burglary-fr...</td>\n",
       "      <td>Criminalità in Italia: cosa dicono i numeri su...</td>\n",
       "      <td>None</td>\n",
       "    </tr>\n",
       "    <tr>\n",
       "      <th>1</th>\n",
       "      <td>https://www.netatmo.com/it-it/blog/burglary-fr...</td>\n",
       "      <td>Criminalità in Italia: cosa dicono i numeri su...</td>\n",
       "      <td>None</td>\n",
       "    </tr>\n",
       "    <tr>\n",
       "      <th>2</th>\n",
       "      <td>https://lab24.ilsole24ore.com/indice-della-cri...</td>\n",
       "      <td>Reati, furti, rapine: trova l'indice della cri...</td>\n",
       "      <td>None</td>\n",
       "    </tr>\n",
       "    <tr>\n",
       "      <th>3</th>\n",
       "      <td>https://www.quotidiano.net/cronaca/furti-rapin...</td>\n",
       "      <td>In Italia aumentano furti (+20%) e rapine (+18...</td>\n",
       "      <td>None</td>\n",
       "    </tr>\n",
       "    <tr>\n",
       "      <th>4</th>\n",
       "      <td>https://www.truenumbers.it/furti-in-casa/</td>\n",
       "      <td>Furti in casa in Italia: colpite 10,3 famiglie...</td>\n",
       "      <td>None</td>\n",
       "    </tr>\n",
       "    <tr>\n",
       "      <th>5</th>\n",
       "      <td>https://www.iodonna.it/attualita/costume-e-soc...</td>\n",
       "      <td>La classifica delle città più pericolose d'Italia</td>\n",
       "      <td>None</td>\n",
       "    </tr>\n",
       "    <tr>\n",
       "      <th>6</th>\n",
       "      <td>https://www.ilmessaggero.it/italia/furti_rapin...</td>\n",
       "      <td>Rapine, omicidi e furti: è boom nel 2022. I da...</td>\n",
       "      <td>None</td>\n",
       "    </tr>\n",
       "    <tr>\n",
       "      <th>7</th>\n",
       "      <td>https://tg24.sky.it/cronaca/2022/08/11/furti-c...</td>\n",
       "      <td>Furti in casa, uno ogni tre minuti in Italia: ...</td>\n",
       "      <td>None</td>\n",
       "    </tr>\n",
       "    <tr>\n",
       "      <th>8</th>\n",
       "      <td>https://www.sicuritalia.it/news/casa/quali-son...</td>\n",
       "      <td>Rischio furti: quali sono le città più pericol...</td>\n",
       "      <td>None</td>\n",
       "    </tr>\n",
       "    <tr>\n",
       "      <th>9</th>\n",
       "      <td>https://www.sicurezzamagazine.it/criminalita-d...</td>\n",
       "      <td>Criminalità: diffusi i dati relativi ai reati ...</td>\n",
       "      <td>None</td>\n",
       "    </tr>\n",
       "  </tbody>\n",
       "</table>\n",
       "</div>"
      ],
      "text/plain": [
       "                                                link  \\\n",
       "0  https://www.netatmo.com/it-it/blog/burglary-fr...   \n",
       "1  https://www.netatmo.com/it-it/blog/burglary-fr...   \n",
       "2  https://lab24.ilsole24ore.com/indice-della-cri...   \n",
       "3  https://www.quotidiano.net/cronaca/furti-rapin...   \n",
       "4          https://www.truenumbers.it/furti-in-casa/   \n",
       "5  https://www.iodonna.it/attualita/costume-e-soc...   \n",
       "6  https://www.ilmessaggero.it/italia/furti_rapin...   \n",
       "7  https://tg24.sky.it/cronaca/2022/08/11/furti-c...   \n",
       "8  https://www.sicuritalia.it/news/casa/quali-son...   \n",
       "9  https://www.sicurezzamagazine.it/criminalita-d...   \n",
       "\n",
       "                                               title  date  \n",
       "0  Criminalità in Italia: cosa dicono i numeri su...  None  \n",
       "1  Criminalità in Italia: cosa dicono i numeri su...  None  \n",
       "2  Reati, furti, rapine: trova l'indice della cri...  None  \n",
       "3  In Italia aumentano furti (+20%) e rapine (+18...  None  \n",
       "4  Furti in casa in Italia: colpite 10,3 famiglie...  None  \n",
       "5  La classifica delle città più pericolose d'Italia  None  \n",
       "6  Rapine, omicidi e furti: è boom nel 2022. I da...  None  \n",
       "7  Furti in casa, uno ogni tre minuti in Italia: ...  None  \n",
       "8  Rischio furti: quali sono le città più pericol...  None  \n",
       "9  Criminalità: diffusi i dati relativi ai reati ...  None  "
      ]
     },
     "execution_count": 13,
     "metadata": {},
     "output_type": "execute_result"
    }
   ],
   "source": [
    "df = pd.DataFrame(newsData, columns=['link', 'title', 'date'])\n",
    "df"
   ]
  },
  {
   "cell_type": "code",
   "execution_count": null,
   "id": "c795bfc4",
   "metadata": {},
   "outputs": [],
   "source": []
  },
  {
   "cell_type": "code",
   "execution_count": null,
   "id": "38aee68b",
   "metadata": {},
   "outputs": [],
   "source": [
    " df.to_csv('googledata2019-2020.csv')"
   ]
  },
  {
   "cell_type": "code",
   "execution_count": null,
   "id": "8ec19890",
   "metadata": {},
   "outputs": [],
   "source": []
  },
  {
   "cell_type": "markdown",
   "id": "5dbbe604",
   "metadata": {},
   "source": [
    "Google search 2020"
   ]
  },
  {
   "cell_type": "code",
   "execution_count": 14,
   "id": "1af17c36",
   "metadata": {},
   "outputs": [],
   "source": [
    "headers={'User-Agent':'Mozilla/5.0 (Windows NT 10.0; Win64; x64) AppleWebKit/537.36 (KHTML, like Gecko) Chrome/74.0.3729.169 Safari/537.36'}\n",
    "\n",
    "url = \"https://www.google.com/search?q=furti+in+Italia%252C+2019\"\n",
    "html = requests.get(url,headers=headers)"
   ]
  },
  {
   "cell_type": "code",
   "execution_count": null,
   "id": "e6dbb584",
   "metadata": {},
   "outputs": [],
   "source": []
  },
  {
   "cell_type": "code",
   "execution_count": 15,
   "id": "077fa709",
   "metadata": {},
   "outputs": [],
   "source": [
    "soup = soup(html.text, 'html.parser')"
   ]
  },
  {
   "cell_type": "code",
   "execution_count": 16,
   "id": "4f77562d",
   "metadata": {},
   "outputs": [
    {
     "ename": "AttributeError",
     "evalue": "ResultSet object has no attribute 'find_all'. You're probably treating a list of elements like a single element. Did you call find_all() when you meant to call find()?",
     "output_type": "error",
     "traceback": [
      "\u001b[0;31m---------------------------------------------------------------------------\u001b[0m",
      "\u001b[0;31mAttributeError\u001b[0m                            Traceback (most recent call last)",
      "Cell \u001b[0;32mIn [16], line 1\u001b[0m\n\u001b[0;32m----> 1\u001b[0m newsP1 \u001b[38;5;241m=\u001b[39m \u001b[43msoup\u001b[49m\u001b[38;5;241;43m.\u001b[39;49m\u001b[43mfind_all\u001b[49m(\u001b[38;5;124m\"\u001b[39m\u001b[38;5;124mdiv\u001b[39m\u001b[38;5;124m\"\u001b[39m,{\u001b[38;5;124m\"\u001b[39m\u001b[38;5;124mclass\u001b[39m\u001b[38;5;124m\"\u001b[39m:\u001b[38;5;124m\"\u001b[39m\u001b[38;5;124mg\u001b[39m\u001b[38;5;124m\"\u001b[39m})\n",
      "File \u001b[0;32m~/anaconda3/envs/Omdena-Milan/lib/python3.11/site-packages/bs4/element.py:2428\u001b[0m, in \u001b[0;36mResultSet.__getattr__\u001b[0;34m(self, key)\u001b[0m\n\u001b[1;32m   2426\u001b[0m \u001b[38;5;28;01mdef\u001b[39;00m \u001b[38;5;21m__getattr__\u001b[39m(\u001b[38;5;28mself\u001b[39m, key):\n\u001b[1;32m   2427\u001b[0m     \u001b[38;5;124;03m\"\"\"Raise a helpful exception to explain a common code fix.\"\"\"\u001b[39;00m\n\u001b[0;32m-> 2428\u001b[0m     \u001b[38;5;28;01mraise\u001b[39;00m \u001b[38;5;167;01mAttributeError\u001b[39;00m(\n\u001b[1;32m   2429\u001b[0m         \u001b[38;5;124m\"\u001b[39m\u001b[38;5;124mResultSet object has no attribute \u001b[39m\u001b[38;5;124m'\u001b[39m\u001b[38;5;132;01m%s\u001b[39;00m\u001b[38;5;124m'\u001b[39m\u001b[38;5;124m. You\u001b[39m\u001b[38;5;124m'\u001b[39m\u001b[38;5;124mre probably treating a list of elements like a single element. Did you call find_all() when you meant to call find()?\u001b[39m\u001b[38;5;124m\"\u001b[39m \u001b[38;5;241m%\u001b[39m key\n\u001b[1;32m   2430\u001b[0m     )\n",
      "\u001b[0;31mAttributeError\u001b[0m: ResultSet object has no attribute 'find_all'. You're probably treating a list of elements like a single element. Did you call find_all() when you meant to call find()?"
     ]
    }
   ],
   "source": [
    "newsP1 = soup.find_all(\"div\",{\"class\":\"g\"})"
   ]
  },
  {
   "cell_type": "code",
   "execution_count": 17,
   "id": "26dbc7c9",
   "metadata": {
    "scrolled": true
   },
   "outputs": [
    {
     "data": {
      "text/plain": [
       "[<div class=\"g wF4fFd JnwWd g-blk\" data-hveid=\"CAkQAA\" data-ved=\"2ahUKEwjW2LOJ0YP_AhVzUqQEHahqDI4QjDYoAHoECAkQAA\" lang=\"en-GB\"><div class=\"dG2XIf XzTjhb\"><div class=\"c2xzTb\"><div><div><div class=\"xpdopen\"><div class=\"ifM9O\"><h2 class=\"Uo8X3b OhScic zsYMMe\">Featured snippet from the web</h2><div><div><div class=\"yp1CPe wDYxhc NFQFxe viOShc LKPcQc\" data-md=\"471\" lang=\"en-GB\"><div class=\"V3FYCf\"><div class=\"wDYxhc\" data-md=\"61\" lang=\"en-GB\" style=\"clear:none\"><div aria-level=\"3\" class=\"LGOjhe\" data-attrid=\"wa:/description\" data-hveid=\"CBEQAA\" role=\"heading\"><span class=\"ILfuVd\" lang=\"it\"><span class=\"hgKElc\">I furti sono scesi da 1.477.000 circa nel 2012 a <b>1.189.000 nel 2018</b>. Le rapine sono scese da 41.281 nel 2012 a 28.390 nel 2018.</span></span></div></div><div class=\"g\"><div data-hveid=\"CAgQAA\" data-ved=\"2ahUKEwjW2LOJ0YP_AhVzUqQEHahqDI4QFSgAegQICBAA\" lang=\"it\"><div class=\"tF2Cxc\"><div class=\"yuRUbf\"><a data-ved=\"2ahUKEwjW2LOJ0YP_AhVzUqQEHahqDI4QFnoECAgQAw\" href=\"https://www.netatmo.com/it-it/blog/burglary-france\" ping=\"/url?sa=t&amp;source=web&amp;rct=j&amp;url=https://www.netatmo.com/it-it/blog/burglary-france&amp;ved=2ahUKEwjW2LOJ0YP_AhVzUqQEHahqDI4QFnoECAgQAw\"><br/><h3 class=\"LC20lb MBeuO DKV0Md\">Criminalità in Italia: cosa dicono i numeri sui furti - Netatmo</h3><div class=\"TbwUpd NJjxre iUh30 apx8Vc ojE3Fb\"><span class=\"H9lube\"><div aria-hidden=\"true\" class=\"eqA2re NjwKYd Vwoesf\"><img alt=\"\" class=\"XNo5Ab\" src=\"data:image/png;base64,iVBORw0KGgoAAAANSUhEUgAAACAAAAAgCAMAAABEpIrGAAAAXVBMVEVHcEwABQDkexL0ihS6Yg6ZVw3/jxX/kRXXaw7Gag/uhRT8jRSsXA1sOgnLchHsfRLUeBH9eBH2dA/1fRH/oxf5eBDzcA79exHuZgv/mRbqXQniUAbgSAP/eBHLNwBToZCDAAAAH3RSTlMAEtH/d0D//7+U9f5ZKaPosYD//f/////////+///uIpNYtAAAAPhJREFUeAF900WSxTAMBNCgFGam+x9zDCWVfhxPb/sl5uA3YRQnwT9JYwDM/H0OOliEnj5CsCmrr7qOgYON2ycliGD7Hqaj35OIU1mHBbgR6614eBmMxOo+ARQ1r85DzHqTkoErYgX6YfSJcpo0mJfF8/1kwTov29cw+0RAC2eYEicBlNjw1e87AyWGZTvkMKUaQYWAFeeIogeUwIprQ65JaHCTOK6zRO6VIGDFMGzHda3IvZmGBVbMixKPPDlkwCKzN5sFARolMbenFeIHLDXfPxcoEYkrVpIgoJIHInXxBkPlviIJWve1JRJkvpccm585v6dkcRX8AVtwH+DlYbhWAAAAAElFTkSuQmCC\" style=\"height:18px;width:18px\"/></div></span><div><span class=\"VuuXrf\">Netatmo</span><div class=\"byrV5b\"><cite class=\"apx8Vc qLRx3b tjvcx GvPZzd cHaqb\" role=\"text\" style=\"max-width:330px\">https://www.netatmo.com<span class=\"apx8Vc dyjrff ob9lvb\" role=\"text\"> › it-it › blog › burglary-france</span></cite></div></div></div></a><div class=\"B6fmyf byrV5b Mg1HEd\"><div class=\"TbwUpd iUh30 apx8Vc ojE3Fb\"><span class=\"H9lube\"><div class=\"eqA2re NjwKYd\" style=\"height:18px;width:18px\"></div></span><div><span class=\"VuuXrf\">Netatmo</span><div class=\"byrV5b\"><cite class=\"apx8Vc qLRx3b tjvcx GvPZzd cHaqb\" role=\"text\" style=\"max-width:330px\">https://www.netatmo.com<span class=\"apx8Vc dyjrff ob9lvb\" role=\"text\"> › it-it › blog › burglary-france</span></cite><div class=\"eFM0qc BCF2pd iUh30\"></div></div></div></div><div class=\"csDOgf BCF2pd L48a4c\"><div data-bsextraheight=\"0\" data-isdesktop=\"true\" data-ved=\"2ahUKEwjW2LOJ0YP_AhVzUqQEHahqDI4Q2esEegQICBAL\" jscontroller=\"exgaYe\" jsdata=\"l7Bhpb;_;Cky1FY cECq7c;_;Cky1Fc\"><div aria-label=\"Informazioni su questo risultato\" class=\"iTPLzd rNSxBe lUn2nc\" jsaction=\"RvIhPd\" jsname=\"I3kE2c\" role=\"button\" style=\"position:absolute\" tabindex=\"0\"><span class=\"D6lY4c mBswFe\" jsname=\"czHhOd\"><span class=\"xTFaxe z1asCe SaPW2b\" jsname=\"Bil8Ae\" style=\"height:18px;line-height:18px;width:18px\"><svg focusable=\"false\" viewbox=\"0 0 24 24\" xmlns=\"http://www.w3.org/2000/svg\"><path d=\"M12 8c1.1 0 2-.9 2-2s-.9-2-2-2-2 .9-2 2 .9 2 2 2zm0 2c-1.1 0-2 .9-2 2s.9 2 2 2 2-.9 2-2-.9-2-2-2zm0 6c-1.1 0-2 .9-2 2s.9 2 2 2 2-.9 2-2-.9-2-2-2z\"></path></svg></span></span></div><span data-ved=\"2ahUKEwjW2LOJ0YP_AhVzUqQEHahqDI4Qh-4GegQICBAM\" jsname=\"zOVa8\"></span></div></div></div></div><div class=\"IsZvec\"><span class=\"aCOpRe ljeAnf\" style=\"-webkit-line-clamp:2\"></span></div></div></div></div></div></div></div></div></div><div style=\"clear:both\"></div></div></div></div></div></div><div><div class=\"KFFQ0c xKf9F\"><div class=\"akqY6\"></div><div class=\"YfftMc\"><div class=\"AuP6le VTZT1b kno-ftr\"><div class=\"iOWvff P58Kof\"><a aria-hidden=\"true\" href=\"/url?url=https://support.google.com/websearch?p%3Dfeatured_snippets%26hl%3Den-GB&amp;rct=j&amp;q=&amp;esrc=s&amp;usg=AOvVaw3yEGS1Djvre93x1ZE7hMnD&amp;hl=en-GB&amp;sa=X&amp;ved=2ahUKEwjW2LOJ0YP_AhVzUqQEHahqDI4QrpwBegQICRAB\"><span aria-hidden=\"true\" class=\"b3Ke9b gxMdVd z1asCe JrWGoc\" style=\"height:16px;line-height:16px;width:16px\" tabindex=\"-1\"><svg focusable=\"false\" viewbox=\"0 0 24 24\" xmlns=\"http://www.w3.org/2000/svg\"><path d=\"M12 2C6.48 2 2 6.48 2 12s4.48 10 10 10 10-4.48 10-10S17.52 2 12 2zm1 17h-2v-2h2v2zm2.07-7.75l-.9.92C13.45 12.9 13 13.5 13 15h-2v-.5c0-1.1.45-2.1 1.17-2.83l1.24-1.26c.37-.36.59-.86.59-1.41 0-1.1-.9-2-2-2s-2 .9-2 2H8c0-2.21 1.79-4 4-4s4 1.79 4 4c0 .88-.36 1.68-.93 2.25z\"></path></svg></span></a><span class=\"hELpae\"><a href=\"/url?url=https://support.google.com/websearch?p%3Dfeatured_snippets%26hl%3Den-GB&amp;rct=j&amp;q=&amp;esrc=s&amp;usg=AOvVaw3yEGS1Djvre93x1ZE7hMnD&amp;hl=en-GB&amp;sa=X&amp;ved=2ahUKEwjW2LOJ0YP_AhVzUqQEHahqDI4QrpwBegQICRAC\">About featured snippets</a></span><span aria-hidden=\"true\" style=\"padding:0 12px\">•</span></div><div class=\"OwRFvb P58Kof kno-fb\"><div data-async-context=\"async_id:duf3-1-1;authority:0;card_id:;entry_point:0;feature_id:;ftoe:0;header:0;is_jobs_spam_form:0;open:0;preselect_answer_index:-1;suggestions:;suggestions_subtypes:;suggestions_types:;surface:0;title:;type:1\"><div jsaction=\"rcuQ6b:npT2md\" jscontroller=\"EkevXb\" style=\"display:none\"></div><div class=\"yp\" data-async-context-required=\"type,open,feature_id,async_id,entry_point,authority,card_id,ftoe,title,header,suggestions,surface,suggestions_types,suggestions_subtypes,preselect_answer_index,is_jobs_spam_form\" data-async-type=\"duffy3\" data-jiis=\"up\" data-ved=\"2ahUKEwjW2LOJ0YP_AhVzUqQEHahqDI4Q-0F6BAgJEAM\" id=\"duf3-1-1\"></div><span><span aria-hidden=\"true\" class=\"RTZ84b z1asCe Msi2Rc\" data-async-trigger=\"duf3-1-1\" data-ved=\"2ahUKEwjW2LOJ0YP_AhVzUqQEHahqDI4Qtw96BAgJEAQ\" jsaction=\"trigger.szjOR\" role=\"link\" style=\"height:14px;line-height:14px;width:14px\" tabindex=\"-1\"><svg focusable=\"false\" viewbox=\"0 0 24 24\" xmlns=\"http://www.w3.org/2000/svg\"><path d=\"M20 2H4c-1.1 0-1.99.9-1.99 2L2 22l4-4h14c1.1 0 2-.9 2-2V4c0-1.1-.9-2-2-2zm-7 9h-2V5h2v6zm0 4h-2v-2h2v2z\"></path></svg></span><a aria-label=\"Give feedback on this result\" class=\"XEKxtf\" data-async-trigger=\"duf3-1-1\" data-ved=\"2ahUKEwjW2LOJ0YP_AhVzUqQEHahqDI4Qtw96BAgJEAU\" href=\"#\" jsaction=\"trigger.szjOR\" role=\"button\">Feedback</a></span></div></div></div></div></div></div></div>,\n",
       " <div class=\"g\"><div data-hveid=\"CAgQAA\" data-ved=\"2ahUKEwjW2LOJ0YP_AhVzUqQEHahqDI4QFSgAegQICBAA\" lang=\"it\"><div class=\"tF2Cxc\"><div class=\"yuRUbf\"><a data-ved=\"2ahUKEwjW2LOJ0YP_AhVzUqQEHahqDI4QFnoECAgQAw\" href=\"https://www.netatmo.com/it-it/blog/burglary-france\" ping=\"/url?sa=t&amp;source=web&amp;rct=j&amp;url=https://www.netatmo.com/it-it/blog/burglary-france&amp;ved=2ahUKEwjW2LOJ0YP_AhVzUqQEHahqDI4QFnoECAgQAw\"><br/><h3 class=\"LC20lb MBeuO DKV0Md\">Criminalità in Italia: cosa dicono i numeri sui furti - Netatmo</h3><div class=\"TbwUpd NJjxre iUh30 apx8Vc ojE3Fb\"><span class=\"H9lube\"><div aria-hidden=\"true\" class=\"eqA2re NjwKYd Vwoesf\"><img alt=\"\" class=\"XNo5Ab\" src=\"data:image/png;base64,iVBORw0KGgoAAAANSUhEUgAAACAAAAAgCAMAAABEpIrGAAAAXVBMVEVHcEwABQDkexL0ihS6Yg6ZVw3/jxX/kRXXaw7Gag/uhRT8jRSsXA1sOgnLchHsfRLUeBH9eBH2dA/1fRH/oxf5eBDzcA79exHuZgv/mRbqXQniUAbgSAP/eBHLNwBToZCDAAAAH3RSTlMAEtH/d0D//7+U9f5ZKaPosYD//f/////////+///uIpNYtAAAAPhJREFUeAF900WSxTAMBNCgFGam+x9zDCWVfhxPb/sl5uA3YRQnwT9JYwDM/H0OOliEnj5CsCmrr7qOgYON2ycliGD7Hqaj35OIU1mHBbgR6614eBmMxOo+ARQ1r85DzHqTkoErYgX6YfSJcpo0mJfF8/1kwTov29cw+0RAC2eYEicBlNjw1e87AyWGZTvkMKUaQYWAFeeIogeUwIprQ65JaHCTOK6zRO6VIGDFMGzHda3IvZmGBVbMixKPPDlkwCKzN5sFARolMbenFeIHLDXfPxcoEYkrVpIgoJIHInXxBkPlviIJWve1JRJkvpccm585v6dkcRX8AVtwH+DlYbhWAAAAAElFTkSuQmCC\" style=\"height:18px;width:18px\"/></div></span><div><span class=\"VuuXrf\">Netatmo</span><div class=\"byrV5b\"><cite class=\"apx8Vc qLRx3b tjvcx GvPZzd cHaqb\" role=\"text\" style=\"max-width:330px\">https://www.netatmo.com<span class=\"apx8Vc dyjrff ob9lvb\" role=\"text\"> › it-it › blog › burglary-france</span></cite></div></div></div></a><div class=\"B6fmyf byrV5b Mg1HEd\"><div class=\"TbwUpd iUh30 apx8Vc ojE3Fb\"><span class=\"H9lube\"><div class=\"eqA2re NjwKYd\" style=\"height:18px;width:18px\"></div></span><div><span class=\"VuuXrf\">Netatmo</span><div class=\"byrV5b\"><cite class=\"apx8Vc qLRx3b tjvcx GvPZzd cHaqb\" role=\"text\" style=\"max-width:330px\">https://www.netatmo.com<span class=\"apx8Vc dyjrff ob9lvb\" role=\"text\"> › it-it › blog › burglary-france</span></cite><div class=\"eFM0qc BCF2pd iUh30\"></div></div></div></div><div class=\"csDOgf BCF2pd L48a4c\"><div data-bsextraheight=\"0\" data-isdesktop=\"true\" data-ved=\"2ahUKEwjW2LOJ0YP_AhVzUqQEHahqDI4Q2esEegQICBAL\" jscontroller=\"exgaYe\" jsdata=\"l7Bhpb;_;Cky1FY cECq7c;_;Cky1Fc\"><div aria-label=\"Informazioni su questo risultato\" class=\"iTPLzd rNSxBe lUn2nc\" jsaction=\"RvIhPd\" jsname=\"I3kE2c\" role=\"button\" style=\"position:absolute\" tabindex=\"0\"><span class=\"D6lY4c mBswFe\" jsname=\"czHhOd\"><span class=\"xTFaxe z1asCe SaPW2b\" jsname=\"Bil8Ae\" style=\"height:18px;line-height:18px;width:18px\"><svg focusable=\"false\" viewbox=\"0 0 24 24\" xmlns=\"http://www.w3.org/2000/svg\"><path d=\"M12 8c1.1 0 2-.9 2-2s-.9-2-2-2-2 .9-2 2 .9 2 2 2zm0 2c-1.1 0-2 .9-2 2s.9 2 2 2 2-.9 2-2-.9-2-2-2zm0 6c-1.1 0-2 .9-2 2s.9 2 2 2 2-.9 2-2-.9-2-2-2z\"></path></svg></span></span></div><span data-ved=\"2ahUKEwjW2LOJ0YP_AhVzUqQEHahqDI4Qh-4GegQICBAM\" jsname=\"zOVa8\"></span></div></div></div></div><div class=\"IsZvec\"><span class=\"aCOpRe ljeAnf\" style=\"-webkit-line-clamp:2\"></span></div></div></div></div>,\n",
       " <div class=\"g Ww4FFb vt6azd tF2Cxc asEBEc\" data-hveid=\"CBoQAA\" data-ved=\"2ahUKEwjW2LOJ0YP_AhVzUqQEHahqDI4QFSgAegQIGhAA\" jsaction=\"QyLbLe:OMITjf;ewaord:qsYrDe;xd28Mb:A6j43c\" jscontroller=\"SC7lYd\" lang=\"it\" style=\"width:600px\"><div class=\"kvH3mc BToiNc UK95Uc\" data-snc=\"ih6Jnb_cxqROe\"><div class=\"Z26q7c UK95Uc jGGQ5e\" data-snf=\"x5WNvb\" data-snhf=\"0\"><div class=\"yuRUbf\"><a data-ved=\"2ahUKEwjW2LOJ0YP_AhVzUqQEHahqDI4QFnoECA8QAQ\" href=\"https://lab24.ilsole24ore.com/indice-della-criminalita/\" ping=\"/url?sa=t&amp;source=web&amp;rct=j&amp;url=https://lab24.ilsole24ore.com/indice-della-criminalita/&amp;ved=2ahUKEwjW2LOJ0YP_AhVzUqQEHahqDI4QFnoECA8QAQ\"><br/><h3 class=\"LC20lb MBeuO DKV0Md\">Reati, furti, rapine: trova l'indice della criminalità 2022 ... - Lab24</h3><div class=\"TbwUpd NJjxre iUh30 apx8Vc ojE3Fb\"><span class=\"H9lube fJOpI\"><div aria-hidden=\"true\" class=\"eqA2re NjwKYd Vwoesf\"><span class=\"Jj3Uob XNo5Ab z1asCe GYDk8c\" style=\"height:18px;line-height:18px;width:18px\"><svg focusable=\"false\" viewbox=\"0 0 24 24\" xmlns=\"http://www.w3.org/2000/svg\"><path d=\"M12 2C6.48 2 2 6.48 2 12s4.48 10 10 10 10-4.48 10-10S17.52 2 12 2zm-1 17.93c-3.95-.49-7-3.85-7-7.93 0-.62.08-1.21.21-1.79L9 15v1c0 1.1.9 2 2 2v1.93zm6.9-2.54c-.26-.81-1-1.39-1.9-1.39h-1v-3c0-.55-.45-1-1-1H8v-2h2c.55 0 1-.45 1-1V7h2c1.1 0 2-.9 2-2v-.41c2.93 1.19 5 4.06 5 7.41 0 2.08-.8 3.97-2.1 5.39z\"></path></svg></span></div></span><div><span class=\"VuuXrf\">ilsole24ore.com</span><div class=\"byrV5b\"><cite class=\"apx8Vc qLRx3b tjvcx GvPZzd cHaqb\" role=\"text\" style=\"max-width:212px\">https://lab24.ilsole24ore.com<span class=\"apx8Vc dyjrff ob9lvb\" role=\"text\"> › indi...</span></cite></div></div></div></a><div class=\"B6fmyf byrV5b Mg1HEd\"><div class=\"TbwUpd iUh30 apx8Vc ojE3Fb\"><span class=\"H9lube fJOpI\"><div class=\"eqA2re NjwKYd\" style=\"height:18px;width:18px\"></div></span><div><span class=\"VuuXrf\">ilsole24ore.com</span><div class=\"byrV5b\"><cite class=\"apx8Vc qLRx3b tjvcx GvPZzd cHaqb\" role=\"text\" style=\"max-width:212px\">https://lab24.ilsole24ore.com<span class=\"apx8Vc dyjrff ob9lvb\" role=\"text\"> › indi...</span></cite><div class=\"eFM0qc BCF2pd iUh30\"><span class=\"LAWljd BCF2pd\"> · </span><a class=\"fl iUh30\" href=\"https://translate.google.com/translate?hl=en&amp;sl=it&amp;u=https://lab24.ilsole24ore.com/indice-della-criminalita/&amp;prev=search&amp;pto=aue\" ping=\"/url?sa=t&amp;source=web&amp;rct=j&amp;url=https://translate.google.com/translate%3Fhl%3Den%26sl%3Dit%26u%3Dhttps://lab24.ilsole24ore.com/indice-della-criminalita/%26prev%3Dsearch%26pto%3Daue&amp;ved=2ahUKEwjW2LOJ0YP_AhVzUqQEHahqDI4Q7gF6BAgPEAo\"><span>Translate this page</span></a></div></div></div></div><div class=\"csDOgf BCF2pd L48a4c\"><div data-bsextraheight=\"0\" data-isdesktop=\"true\" data-ved=\"2ahUKEwjW2LOJ0YP_AhVzUqQEHahqDI4Q2esEegQIDxAL\" jscontroller=\"exgaYe\" jsdata=\"l7Bhpb;_;Cky1Fg cECq7c;_;Cky1Fk\"><div aria-label=\"About this result\" class=\"iTPLzd rNSxBe lUn2nc\" jsaction=\"RvIhPd\" jsname=\"I3kE2c\" role=\"button\" style=\"position:absolute\" tabindex=\"0\"><span class=\"D6lY4c mBswFe\" jsname=\"czHhOd\"><span class=\"xTFaxe z1asCe SaPW2b\" jsname=\"Bil8Ae\" style=\"height:18px;line-height:18px;width:18px\"><svg focusable=\"false\" viewbox=\"0 0 24 24\" xmlns=\"http://www.w3.org/2000/svg\"><path d=\"M12 8c1.1 0 2-.9 2-2s-.9-2-2-2-2 .9-2 2 .9 2 2 2zm0 2c-1.1 0-2 .9-2 2s.9 2 2 2 2-.9 2-2-.9-2-2-2zm0 6c-1.1 0-2 .9-2 2s.9 2 2 2 2-.9 2-2-.9-2-2-2z\"></path></svg></span></span></div><span data-ved=\"2ahUKEwjW2LOJ0YP_AhVzUqQEHahqDI4Qh-4GegQIDxAM\" jsname=\"zOVa8\"></span></div></div></div></div></div><div class=\"Z26q7c UK95Uc\" data-sncf=\"1\" data-snf=\"nke7rc\"><div class=\"VwiC3b yXK7lf MUxGbd yDYNvb lyLwlc lEBKkf\" style=\"-webkit-line-clamp:2\">Stupefacenti. 17 · 63,7. punteggio ; Classifica finale. 1 ; Omicidi volontari consumati. 37 · 0,6. punteggio ; Tentati omicidi. 39 · 1,7. punteggio ; Violenze sessuali.</div></div><div class=\"Z26q7c UK95Uc\" data-snf=\"bvRFlf\"><div data-ved=\"2ahUKEwjW2LOJ0YP_AhVzUqQEHahqDI4Q2Z0BegQIGxAA\" id=\"eob_1\" jsaction=\"rcuQ6b:npT2md\" jscontroller=\"K6HGfd\" jsdata=\"fxg5tf;_;Cky1Fo\"></div></div></div></div>,\n",
       " <div class=\"g Ww4FFb vt6azd tF2Cxc asEBEc\" data-hveid=\"CCkQAA\" data-ved=\"2ahUKEwjW2LOJ0YP_AhVzUqQEHahqDI4QFSgAegQIKRAA\" jsaction=\"QyLbLe:OMITjf;ewaord:qsYrDe;xd28Mb:A6j43c\" jscontroller=\"SC7lYd\" lang=\"it\" style=\"width:600px\"><div class=\"kvH3mc BToiNc UK95Uc\" data-snc=\"ih6Jnb_y1a6hc\"><div class=\"Z26q7c UK95Uc jGGQ5e\" data-snf=\"x5WNvb\" data-snhf=\"0\"><div class=\"yuRUbf\"><a data-ved=\"2ahUKEwjW2LOJ0YP_AhVzUqQEHahqDI4QFnoECB8QAQ\" href=\"https://www.quotidiano.net/cronaca/furti-rapine-violenze-sessuali-italia-2022-1.8423068\" ping=\"/url?sa=t&amp;source=web&amp;rct=j&amp;url=https://www.quotidiano.net/cronaca/furti-rapine-violenze-sessuali-italia-2022-1.8423068&amp;ved=2ahUKEwjW2LOJ0YP_AhVzUqQEHahqDI4QFnoECB8QAQ\"><br/><h3 class=\"LC20lb MBeuO DKV0Md\">In Italia aumentano furti (+20%) e rapine (+18). Il report ...</h3><div class=\"TbwUpd NJjxre iUh30 apx8Vc ojE3Fb\"><span class=\"H9lube\"><div aria-hidden=\"true\" class=\"eqA2re NjwKYd Vwoesf\"><img alt=\"\" class=\"XNo5Ab\" src=\"data:image/png;base64,iVBORw0KGgoAAAANSUhEUgAAACAAAAAgCAYAAABzenr0AAAEBElEQVR4AWIgCngvZ2TwWiYKxF5A3A3EOwHFVwOQXUsQje182yp9u/xtM7Zt2yjF5jrW2rZt21vZp5PuqZupqbybNbrqXA36dN/unhlCHCFfQzx/09q+0/r27NFuoUkILxNWEUIINQQ0gxruq415qcd3RL6NyocR5hBSCBYCWgkek0yYTRjaWuUvEWwJBgLaCYM214stVf4WwYeADoYPz90Sy6XyTiLx0sOUD9VchU6GDevSIzBX/vPOhUEEtypaqiXpDviWcQE9viHQXb+PREvbklinSmCV7kBSOvg3ezw7/gpemXIdz4y7goG/2PF3OWHvH2ww/E8HjPzLUdx7f28j5+j3ky1G0HduG/qHA3p+r+ognSxa1QpWlbOlw393wKyDofCMKUZGUS3yyxuQXlgL54hCTNgXhEFM5OsLeGvGTXjHliAirQKhKeX4e7ufIMj4crWH+BaVXgkb7ywMJxKKJ4KFbq101qiWD/3dHkdvp8FoskBPGg1m7HJIQB+y/v35d1Bdb5Bt8dlVeH3qdfT48jz+JDIms5hDkBj1t6NKoIZ1M4FdBEgQ83F7A2EwmiGU0f3QzVT8u9MfZ9wz5IS1DUZ8RRa+M/e2IKDKKdd0Qe7PbSqBCoWAxC4m4KwS4IF2PtlysuDkMoz+iwZ+eQ7PjL2MxNxq2bb/chLem3cHVQ8QaGg04f9dAfhji29zBJyZQJzq/mH0n4KTyuRklwNyBSlu4wD0jC6SbVeD8vDpYhdU1QkCQpnRZAZLXFYV1p+PgYHfH04gjgnkqQRGkbWR1Pm+OPnnoLdGYAARcIuSBHAnvACfL3WVBAorGth7gojFAuSXNTTngTwrAkMo7fziS6SSK4HSAyLyvSgr7ssl/1x8sshF/oLc0np6d4ZzeCFUaY5AnPKBc5WCKEMODKf0euxfJxEDL0y4itT8Gtm23T4e7yoxkEcWvzjxKj5a4MxkWkIgTgahmgW/bPZB/V0jWDgVbbyyMOdQGHkjD2bNpeU1jfhsiauaBYLAy5Ovifow52AYZ1BzBJxlGqoY8LMtWyeiWU9qGgxYfjJS9JV1QCXAFfRXO5zzyFQIVOqnoVqIJDjif7bD71t9ccEzE1nFdSDRlNTjN0qvvhwXpOg1KjqcKa6RhbhInnpqzGW5drxG5duWgtKdApdrydDfHawKkX4pVn5HL4qJTyjVOBZKqu4ig8rx2D0BSszYoP/PtgQ7vtO7agivB6JN3HvKuZVSbL0YWaMnTfQ0FaE3p99giGDsJRedNmNVC5ZjCelWZVluD+RyrJKY010bEnVLZtMdW7Lu35R2/7bcmsSL3XQwsYqJ2YTkrj+aSRLiVPxSNxxOrbyhdzyPV47ncVbH8+9bpvgemCmVjOCkFloAAAAASUVORK5CYII=\" style=\"height:18px;width:18px\"/></div></span><div><span class=\"VuuXrf\">quotidiano.net</span><div class=\"byrV5b\"><cite class=\"apx8Vc qLRx3b tjvcx GvPZzd cHaqb\" role=\"text\" style=\"max-width:212px\">https://www.quotidiano.net<span class=\"apx8Vc dyjrff ob9lvb\" role=\"text\"> › cronaca</span></cite></div></div></div></a><div class=\"B6fmyf byrV5b Mg1HEd\"><div class=\"TbwUpd iUh30 apx8Vc ojE3Fb\"><span class=\"H9lube\"><div class=\"eqA2re NjwKYd\" style=\"height:18px;width:18px\"></div></span><div><span class=\"VuuXrf\">quotidiano.net</span><div class=\"byrV5b\"><cite class=\"apx8Vc qLRx3b tjvcx GvPZzd cHaqb\" role=\"text\" style=\"max-width:212px\">https://www.quotidiano.net<span class=\"apx8Vc dyjrff ob9lvb\" role=\"text\"> › cronaca</span></cite><div class=\"eFM0qc BCF2pd iUh30\"><span class=\"LAWljd BCF2pd\"> · </span><a class=\"fl iUh30\" href=\"https://translate.google.com/translate?hl=en&amp;sl=it&amp;u=https://www.quotidiano.net/cronaca/furti-rapine-violenze-sessuali-italia-2022-1.8423068&amp;prev=search&amp;pto=aue\" ping=\"/url?sa=t&amp;source=web&amp;rct=j&amp;url=https://translate.google.com/translate%3Fhl%3Den%26sl%3Dit%26u%3Dhttps://www.quotidiano.net/cronaca/furti-rapine-violenze-sessuali-italia-2022-1.8423068%26prev%3Dsearch%26pto%3Daue&amp;ved=2ahUKEwjW2LOJ0YP_AhVzUqQEHahqDI4Q7gF6BAgfEAo\"><span>Translate this page</span></a></div></div></div></div><div class=\"csDOgf BCF2pd L48a4c\"><div data-bsextraheight=\"0\" data-isdesktop=\"true\" data-ved=\"2ahUKEwjW2LOJ0YP_AhVzUqQEHahqDI4Q2esEegQIHxAL\" jscontroller=\"exgaYe\" jsdata=\"l7Bhpb;_;Cky1Fw cECq7c;_;Cky1F8\"><div aria-label=\"About this result\" class=\"iTPLzd rNSxBe lUn2nc\" jsaction=\"RvIhPd\" jsname=\"I3kE2c\" role=\"button\" style=\"position:absolute\" tabindex=\"0\"><span class=\"D6lY4c mBswFe\" jsname=\"czHhOd\"><span class=\"xTFaxe z1asCe SaPW2b\" jsname=\"Bil8Ae\" style=\"height:18px;line-height:18px;width:18px\"><svg focusable=\"false\" viewbox=\"0 0 24 24\" xmlns=\"http://www.w3.org/2000/svg\"><path d=\"M12 8c1.1 0 2-.9 2-2s-.9-2-2-2-2 .9-2 2 .9 2 2 2zm0 2c-1.1 0-2 .9-2 2s.9 2 2 2 2-.9 2-2-.9-2-2-2zm0 6c-1.1 0-2 .9-2 2s.9 2 2 2 2-.9 2-2-.9-2-2-2z\"></path></svg></span></span></div><span data-ved=\"2ahUKEwjW2LOJ0YP_AhVzUqQEHahqDI4Qh-4GegQIHxAM\" jsname=\"zOVa8\"></span></div></div></div></div></div><div class=\"Z26q7c UK95Uc\" data-sncf=\"1\" data-snf=\"nke7rc\"><div class=\"VwiC3b yXK7lf MUxGbd yDYNvb lyLwlc lEBKkf\" style=\"-webkit-line-clamp:2\"><span>In <em>Italia</em> aumentano <em>furti</em> (+20%) e rapine (+18). Il report 2022 della polizia sui crimini. Il confronto con il 2021 e il pre-pandemia Covid.</span></div></div><div class=\"Z26q7c UK95Uc\" data-snf=\"bvRFlf\"><div data-ved=\"2ahUKEwjW2LOJ0YP_AhVzUqQEHahqDI4Q2Z0BegQILhAA\" id=\"eob_2\" jsaction=\"rcuQ6b:npT2md\" jscontroller=\"K6HGfd\" jsdata=\"fxg5tf;_;Cky1Go\"></div></div></div></div>,\n",
       " <div class=\"g Ww4FFb vt6azd tF2Cxc asEBEc\" data-hveid=\"CCoQAA\" data-ved=\"2ahUKEwjW2LOJ0YP_AhVzUqQEHahqDI4QFSgAegQIKhAA\" jsaction=\"QyLbLe:OMITjf;ewaord:qsYrDe;xd28Mb:A6j43c\" jscontroller=\"SC7lYd\" lang=\"it\" style=\"width:600px\"><div class=\"kvH3mc BToiNc UK95Uc\" data-snc=\"ih6Jnb_FsMale\"><div class=\"Z26q7c UK95Uc jGGQ5e\" data-snf=\"x5WNvb\" data-snhf=\"0\"><div class=\"yuRUbf\"><a data-ved=\"2ahUKEwjW2LOJ0YP_AhVzUqQEHahqDI4QFnoECCEQAQ\" href=\"https://www.truenumbers.it/furti-in-casa/\" ping=\"/url?sa=t&amp;source=web&amp;rct=j&amp;url=https://www.truenumbers.it/furti-in-casa/&amp;ved=2ahUKEwjW2LOJ0YP_AhVzUqQEHahqDI4QFnoECCEQAQ\"><br/><h3 class=\"LC20lb MBeuO DKV0Md\">Furti in casa in Italia: colpite 10,3 famiglie ogni mille</h3><div class=\"TbwUpd NJjxre iUh30 apx8Vc ojE3Fb\"><span class=\"H9lube\"><div aria-hidden=\"true\" class=\"eqA2re NjwKYd Vwoesf\"><img alt=\"\" class=\"XNo5Ab\" src=\"data:image/png;base64,iVBORw0KGgoAAAANSUhEUgAAACAAAAAgCAYAAABzenr0AAAExUlEQVR4Ae1WRWAbOxCVdtfMdpiTMreXMjMzM3N7KdOlzL195jIzMzMzoxPHFKgxS3/kbANOPv+emreeJUkzTzNPWqMylOGLB/ZyvIYXBEokD3D8FUL9wBgscpjCQZTHIo7jlBhjSqPRcNAUBBPhufg4UUQEPp+PYVlWSdwwDCPgbx6/HPCR5TTQTiMcFklC0ffED4URb1bI3hlU6stvt66XZeXkNM/NzbWAQ1vlypWvjBkzxhlOQiJAr1+/PvHu3bsNBUHQGI1GL3Mp0znLEQiaOAHJwLEELJJ7nB8PC2LIRahVIEwpzCdp1Gej9PyTh+fPaa22zPF2u726QqFIdzgcX0dFRe1csGBBNgkalgn65s2bVQ4dOjSV5/nY+Ph4F2SSxMnvV4SvHIIaIK4M3rFgOQiuCIClA0mDwBEDZiYOvV5v1P3790dDJjLnz59/YvXq1QEUBuinhJLFwDUOrphpGBOxJlQCJDLgWASfoiuQl/As52N/D8ulaGWMtZJBt9milFuBFIYMQOkxlED+JiE+wf1QrjDRNM1BUKIFOjs7u9bTp08JCUfz5s1vLFmyhJ83bx4ikEiLpPZwFULjuiTH7+JCIsxPRYRSIS65/bga3LcGSwFzyWlq3+RqFR7YfP58sUI14B0XrWJ839E0RhLAoQi1VWZmZjbVarUZ9+7dy16+fPnzRo0aCeGCJEbAxKmVnqINrQ+dRVVN+gBp/mQelg+aftvj8QzrUVBT0len06H27dsjqdaiSqXKlcvlHpfLFfnq1asuer3e9u233/4wbty4dMlVCVAoDCdvPQQ1UrRUbviFZkt5Z6z+0+WMADDr9AoVKhwEYu/9fn/sw4cPB1y6dKnT3r17DePHj0d/iwDCVOmLP8qMSkORjGAI6rNYLEeAxAFYEdmwNMtDGUbu27evaYsWLZSlE/i7EP+6FZRNeTyeD7C81sfExJwDTbBut7vW48ePRx87dqwWiScCwgj8fyC7IQDPmDHjQcWKFX8wm823QZQym83W5N27dyPWrVuXStQvAj4LAQJCIDU1NdijR4+LNWvW/AmE+DwYDOrfvn3b8cGDB71BpCZC4lPpGPQZIE0wG2Z+iIjxzp07Y+EaB3roC/q4pATAsyhl4PMAgqOxY8faypcvvzUtLW0/zDzX6XSWf/bsWQeO44ii/yEBjP4RQIRo1apVQo0aNV4mJSX9HBsbe5YEBRIJgUBA9SfLEBePiSWDtP5TzJw5E1mtVr5Tp073K1Wq9IPJZLoD5eFBmBhQOgESiOz3YDQviAiMJs8o14PCAY7I0sNgDKSV3FPEOSqC6dOnox07dgS6d+9+AbLxE2xWL6CfyLIsRcYxJWWMEY0xx2DsYihsA3PRGHFIRpWmeMQwDCeTyVxgNjAn+cCEb1SSKHMkUUbeunVrILzTwVh3Ca/96tVEdSwma+OYyG9bxEUtahwT8W1NszEddWmFwjFo0CDUuHHjjHbt2n0Py25R586dv2nQoMH70nZL2IzQkCFDbPXr11/frVu3RdB/aZs2bdaVWD6OQBDl5rE0fJLVdn9A5wzkaXLzOPq1x0/ai/WFrx6CnY6CPyPqjIwMHVw1OTk5dNGvXbh/actWw1idw+HQoDKU4YvH7yGbe+Zr63DIAAAAAElFTkSuQmCC\" style=\"height:18px;width:18px\"/></div></span><div><span class=\"VuuXrf\">truenumbers.it</span><div class=\"byrV5b\"><cite class=\"apx8Vc qLRx3b tjvcx GvPZzd cHaqb\" role=\"text\" style=\"max-width:212px\">https://www.truenumbers.it<span class=\"apx8Vc dyjrff ob9lvb\" role=\"text\"> › furti-i...</span></cite></div></div></div></a><div class=\"B6fmyf byrV5b Mg1HEd\"><div class=\"TbwUpd iUh30 apx8Vc ojE3Fb\"><span class=\"H9lube\"><div class=\"eqA2re NjwKYd\" style=\"height:18px;width:18px\"></div></span><div><span class=\"VuuXrf\">truenumbers.it</span><div class=\"byrV5b\"><cite class=\"apx8Vc qLRx3b tjvcx GvPZzd cHaqb\" role=\"text\" style=\"max-width:212px\">https://www.truenumbers.it<span class=\"apx8Vc dyjrff ob9lvb\" role=\"text\"> › furti-i...</span></cite><div class=\"eFM0qc BCF2pd iUh30\"><span class=\"LAWljd BCF2pd\"> · </span><a class=\"fl iUh30\" href=\"https://translate.google.com/translate?hl=en&amp;sl=it&amp;u=https://www.truenumbers.it/furti-in-casa/&amp;prev=search&amp;pto=aue\" ping=\"/url?sa=t&amp;source=web&amp;rct=j&amp;url=https://translate.google.com/translate%3Fhl%3Den%26sl%3Dit%26u%3Dhttps://www.truenumbers.it/furti-in-casa/%26prev%3Dsearch%26pto%3Daue&amp;ved=2ahUKEwjW2LOJ0YP_AhVzUqQEHahqDI4Q7gF6BAghEAo\"><span>Translate this page</span></a></div></div></div></div><div class=\"csDOgf BCF2pd L48a4c\"><div data-bsextraheight=\"0\" data-isdesktop=\"true\" data-ved=\"2ahUKEwjW2LOJ0YP_AhVzUqQEHahqDI4Q2esEegQIIRAL\" jscontroller=\"exgaYe\" jsdata=\"l7Bhpb;_;Cky1GI cECq7c;_;Cky1GM\"><div aria-label=\"About this result\" class=\"iTPLzd rNSxBe lUn2nc\" jsaction=\"RvIhPd\" jsname=\"I3kE2c\" role=\"button\" style=\"position:absolute\" tabindex=\"0\"><span class=\"D6lY4c mBswFe\" jsname=\"czHhOd\"><span class=\"xTFaxe z1asCe SaPW2b\" jsname=\"Bil8Ae\" style=\"height:18px;line-height:18px;width:18px\"><svg focusable=\"false\" viewbox=\"0 0 24 24\" xmlns=\"http://www.w3.org/2000/svg\"><path d=\"M12 8c1.1 0 2-.9 2-2s-.9-2-2-2-2 .9-2 2 .9 2 2 2zm0 2c-1.1 0-2 .9-2 2s.9 2 2 2 2-.9 2-2-.9-2-2-2zm0 6c-1.1 0-2 .9-2 2s.9 2 2 2 2-.9 2-2-.9-2-2-2z\"></path></svg></span></span></div><span data-ved=\"2ahUKEwjW2LOJ0YP_AhVzUqQEHahqDI4Qh-4GegQIIRAM\" jsname=\"zOVa8\"></span></div></div></div></div></div><div class=\"Z26q7c UK95Uc\" data-sncf=\"1\" data-snf=\"nke7rc\"><div class=\"VwiC3b yXK7lf MUxGbd yDYNvb lyLwlc lEBKkf\" style=\"-webkit-line-clamp:2\"><span>La città dove i ladri entrano più spesso in casa è Milano con 11.097 <em>furti</em> in appartamento denunciati. La seconda è Roma con 10.474 <em>furti</em> in casa denunciati. In ...</span></div></div><div class=\"Z26q7c UK95Uc\" data-snf=\"bvRFlf\"><div data-ved=\"2ahUKEwjW2LOJ0YP_AhVzUqQEHahqDI4Q2Z0BegQILRAA\" id=\"eob_4\" jsaction=\"rcuQ6b:npT2md\" jscontroller=\"K6HGfd\" jsdata=\"fxg5tf;_;Cky1Gw\"></div></div></div></div>,\n",
       " <div class=\"g Ww4FFb vt6azd tF2Cxc asEBEc\" data-hveid=\"CDYQAA\" data-ved=\"2ahUKEwjW2LOJ0YP_AhVzUqQEHahqDI4QFSgAegQINhAA\" jsaction=\"QyLbLe:OMITjf;ewaord:qsYrDe;xd28Mb:A6j43c\" jscontroller=\"SC7lYd\" lang=\"it\" style=\"width:600px\"><div class=\"kvH3mc BToiNc UK95Uc\" data-snc=\"ih6Jnb_q9xXCb\"><div class=\"Z26q7c UK95Uc jGGQ5e\" data-snf=\"x5WNvb\" data-snhf=\"0\"><div class=\"yuRUbf\"><a data-ved=\"2ahUKEwjW2LOJ0YP_AhVzUqQEHahqDI4QFnoECCMQAQ\" href=\"https://www.iodonna.it/attualita/costume-e-societa/2022/10/04/furti-rapine-e-scippi-la-classifica-delle-citta-piu-pericolose-ditalia/\" ping=\"/url?sa=t&amp;source=web&amp;rct=j&amp;url=https://www.iodonna.it/attualita/costume-e-societa/2022/10/04/furti-rapine-e-scippi-la-classifica-delle-citta-piu-pericolose-ditalia/&amp;ved=2ahUKEwjW2LOJ0YP_AhVzUqQEHahqDI4QFnoECCMQAQ\"><br/><h3 class=\"LC20lb MBeuO DKV0Md\">La classifica delle città più pericolose d'Italia</h3><div class=\"TbwUpd NJjxre iUh30 apx8Vc ojE3Fb\"><span class=\"H9lube\"><div aria-hidden=\"true\" class=\"eqA2re NjwKYd Vwoesf\"><img alt=\"\" class=\"XNo5Ab\" src=\"data:image/png;base64,iVBORw0KGgoAAAANSUhEUgAAACAAAAAWCAMAAACWh252AAAAPFBMVEVHcEwAAAAAAAAAAAAAAAAAAAAAAAAAAAAAAAAAAAAAAAAAAAAAAAAAAAAAAAAAAAAAAAAAAAAAAAAAAACHr/7WAAAAFHRSTlMAaFwgeIelz8T/LdmV9kPpDDpQtJ4j2FsAAADVSURBVHgBXc+BioUgFADReVnZVJq2//+vu6w8ww6AVxzgCvCZ6MI8z8sa4xLoNl1oQmwT++axQ6NubZoNfE169jG1+DTwyLoxmF1ed1ceBGV0aOYRXRllvaD8CQGCTrwkrdxL0hkWDbyc7SdZPxC18JI1Avt/kJSQYd+pAfZAKEVTD1RqLeWu1A9lquSM2oIJ1MCbph4cevOmRw/axqOiZw+yJl6y1h5waWa0ePEEtx6Mkpn+Tfhp52NyBaB+H6LWYcWNMeBnWCOtNKvflHy5hjbesbW/kR4JeEDsV6oAAAAASUVORK5CYII=\" style=\"height:18px;width:18px\"/></div></span><div><span class=\"VuuXrf\">iodonna.it</span><div class=\"byrV5b\"><cite class=\"apx8Vc qLRx3b tjvcx GvPZzd cHaqb\" role=\"text\" style=\"max-width:212px\">https://www.iodonna.it<span class=\"apx8Vc dyjrff ob9lvb\" role=\"text\"> › 2022/10/04</span></cite></div></div></div></a><div class=\"B6fmyf byrV5b Mg1HEd\"><div class=\"TbwUpd iUh30 apx8Vc ojE3Fb\"><span class=\"H9lube\"><div class=\"eqA2re NjwKYd\" style=\"height:18px;width:18px\"></div></span><div><span class=\"VuuXrf\">iodonna.it</span><div class=\"byrV5b\"><cite class=\"apx8Vc qLRx3b tjvcx GvPZzd cHaqb\" role=\"text\" style=\"max-width:212px\">https://www.iodonna.it<span class=\"apx8Vc dyjrff ob9lvb\" role=\"text\"> › 2022/10/04</span></cite><div class=\"eFM0qc BCF2pd iUh30\"><span class=\"LAWljd BCF2pd\"> · </span><a class=\"fl iUh30\" href=\"https://translate.google.com/translate?hl=en&amp;sl=it&amp;u=https://www.iodonna.it/attualita/costume-e-societa/2022/10/04/furti-rapine-e-scippi-la-classifica-delle-citta-piu-pericolose-ditalia/&amp;prev=search&amp;pto=aue\" ping=\"/url?sa=t&amp;source=web&amp;rct=j&amp;url=https://translate.google.com/translate%3Fhl%3Den%26sl%3Dit%26u%3Dhttps://www.iodonna.it/attualita/costume-e-societa/2022/10/04/furti-rapine-e-scippi-la-classifica-delle-citta-piu-pericolose-ditalia/%26prev%3Dsearch%26pto%3Daue&amp;ved=2ahUKEwjW2LOJ0YP_AhVzUqQEHahqDI4Q7gF6BAgjEAo\"><span>Translate this page</span></a></div></div></div></div><div class=\"csDOgf BCF2pd L48a4c\"><div data-bsextraheight=\"0\" data-isdesktop=\"true\" data-ved=\"2ahUKEwjW2LOJ0YP_AhVzUqQEHahqDI4Q2esEegQIIxAL\" jscontroller=\"exgaYe\" jsdata=\"l7Bhpb;_;Cky1GQ cECq7c;_;Cky1Gg\"><div aria-label=\"About this result\" class=\"iTPLzd rNSxBe lUn2nc\" jsaction=\"RvIhPd\" jsname=\"I3kE2c\" role=\"button\" style=\"position:absolute\" tabindex=\"0\"><span class=\"D6lY4c mBswFe\" jsname=\"czHhOd\"><span class=\"xTFaxe z1asCe SaPW2b\" jsname=\"Bil8Ae\" style=\"height:18px;line-height:18px;width:18px\"><svg focusable=\"false\" viewbox=\"0 0 24 24\" xmlns=\"http://www.w3.org/2000/svg\"><path d=\"M12 8c1.1 0 2-.9 2-2s-.9-2-2-2-2 .9-2 2 .9 2 2 2zm0 2c-1.1 0-2 .9-2 2s.9 2 2 2 2-.9 2-2-.9-2-2-2zm0 6c-1.1 0-2 .9-2 2s.9 2 2 2 2-.9 2-2-.9-2-2-2z\"></path></svg></span></span></div><span data-ved=\"2ahUKEwjW2LOJ0YP_AhVzUqQEHahqDI4Qh-4GegQIIxAM\" jsname=\"zOVa8\"></span></div></div></div></div></div><div class=\"Z26q7c UK95Uc\" data-sncf=\"1\" data-snf=\"nke7rc\"><div class=\"VwiC3b yXK7lf MUxGbd yDYNvb lyLwlc lEBKkf\" style=\"-webkit-line-clamp:2\"><span class=\"MUxGbd wuQ4Ob WZ8Tjf\"><span>4 Oct 2022</span> — </span><span>A Milano va quello dei <em>furti</em> in generale (seguita da Rimini e Roma), a Barletta quello dei <em>furti</em> di automobili, mentre Napoli “vince” per <em>furti</em> ...</span></div></div><div class=\"Z26q7c UK95Uc\" data-snf=\"bvRFlf\"><div data-ved=\"2ahUKEwjW2LOJ0YP_AhVzUqQEHahqDI4Q2Z0BegQIOxAA\" id=\"eob_7\" jsaction=\"rcuQ6b:npT2md\" jscontroller=\"K6HGfd\" jsdata=\"fxg5tf;_;Cky1HA\"></div></div></div></div>,\n",
       " <div class=\"g Ww4FFb vt6azd tF2Cxc asEBEc\" data-hveid=\"CDgQAA\" data-ved=\"2ahUKEwjW2LOJ0YP_AhVzUqQEHahqDI4QFSgAegQIOBAA\" jsaction=\"QyLbLe:OMITjf;ewaord:qsYrDe;xd28Mb:A6j43c\" jscontroller=\"SC7lYd\" lang=\"it\" style=\"width:600px\"><div class=\"kvH3mc BToiNc UK95Uc\" data-snc=\"ih6Jnb_Blr6X\"><div class=\"Z26q7c UK95Uc jGGQ5e\" data-snf=\"x5WNvb\" data-snhf=\"0\"><div class=\"yuRUbf\"><a data-ved=\"2ahUKEwjW2LOJ0YP_AhVzUqQEHahqDI4QFnoECCIQAQ\" href=\"https://www.ilmessaggero.it/italia/furti_rapinte_omicidi_boom_dati_viminale-6873029.html\" ping=\"/url?sa=t&amp;source=web&amp;rct=j&amp;url=https://www.ilmessaggero.it/italia/furti_rapinte_omicidi_boom_dati_viminale-6873029.html&amp;ved=2ahUKEwjW2LOJ0YP_AhVzUqQEHahqDI4QFnoECCIQAQ\"><br/><h3 class=\"LC20lb MBeuO DKV0Md\">Rapine, omicidi e furti: è boom nel 2022. I dati del Viminale</h3><div class=\"TbwUpd NJjxre iUh30 apx8Vc ojE3Fb\"><span class=\"H9lube\"><div aria-hidden=\"true\" class=\"eqA2re NjwKYd Vwoesf\"><img alt=\"\" class=\"XNo5Ab\" src=\"data:image/png;base64,iVBORw0KGgoAAAANSUhEUgAAACAAAAAgCAAAAABWESUoAAABpklEQVR4AX2SIYjDMBiFn6+rl7Mz5ybOVs6cmpo4X19RT6GeyapCzVT0bG111VQhqlCIKuRdHh3LDXb3QfNg/9dkrwT8C++9AkquKwVn0q8acVWIINAWx2N+nea5rbiWZZDoi4qUGATOHxDYpbgwBzrSfQMNhQfZ4Ml41HqzmcJMC0mQJR58dlWTI1C334rS00vokA334XYd+sN4nU4AJnNX3LYWnPcXimGHsXOlhOvUPQWSk2GgB4KwPIRWgupAXdSI1R+CZnreCRqAQRPvBRJeyKkhwb0KXi0Uq6kzCW3xGaI4203wEnSE0xQSsDHHHTSnwauQSIj/QecnabIJiiS1saaOYNON90JCN+Qh+ktsAQpRvWkRhf++w3b5vAQs7YugUdwhB3JGIR6h9wVQuYdgfwua235wnCU2ToIxElCRVM21SoF9beXnuq5Iz7ZCoDGzWtQQ2JW3Ib8MRvc2G43EpCfB5YCII+cdDpZ0X8CgI2j32hQi1zGcTgq606gAeQZGrstkVwY8hX8GyHsGjcRDiMpW0/ULvYirhA2EJ76ogRbG334AMS2RRtFnce0AAAAASUVORK5CYII=\" style=\"height:18px;width:18px\"/></div></span><div><span class=\"VuuXrf\">ilmessaggero.it</span><div class=\"byrV5b\"><cite class=\"apx8Vc qLRx3b tjvcx GvPZzd cHaqb\" role=\"text\" style=\"max-width:212px\">https://www.ilmessaggero.it<span class=\"apx8Vc dyjrff ob9lvb\" role=\"text\"> › italia</span></cite></div></div></div></a><div class=\"B6fmyf byrV5b Mg1HEd\"><div class=\"TbwUpd iUh30 apx8Vc ojE3Fb\"><span class=\"H9lube\"><div class=\"eqA2re NjwKYd\" style=\"height:18px;width:18px\"></div></span><div><span class=\"VuuXrf\">ilmessaggero.it</span><div class=\"byrV5b\"><cite class=\"apx8Vc qLRx3b tjvcx GvPZzd cHaqb\" role=\"text\" style=\"max-width:212px\">https://www.ilmessaggero.it<span class=\"apx8Vc dyjrff ob9lvb\" role=\"text\"> › italia</span></cite><div class=\"eFM0qc BCF2pd iUh30\"><span class=\"LAWljd BCF2pd\"> · </span><a class=\"fl iUh30\" href=\"https://translate.google.com/translate?hl=en&amp;sl=it&amp;u=https://www.ilmessaggero.it/italia/furti_rapinte_omicidi_boom_dati_viminale-6873029.html&amp;prev=search&amp;pto=aue\" ping=\"/url?sa=t&amp;source=web&amp;rct=j&amp;url=https://translate.google.com/translate%3Fhl%3Den%26sl%3Dit%26u%3Dhttps://www.ilmessaggero.it/italia/furti_rapinte_omicidi_boom_dati_viminale-6873029.html%26prev%3Dsearch%26pto%3Daue&amp;ved=2ahUKEwjW2LOJ0YP_AhVzUqQEHahqDI4Q7gF6BAgiEAo\"><span>Translate this page</span></a></div></div></div></div><div class=\"csDOgf BCF2pd L48a4c\"><div data-bsextraheight=\"0\" data-isdesktop=\"true\" data-ved=\"2ahUKEwjW2LOJ0YP_AhVzUqQEHahqDI4Q2esEegQIIhAL\" jscontroller=\"exgaYe\" jsdata=\"l7Bhpb;_;Cky1GY cECq7c;_;Cky1Gc\"><div aria-label=\"About this result\" class=\"iTPLzd rNSxBe lUn2nc\" jsaction=\"RvIhPd\" jsname=\"I3kE2c\" role=\"button\" style=\"position:absolute\" tabindex=\"0\"><span class=\"D6lY4c mBswFe\" jsname=\"czHhOd\"><span class=\"xTFaxe z1asCe SaPW2b\" jsname=\"Bil8Ae\" style=\"height:18px;line-height:18px;width:18px\"><svg focusable=\"false\" viewbox=\"0 0 24 24\" xmlns=\"http://www.w3.org/2000/svg\"><path d=\"M12 8c1.1 0 2-.9 2-2s-.9-2-2-2-2 .9-2 2 .9 2 2 2zm0 2c-1.1 0-2 .9-2 2s.9 2 2 2 2-.9 2-2-.9-2-2-2zm0 6c-1.1 0-2 .9-2 2s.9 2 2 2 2-.9 2-2-.9-2-2-2z\"></path></svg></span></span></div><span data-ved=\"2ahUKEwjW2LOJ0YP_AhVzUqQEHahqDI4Qh-4GegQIIhAM\" jsname=\"zOVa8\"></span></div></div></div></div></div><div class=\"Z26q7c UK95Uc\" data-sncf=\"1\" data-snf=\"nke7rc\"><div class=\"VwiC3b yXK7lf MUxGbd yDYNvb lyLwlc lEBKkf\" style=\"-webkit-line-clamp:2\"><span class=\"MUxGbd wuQ4Ob WZ8Tjf\"><span>15 Aug 2022</span> — </span><span>Al 10 agosto sono 95.184 in totale i migranti in accoglienza in <em>Italia</em>, il 23,9% in più rispetto al 10 agosto dello scorso anno: 682 sono in ...</span></div></div><div class=\"Z26q7c UK95Uc\" data-snf=\"bvRFlf\"><div data-ved=\"2ahUKEwjW2LOJ0YP_AhVzUqQEHahqDI4Q2Z0BegQIPBAA\" id=\"eob_8\" jsaction=\"rcuQ6b:npT2md\" jscontroller=\"K6HGfd\" jsdata=\"fxg5tf;_;Cky1G8\"></div></div></div></div>,\n",
       " <div class=\"g Ww4FFb vt6azd tF2Cxc asEBEc\" data-hveid=\"CCwQAA\" data-ved=\"2ahUKEwjW2LOJ0YP_AhVzUqQEHahqDI4QFSgAegQILBAA\" jsaction=\"QyLbLe:OMITjf;ewaord:qsYrDe;xd28Mb:A6j43c\" jscontroller=\"SC7lYd\" lang=\"it\" style=\"width:600px\"><div class=\"kvH3mc BToiNc UK95Uc\" data-snc=\"ih6Jnb_OIy6fe\"><div class=\"Z26q7c UK95Uc jGGQ5e\" data-snf=\"x5WNvb\" data-snhf=\"0\"><div class=\"yuRUbf\"><a data-ved=\"2ahUKEwjW2LOJ0YP_AhVzUqQEHahqDI4QFnoECB4QAQ\" href=\"https://tg24.sky.it/cronaca/2022/08/11/furti-casa-italia-dati-2021\" ping=\"/url?sa=t&amp;source=web&amp;rct=j&amp;url=https://tg24.sky.it/cronaca/2022/08/11/furti-casa-italia-dati-2021&amp;ved=2ahUKEwjW2LOJ0YP_AhVzUqQEHahqDI4QFnoECB4QAQ\"><br/><h3 class=\"LC20lb MBeuO DKV0Md\">Furti in casa, uno ogni tre minuti in Italia: 182mila denunce ...</h3><div class=\"TbwUpd NJjxre iUh30 apx8Vc ojE3Fb\"><span class=\"H9lube\"><div aria-hidden=\"true\" class=\"eqA2re NjwKYd Vwoesf\"><img alt=\"\" class=\"XNo5Ab\" src=\"data:image/jpeg;base64,/9j/4AAQSkZJRgABAQAAAQABAAD/2wCEAAkGBwgHBgkIBwgKCgkLDRYPDQwMDRsUFRAWIB0iIiAdHx8kKDQsJCYxJx8fLT0tMTU3Ojo6Iys/RD84QzQ5OjcBCgoKDQwNGhAPGjclHyU3Nzc3Nzc3Nzc3Nzc3NzcrNzc3Kzc3Nzc3Ny03NTc3Nzc3Nzc3Nzc3Nzc3Nzc3Nzc3N//AABEIACAAIAMBIgACEQEDEQH/xAAXAAADAQAAAAAAAAAAAAAAAAAFBgcE/8QAKRAAAgIBBAEDAgcAAAAAAAAAAQIDBBEABRIhMQYTQSJRBzJCYXGB8P/EABcBAQADAAAAAAAAAAAAAAAAAAABBQf/xAAhEQABAgQHAAAAAAAAAAAAAAAAAQIDESOxBBIUIUFCof/aAAwDAQACEQMRAD8AtG53q+2bfZv3HKV60bSysAThQMnoaW7XqqaWGhLVo2KqWL8EBe2i4kjfJJXDHwB/WdM1uNp6ssUcixu6FVdkDgE/PE+f40m0fw8r15nmluxt7liCWWKGmkMTiPn1wU4y3Ps/toArR9a7Lde37czpDWhecTyLxjmiQkO8Z/UARgnRzb7QvUYLaxyRLMgcJIMMoIyMj76RNz9De9Bsey8Jbe31rUjmyzhTXrYz7DfVmQMcL48Dvx3QhgDzoCA1dtks2IoEOGldUBJ6GTjWpNhsEFuUJUBiCJx9QUZYr32B/vnSzDvt+GxFOlgh43DqMDGQc+NF4PVsSU5Ek26F7GHWFh0sQdeJwCC3yT+b5Pjxqqbk5NAj6hFpyUKR7JzaD27MLJKzKJOTKqlSoOeQBxlgOs99awTPRrSvFJPl0YqwUMewcaxy+stzNiOeuYaroAMV4ygZR4UjJ6H2GPJ0HubhNdtS2bL85ZW5MfudQ5zepOHhxp1V29sf/9k=\" style=\"height:18px;width:18px\"/></div></span><div><span class=\"VuuXrf\">sky.it</span><div class=\"byrV5b\"><cite class=\"apx8Vc qLRx3b tjvcx GvPZzd cHaqb\" role=\"text\" style=\"max-width:212px\">https://tg24.sky.it<span class=\"apx8Vc dyjrff ob9lvb\" role=\"text\"> › 2022/08/11 › fu...</span></cite></div></div></div></a><div class=\"B6fmyf byrV5b Mg1HEd\"><div class=\"TbwUpd iUh30 apx8Vc ojE3Fb\"><span class=\"H9lube\"><div class=\"eqA2re NjwKYd\" style=\"height:18px;width:18px\"></div></span><div><span class=\"VuuXrf\">sky.it</span><div class=\"byrV5b\"><cite class=\"apx8Vc qLRx3b tjvcx GvPZzd cHaqb\" role=\"text\" style=\"max-width:212px\">https://tg24.sky.it<span class=\"apx8Vc dyjrff ob9lvb\" role=\"text\"> › 2022/08/11 › fu...</span></cite><div class=\"eFM0qc BCF2pd iUh30\"><span class=\"LAWljd BCF2pd\"> · </span><a class=\"fl iUh30\" href=\"https://translate.google.com/translate?hl=en&amp;sl=it&amp;u=https://tg24.sky.it/cronaca/2022/08/11/furti-casa-italia-dati-2021&amp;prev=search&amp;pto=aue\" ping=\"/url?sa=t&amp;source=web&amp;rct=j&amp;url=https://translate.google.com/translate%3Fhl%3Den%26sl%3Dit%26u%3Dhttps://tg24.sky.it/cronaca/2022/08/11/furti-casa-italia-dati-2021%26prev%3Dsearch%26pto%3Daue&amp;ved=2ahUKEwjW2LOJ0YP_AhVzUqQEHahqDI4Q7gF6BAgeEAo\"><span>Translate this page</span></a></div></div></div></div><div class=\"csDOgf BCF2pd L48a4c\"><div data-bsextraheight=\"0\" data-isdesktop=\"true\" data-ved=\"2ahUKEwjW2LOJ0YP_AhVzUqQEHahqDI4Q2esEegQIHhAL\" jscontroller=\"exgaYe\" jsdata=\"l7Bhpb;_;Cky1F0 cECq7c;_;Cky1F4\"><div aria-label=\"About this result\" class=\"iTPLzd rNSxBe lUn2nc\" jsaction=\"RvIhPd\" jsname=\"I3kE2c\" role=\"button\" style=\"position:absolute\" tabindex=\"0\"><span class=\"D6lY4c mBswFe\" jsname=\"czHhOd\"><span class=\"xTFaxe z1asCe SaPW2b\" jsname=\"Bil8Ae\" style=\"height:18px;line-height:18px;width:18px\"><svg focusable=\"false\" viewbox=\"0 0 24 24\" xmlns=\"http://www.w3.org/2000/svg\"><path d=\"M12 8c1.1 0 2-.9 2-2s-.9-2-2-2-2 .9-2 2 .9 2 2 2zm0 2c-1.1 0-2 .9-2 2s.9 2 2 2 2-.9 2-2-.9-2-2-2zm0 6c-1.1 0-2 .9-2 2s.9 2 2 2 2-.9 2-2-.9-2-2-2z\"></path></svg></span></span></div><span data-ved=\"2ahUKEwjW2LOJ0YP_AhVzUqQEHahqDI4Qh-4GegQIHhAM\" jsname=\"zOVa8\"></span></div></div></div></div></div><div class=\"Z26q7c UK95Uc\" data-sncf=\"1\" data-snf=\"nke7rc\"><div class=\"VwiC3b yXK7lf MUxGbd yDYNvb lyLwlc lEBKkf\" style=\"-webkit-line-clamp:2\"><span class=\"MUxGbd wuQ4Ob WZ8Tjf\"><span>11 Aug 2022</span> — </span><span>I <em>furti</em> continuano a essere un reato molto diffuso in <em>Italia</em>: 7,1 colpi ogni mille famiglie con picchi di 8,4 <em>furti</em> al Nord e di 7,8 al Centro; ...</span></div></div><div class=\"Z26q7c UK95Uc\" data-snf=\"bvRFlf\"><div data-ved=\"2ahUKEwjW2LOJ0YP_AhVzUqQEHahqDI4Q2Z0BegQILxAA\" id=\"eob_3\" jsaction=\"rcuQ6b:npT2md\" jscontroller=\"K6HGfd\" jsdata=\"fxg5tf;_;Cky1Gs\"></div></div></div></div>,\n",
       " <div class=\"g Ww4FFb vt6azd tF2Cxc asEBEc\" data-hveid=\"CDUQAA\" data-ved=\"2ahUKEwjW2LOJ0YP_AhVzUqQEHahqDI4QFSgAegQINRAA\" jsaction=\"QyLbLe:OMITjf;ewaord:qsYrDe;xd28Mb:A6j43c\" jscontroller=\"SC7lYd\" lang=\"it\" style=\"width:600px\"><div class=\"kvH3mc BToiNc UK95Uc\" data-snc=\"ih6Jnb_BTUYtb\"><div class=\"Z26q7c UK95Uc jGGQ5e\" data-snf=\"x5WNvb\" data-snhf=\"0\"><div class=\"yuRUbf\"><a data-ved=\"2ahUKEwjW2LOJ0YP_AhVzUqQEHahqDI4QFnoECCQQAQ\" href=\"https://www.sicuritalia.it/news/casa/quali-sono-le-citta-a-rischio-furti-una-classifica/\" ping=\"/url?sa=t&amp;source=web&amp;rct=j&amp;url=https://www.sicuritalia.it/news/casa/quali-sono-le-citta-a-rischio-furti-una-classifica/&amp;ved=2ahUKEwjW2LOJ0YP_AhVzUqQEHahqDI4QFnoECCQQAQ\"><br/><h3 class=\"LC20lb MBeuO DKV0Md\">Rischio furti: quali sono le città più pericolose in Italia nel ...</h3><div class=\"TbwUpd NJjxre iUh30 apx8Vc ojE3Fb\"><span class=\"H9lube\"><div aria-hidden=\"true\" class=\"eqA2re NjwKYd Vwoesf\"><img alt=\"\" class=\"XNo5Ab\" src=\"data:image/png;base64,iVBORw0KGgoAAAANSUhEUgAAACAAAAAgCAMAAABEpIrGAAAAe1BMVEX////x8/e2v9OuuM7O1OD3+Pvq7vSMmbc+VIkOMnYgPnxYapcvSYMAHmsAKnAOL3IALHMAJ2/L0uAyUIoAJG4QMHMAAGYAIW3p7fPEy9qjrcXZ3edOZZgADWgePX0NL3KYpcGrtcuCkrRre6NygqhCXJFSZJJKXY5gdKFtg6UeAAAA0ElEQVR4Ad3PVQLDIAwAUOjqEggyd7//CZdRL9sF+r6QKJsVHiwmwoj14iTNpvIi7P/LCsSUxEq1AdoIj7UWSs6cYImIZtUziPIbYZLYBaxVGIaboTDcIgCg3rF/wpLk+zqAr30xH2y5PcgfMpfu8COcfAKzbs2NBGF9mPIuQlerMePWPPN+6sVl5JxRBLg119fbnUw23rmA9Pu6K1eIpgqikbCvsHsgtRPpc+RlCb7XjKxToAtM0JPMmr5hRVefOGxZQ6UGPebY/btNfBs2Hx9CdCQxEd/QaQAAAABJRU5ErkJggg==\" style=\"height:18px;width:18px\"/></div></span><div><span class=\"VuuXrf\">sicuritalia.it</span><div class=\"byrV5b\"><cite class=\"apx8Vc qLRx3b tjvcx GvPZzd cHaqb\" role=\"text\" style=\"max-width:212px\">https://www.sicuritalia.it<span class=\"apx8Vc dyjrff ob9lvb\" role=\"text\"> › news › casa</span></cite></div></div></div></a><div class=\"B6fmyf byrV5b Mg1HEd\"><div class=\"TbwUpd iUh30 apx8Vc ojE3Fb\"><span class=\"H9lube\"><div class=\"eqA2re NjwKYd\" style=\"height:18px;width:18px\"></div></span><div><span class=\"VuuXrf\">sicuritalia.it</span><div class=\"byrV5b\"><cite class=\"apx8Vc qLRx3b tjvcx GvPZzd cHaqb\" role=\"text\" style=\"max-width:212px\">https://www.sicuritalia.it<span class=\"apx8Vc dyjrff ob9lvb\" role=\"text\"> › news › casa</span></cite><div class=\"eFM0qc BCF2pd iUh30\"><span class=\"LAWljd BCF2pd\"> · </span><a class=\"fl iUh30\" href=\"https://translate.google.com/translate?hl=en&amp;sl=it&amp;u=https://www.sicuritalia.it/news/casa/quali-sono-le-citta-a-rischio-furti-una-classifica/&amp;prev=search&amp;pto=aue\" ping=\"/url?sa=t&amp;source=web&amp;rct=j&amp;url=https://translate.google.com/translate%3Fhl%3Den%26sl%3Dit%26u%3Dhttps://www.sicuritalia.it/news/casa/quali-sono-le-citta-a-rischio-furti-una-classifica/%26prev%3Dsearch%26pto%3Daue&amp;ved=2ahUKEwjW2LOJ0YP_AhVzUqQEHahqDI4Q7gF6BAgkEAo\"><span>Translate this page</span></a></div></div></div></div><div class=\"csDOgf BCF2pd L48a4c\"><div data-bsextraheight=\"0\" data-isdesktop=\"true\" data-ved=\"2ahUKEwjW2LOJ0YP_AhVzUqQEHahqDI4Q2esEegQIJBAL\" jscontroller=\"exgaYe\" jsdata=\"l7Bhpb;_;Cky1GU cECq7c;_;Cky1Gk\"><div aria-label=\"About this result\" class=\"iTPLzd rNSxBe lUn2nc\" jsaction=\"RvIhPd\" jsname=\"I3kE2c\" role=\"button\" style=\"position:absolute\" tabindex=\"0\"><span class=\"D6lY4c mBswFe\" jsname=\"czHhOd\"><span class=\"xTFaxe z1asCe SaPW2b\" jsname=\"Bil8Ae\" style=\"height:18px;line-height:18px;width:18px\"><svg focusable=\"false\" viewbox=\"0 0 24 24\" xmlns=\"http://www.w3.org/2000/svg\"><path d=\"M12 8c1.1 0 2-.9 2-2s-.9-2-2-2-2 .9-2 2 .9 2 2 2zm0 2c-1.1 0-2 .9-2 2s.9 2 2 2 2-.9 2-2-.9-2-2-2zm0 6c-1.1 0-2 .9-2 2s.9 2 2 2 2-.9 2-2-.9-2-2-2z\"></path></svg></span></span></div><span data-ved=\"2ahUKEwjW2LOJ0YP_AhVzUqQEHahqDI4Qh-4GegQIJBAM\" jsname=\"zOVa8\"></span></div></div></div></div></div><div class=\"Z26q7c UK95Uc\" data-sncf=\"1\" data-snf=\"nke7rc\"><div class=\"VwiC3b yXK7lf MUxGbd yDYNvb lyLwlc lEBKkf\" style=\"-webkit-line-clamp:2\"><span>Attualmente in <em>Italia</em> vengono denunciati ogni giorno quasi 10mila reati, che corrispondono circa a 416 per ogni ora, secondo quanto riferito dai dipartimenti di ...</span></div></div><div class=\"Z26q7c UK95Uc\" data-snf=\"bvRFlf\"><div data-ved=\"2ahUKEwjW2LOJ0YP_AhVzUqQEHahqDI4Q2Z0BegQIORAA\" id=\"eob_6\" jsaction=\"rcuQ6b:npT2md\" jscontroller=\"K6HGfd\" jsdata=\"fxg5tf;_;Cky1G4\"></div></div></div></div>,\n",
       " <div class=\"g Ww4FFb vt6azd tF2Cxc asEBEc\" data-hveid=\"CDAQAA\" data-ved=\"2ahUKEwjW2LOJ0YP_AhVzUqQEHahqDI4QFSgAegQIMBAA\" jsaction=\"QyLbLe:OMITjf;ewaord:qsYrDe;xd28Mb:A6j43c\" jscontroller=\"SC7lYd\" lang=\"it\" style=\"width:600px\"><div class=\"kvH3mc BToiNc UK95Uc\" data-snc=\"ih6Jnb_ZR1eH\"><div class=\"Z26q7c UK95Uc jGGQ5e\" data-snf=\"x5WNvb\" data-snhf=\"0\"><div class=\"yuRUbf\"><a data-ved=\"2ahUKEwjW2LOJ0YP_AhVzUqQEHahqDI4QFnoECCAQAQ\" href=\"https://www.sicurezzamagazine.it/criminalita-diffusi-i-dati-relativi-ai-reati-in-italia-tra-2020-e-2021/\" ping=\"/url?sa=t&amp;source=web&amp;rct=j&amp;url=https://www.sicurezzamagazine.it/criminalita-diffusi-i-dati-relativi-ai-reati-in-italia-tra-2020-e-2021/&amp;ved=2ahUKEwjW2LOJ0YP_AhVzUqQEHahqDI4QFnoECCAQAQ\"><br/><h3 class=\"LC20lb MBeuO DKV0Md\">Criminalità: diffusi i dati relativi ai reati in Italia tra 2020 e ...</h3><div class=\"TbwUpd NJjxre iUh30 apx8Vc ojE3Fb\"><span class=\"H9lube\"><div aria-hidden=\"true\" class=\"eqA2re NjwKYd Vwoesf\"><img alt=\"\" class=\"XNo5Ab\" src=\"data:image/png;base64,iVBORw0KGgoAAAANSUhEUgAAACAAAAAgCAYAAABzenr0AAACPUlEQVR4Aa3XA6wdQQCF4Wfbthk8K6jboApr27Ztx0ntxqpt27bte6d/ETWrWSRfuLtzxjMuRp605JTfQlCJnpiCzdj2zyqMRjeUIgSuLlaf3z9BCgZgL17hJ4SKn3iOfRiCdNNB+NAHbXFeuVBdDlxCR/jKFh6IWfgAYdFHzEaA0cLdMQpfIGzyGf3gZiRABR5D2OwuCozUfhkEoDvY7uIRvkHocGICXLUCxOIShIZHGIRiJCMTrbEDDp1vDyJIK0A53kFomAg3hW8TcNBA+CytAE3wFULDEnipfD8DnzQ8R6VWgBb4rhPgHeYhH57/fZ+GWg3VCNYKUIOPBgfUA2zCYFQhEu5Wl94k3ICQ4MRbnMM6DEE5giAdwAPL4YQwyYnX2I/RyJNqmX8fnIewgRN3MRUxMLz11uG04ZbQ9xM7USwTIgtL8QLCJgeRLNMdXqjATJzFJwgLHJgFdzMHk2g0xETswjM4ICTdQpqVqfqbP4rQCatwEz8gDPiOlko/jkGtjmK4KUzdVHTBcYOt0l0pQGd80rEDfhotk42rZgN0MJD+BpI1uscfB8wGqMRbA/03Gl4qLVCGBxAavqKZUoAwHIXQ8Q7L0QDpSEYeuuCcwVmQqjbVRkocwT/hAe7iqcQsWAoPtT6M12kFq26hWG+ON8J9CJu9RUe46S00bmiE8zZuRvfQBV4yS28OVljcjN5jPcrhZmbZ9UYFZuEU3sChs+2+wWksQH3423FLdkMU6tBH43reE7WIMlrjX8P8PoCPETc4AAAAAElFTkSuQmCC\" style=\"height:18px;width:18px\"/></div></span><div><span class=\"VuuXrf\">sicurezzamagazine.it</span><div class=\"byrV5b\"><cite class=\"apx8Vc qLRx3b tjvcx GvPZzd cHaqb\" role=\"text\" style=\"max-width:212px\">https://www.sicurezzamagazine.it<span class=\"apx8Vc dyjrff ob9lvb\" role=\"text\"> › ...</span></cite></div></div></div></a><div class=\"B6fmyf byrV5b Mg1HEd\"><div class=\"TbwUpd iUh30 apx8Vc ojE3Fb\"><span class=\"H9lube\"><div class=\"eqA2re NjwKYd\" style=\"height:18px;width:18px\"></div></span><div><span class=\"VuuXrf\">sicurezzamagazine.it</span><div class=\"byrV5b\"><cite class=\"apx8Vc qLRx3b tjvcx GvPZzd cHaqb\" role=\"text\" style=\"max-width:212px\">https://www.sicurezzamagazine.it<span class=\"apx8Vc dyjrff ob9lvb\" role=\"text\"> › ...</span></cite><div class=\"eFM0qc BCF2pd iUh30\"><span class=\"LAWljd BCF2pd\"> · </span><a class=\"fl iUh30\" href=\"https://translate.google.com/translate?hl=en&amp;sl=it&amp;u=https://www.sicurezzamagazine.it/criminalita-diffusi-i-dati-relativi-ai-reati-in-italia-tra-2020-e-2021/&amp;prev=search&amp;pto=aue\" ping=\"/url?sa=t&amp;source=web&amp;rct=j&amp;url=https://translate.google.com/translate%3Fhl%3Den%26sl%3Dit%26u%3Dhttps://www.sicurezzamagazine.it/criminalita-diffusi-i-dati-relativi-ai-reati-in-italia-tra-2020-e-2021/%26prev%3Dsearch%26pto%3Daue&amp;ved=2ahUKEwjW2LOJ0YP_AhVzUqQEHahqDI4Q7gF6BAggEAo\"><span>Translate this page</span></a></div></div></div></div><div class=\"csDOgf BCF2pd L48a4c\"><div data-bsextraheight=\"0\" data-isdesktop=\"true\" data-ved=\"2ahUKEwjW2LOJ0YP_AhVzUqQEHahqDI4Q2esEegQIIBAL\" jscontroller=\"exgaYe\" jsdata=\"l7Bhpb;_;Cky1GA cECq7c;_;Cky1GE\"><div aria-label=\"About this result\" class=\"iTPLzd rNSxBe lUn2nc\" jsaction=\"RvIhPd\" jsname=\"I3kE2c\" role=\"button\" style=\"position:absolute\" tabindex=\"0\"><span class=\"D6lY4c mBswFe\" jsname=\"czHhOd\"><span class=\"xTFaxe z1asCe SaPW2b\" jsname=\"Bil8Ae\" style=\"height:18px;line-height:18px;width:18px\"><svg focusable=\"false\" viewbox=\"0 0 24 24\" xmlns=\"http://www.w3.org/2000/svg\"><path d=\"M12 8c1.1 0 2-.9 2-2s-.9-2-2-2-2 .9-2 2 .9 2 2 2zm0 2c-1.1 0-2 .9-2 2s.9 2 2 2 2-.9 2-2-.9-2-2-2zm0 6c-1.1 0-2 .9-2 2s.9 2 2 2 2-.9 2-2-.9-2-2-2z\"></path></svg></span></span></div><span data-ved=\"2ahUKEwjW2LOJ0YP_AhVzUqQEHahqDI4Qh-4GegQIIBAM\" jsname=\"zOVa8\"></span></div></div></div></div></div><div class=\"Z26q7c UK95Uc\" data-sncf=\"1\" data-snf=\"nke7rc\"><div class=\"VwiC3b yXK7lf MUxGbd yDYNvb lyLwlc lEBKkf\" style=\"-webkit-line-clamp:2\"><span class=\"MUxGbd wuQ4Ob WZ8Tjf\"><span>15 Feb 2022</span> — </span><span>In calo anche i <em>furti</em>, nel 2020 scesi del 32,7% rispetto al 2019, per un totale di 721.680 casi: è una tendenza in atto dal picco del 2014.</span></div></div><div class=\"Z26q7c UK95Uc\" data-snf=\"bvRFlf\"><div data-ved=\"2ahUKEwjW2LOJ0YP_AhVzUqQEHahqDI4Q2Z0BegQIMRAA\" id=\"eob_5\" jsaction=\"rcuQ6b:npT2md\" jscontroller=\"K6HGfd\" jsdata=\"fxg5tf;_;Cky1G0\"></div></div></div></div>]"
      ]
     },
     "execution_count": 17,
     "metadata": {},
     "output_type": "execute_result"
    }
   ],
   "source": [
    "newsP1"
   ]
  },
  {
   "cell_type": "code",
   "execution_count": null,
   "id": "5bf02457",
   "metadata": {
    "code_folding": []
   },
   "outputs": [],
   "source": []
  },
  {
   "cell_type": "code",
   "execution_count": 18,
   "id": "703d76c4",
   "metadata": {
    "code_folding": [],
    "scrolled": true
   },
   "outputs": [
    {
     "name": "stdout",
     "output_type": "stream",
     "text": [
      "[{'link': 'https://www.netatmo.com/it-it/blog/burglary-france', 'title': 'Criminalità in Italia: cosa dicono i numeri sui furti - Netatmo', 'date': None, 'source': None, 'position': 1}]\n",
      "[{'link': 'https://www.netatmo.com/it-it/blog/burglary-france', 'title': 'Criminalità in Italia: cosa dicono i numeri sui furti - Netatmo', 'date': None, 'source': None, 'position': 1}, {'link': 'https://www.netatmo.com/it-it/blog/burglary-france', 'title': 'Criminalità in Italia: cosa dicono i numeri sui furti - Netatmo', 'date': None, 'source': None, 'position': 2}]\n",
      "[{'link': 'https://www.netatmo.com/it-it/blog/burglary-france', 'title': 'Criminalità in Italia: cosa dicono i numeri sui furti - Netatmo', 'date': None, 'source': None, 'position': 1}, {'link': 'https://www.netatmo.com/it-it/blog/burglary-france', 'title': 'Criminalità in Italia: cosa dicono i numeri sui furti - Netatmo', 'date': None, 'source': None, 'position': 2}, {'link': 'https://lab24.ilsole24ore.com/indice-della-criminalita/', 'title': \"Reati, furti, rapine: trova l'indice della criminalità 2022 ... - Lab24\", 'date': None, 'source': None, 'position': 3}]\n",
      "[{'link': 'https://www.netatmo.com/it-it/blog/burglary-france', 'title': 'Criminalità in Italia: cosa dicono i numeri sui furti - Netatmo', 'date': None, 'source': None, 'position': 1}, {'link': 'https://www.netatmo.com/it-it/blog/burglary-france', 'title': 'Criminalità in Italia: cosa dicono i numeri sui furti - Netatmo', 'date': None, 'source': None, 'position': 2}, {'link': 'https://lab24.ilsole24ore.com/indice-della-criminalita/', 'title': \"Reati, furti, rapine: trova l'indice della criminalità 2022 ... - Lab24\", 'date': None, 'source': None, 'position': 3}, {'link': 'https://www.quotidiano.net/cronaca/furti-rapine-violenze-sessuali-italia-2022-1.8423068', 'title': 'In Italia aumentano furti (+20%) e rapine (+18). Il report ...', 'date': None, 'source': None, 'position': 4}]\n",
      "[{'link': 'https://www.netatmo.com/it-it/blog/burglary-france', 'title': 'Criminalità in Italia: cosa dicono i numeri sui furti - Netatmo', 'date': None, 'source': None, 'position': 1}, {'link': 'https://www.netatmo.com/it-it/blog/burglary-france', 'title': 'Criminalità in Italia: cosa dicono i numeri sui furti - Netatmo', 'date': None, 'source': None, 'position': 2}, {'link': 'https://lab24.ilsole24ore.com/indice-della-criminalita/', 'title': \"Reati, furti, rapine: trova l'indice della criminalità 2022 ... - Lab24\", 'date': None, 'source': None, 'position': 3}, {'link': 'https://www.quotidiano.net/cronaca/furti-rapine-violenze-sessuali-italia-2022-1.8423068', 'title': 'In Italia aumentano furti (+20%) e rapine (+18). Il report ...', 'date': None, 'source': None, 'position': 4}, {'link': 'https://www.truenumbers.it/furti-in-casa/', 'title': 'Furti in casa in Italia: colpite 10,3 famiglie ogni mille', 'date': None, 'source': None, 'position': 5}]\n",
      "[{'link': 'https://www.netatmo.com/it-it/blog/burglary-france', 'title': 'Criminalità in Italia: cosa dicono i numeri sui furti - Netatmo', 'date': None, 'source': None, 'position': 1}, {'link': 'https://www.netatmo.com/it-it/blog/burglary-france', 'title': 'Criminalità in Italia: cosa dicono i numeri sui furti - Netatmo', 'date': None, 'source': None, 'position': 2}, {'link': 'https://lab24.ilsole24ore.com/indice-della-criminalita/', 'title': \"Reati, furti, rapine: trova l'indice della criminalità 2022 ... - Lab24\", 'date': None, 'source': None, 'position': 3}, {'link': 'https://www.quotidiano.net/cronaca/furti-rapine-violenze-sessuali-italia-2022-1.8423068', 'title': 'In Italia aumentano furti (+20%) e rapine (+18). Il report ...', 'date': None, 'source': None, 'position': 4}, {'link': 'https://www.truenumbers.it/furti-in-casa/', 'title': 'Furti in casa in Italia: colpite 10,3 famiglie ogni mille', 'date': None, 'source': None, 'position': 5}, {'link': 'https://www.iodonna.it/attualita/costume-e-societa/2022/10/04/furti-rapine-e-scippi-la-classifica-delle-citta-piu-pericolose-ditalia/', 'title': \"La classifica delle città più pericolose d'Italia\", 'date': '4 Oct 2022 — ', 'source': None, 'position': 6}]\n",
      "[{'link': 'https://www.netatmo.com/it-it/blog/burglary-france', 'title': 'Criminalità in Italia: cosa dicono i numeri sui furti - Netatmo', 'date': None, 'source': None, 'position': 1}, {'link': 'https://www.netatmo.com/it-it/blog/burglary-france', 'title': 'Criminalità in Italia: cosa dicono i numeri sui furti - Netatmo', 'date': None, 'source': None, 'position': 2}, {'link': 'https://lab24.ilsole24ore.com/indice-della-criminalita/', 'title': \"Reati, furti, rapine: trova l'indice della criminalità 2022 ... - Lab24\", 'date': None, 'source': None, 'position': 3}, {'link': 'https://www.quotidiano.net/cronaca/furti-rapine-violenze-sessuali-italia-2022-1.8423068', 'title': 'In Italia aumentano furti (+20%) e rapine (+18). Il report ...', 'date': None, 'source': None, 'position': 4}, {'link': 'https://www.truenumbers.it/furti-in-casa/', 'title': 'Furti in casa in Italia: colpite 10,3 famiglie ogni mille', 'date': None, 'source': None, 'position': 5}, {'link': 'https://www.iodonna.it/attualita/costume-e-societa/2022/10/04/furti-rapine-e-scippi-la-classifica-delle-citta-piu-pericolose-ditalia/', 'title': \"La classifica delle città più pericolose d'Italia\", 'date': '4 Oct 2022 — ', 'source': None, 'position': 6}, {'link': 'https://www.ilmessaggero.it/italia/furti_rapinte_omicidi_boom_dati_viminale-6873029.html', 'title': 'Rapine, omicidi e furti: è boom nel 2022. I dati del Viminale', 'date': '15 Aug 2022 — ', 'source': None, 'position': 7}]\n",
      "[{'link': 'https://www.netatmo.com/it-it/blog/burglary-france', 'title': 'Criminalità in Italia: cosa dicono i numeri sui furti - Netatmo', 'date': None, 'source': None, 'position': 1}, {'link': 'https://www.netatmo.com/it-it/blog/burglary-france', 'title': 'Criminalità in Italia: cosa dicono i numeri sui furti - Netatmo', 'date': None, 'source': None, 'position': 2}, {'link': 'https://lab24.ilsole24ore.com/indice-della-criminalita/', 'title': \"Reati, furti, rapine: trova l'indice della criminalità 2022 ... - Lab24\", 'date': None, 'source': None, 'position': 3}, {'link': 'https://www.quotidiano.net/cronaca/furti-rapine-violenze-sessuali-italia-2022-1.8423068', 'title': 'In Italia aumentano furti (+20%) e rapine (+18). Il report ...', 'date': None, 'source': None, 'position': 4}, {'link': 'https://www.truenumbers.it/furti-in-casa/', 'title': 'Furti in casa in Italia: colpite 10,3 famiglie ogni mille', 'date': None, 'source': None, 'position': 5}, {'link': 'https://www.iodonna.it/attualita/costume-e-societa/2022/10/04/furti-rapine-e-scippi-la-classifica-delle-citta-piu-pericolose-ditalia/', 'title': \"La classifica delle città più pericolose d'Italia\", 'date': '4 Oct 2022 — ', 'source': None, 'position': 6}, {'link': 'https://www.ilmessaggero.it/italia/furti_rapinte_omicidi_boom_dati_viminale-6873029.html', 'title': 'Rapine, omicidi e furti: è boom nel 2022. I dati del Viminale', 'date': '15 Aug 2022 — ', 'source': None, 'position': 7}, {'link': 'https://tg24.sky.it/cronaca/2022/08/11/furti-casa-italia-dati-2021', 'title': 'Furti in casa, uno ogni tre minuti in Italia: 182mila denunce ...', 'date': '11 Aug 2022 — ', 'source': None, 'position': 8}]\n",
      "[{'link': 'https://www.netatmo.com/it-it/blog/burglary-france', 'title': 'Criminalità in Italia: cosa dicono i numeri sui furti - Netatmo', 'date': None, 'source': None, 'position': 1}, {'link': 'https://www.netatmo.com/it-it/blog/burglary-france', 'title': 'Criminalità in Italia: cosa dicono i numeri sui furti - Netatmo', 'date': None, 'source': None, 'position': 2}, {'link': 'https://lab24.ilsole24ore.com/indice-della-criminalita/', 'title': \"Reati, furti, rapine: trova l'indice della criminalità 2022 ... - Lab24\", 'date': None, 'source': None, 'position': 3}, {'link': 'https://www.quotidiano.net/cronaca/furti-rapine-violenze-sessuali-italia-2022-1.8423068', 'title': 'In Italia aumentano furti (+20%) e rapine (+18). Il report ...', 'date': None, 'source': None, 'position': 4}, {'link': 'https://www.truenumbers.it/furti-in-casa/', 'title': 'Furti in casa in Italia: colpite 10,3 famiglie ogni mille', 'date': None, 'source': None, 'position': 5}, {'link': 'https://www.iodonna.it/attualita/costume-e-societa/2022/10/04/furti-rapine-e-scippi-la-classifica-delle-citta-piu-pericolose-ditalia/', 'title': \"La classifica delle città più pericolose d'Italia\", 'date': '4 Oct 2022 — ', 'source': None, 'position': 6}, {'link': 'https://www.ilmessaggero.it/italia/furti_rapinte_omicidi_boom_dati_viminale-6873029.html', 'title': 'Rapine, omicidi e furti: è boom nel 2022. I dati del Viminale', 'date': '15 Aug 2022 — ', 'source': None, 'position': 7}, {'link': 'https://tg24.sky.it/cronaca/2022/08/11/furti-casa-italia-dati-2021', 'title': 'Furti in casa, uno ogni tre minuti in Italia: 182mila denunce ...', 'date': '11 Aug 2022 — ', 'source': None, 'position': 8}, {'link': 'https://www.sicuritalia.it/news/casa/quali-sono-le-citta-a-rischio-furti-una-classifica/', 'title': 'Rischio furti: quali sono le città più pericolose in Italia nel ...', 'date': None, 'source': None, 'position': 9}]\n",
      "[{'link': 'https://www.netatmo.com/it-it/blog/burglary-france', 'title': 'Criminalità in Italia: cosa dicono i numeri sui furti - Netatmo', 'date': None, 'source': None, 'position': 1}, {'link': 'https://www.netatmo.com/it-it/blog/burglary-france', 'title': 'Criminalità in Italia: cosa dicono i numeri sui furti - Netatmo', 'date': None, 'source': None, 'position': 2}, {'link': 'https://lab24.ilsole24ore.com/indice-della-criminalita/', 'title': \"Reati, furti, rapine: trova l'indice della criminalità 2022 ... - Lab24\", 'date': None, 'source': None, 'position': 3}, {'link': 'https://www.quotidiano.net/cronaca/furti-rapine-violenze-sessuali-italia-2022-1.8423068', 'title': 'In Italia aumentano furti (+20%) e rapine (+18). Il report ...', 'date': None, 'source': None, 'position': 4}, {'link': 'https://www.truenumbers.it/furti-in-casa/', 'title': 'Furti in casa in Italia: colpite 10,3 famiglie ogni mille', 'date': None, 'source': None, 'position': 5}, {'link': 'https://www.iodonna.it/attualita/costume-e-societa/2022/10/04/furti-rapine-e-scippi-la-classifica-delle-citta-piu-pericolose-ditalia/', 'title': \"La classifica delle città più pericolose d'Italia\", 'date': '4 Oct 2022 — ', 'source': None, 'position': 6}, {'link': 'https://www.ilmessaggero.it/italia/furti_rapinte_omicidi_boom_dati_viminale-6873029.html', 'title': 'Rapine, omicidi e furti: è boom nel 2022. I dati del Viminale', 'date': '15 Aug 2022 — ', 'source': None, 'position': 7}, {'link': 'https://tg24.sky.it/cronaca/2022/08/11/furti-casa-italia-dati-2021', 'title': 'Furti in casa, uno ogni tre minuti in Italia: 182mila denunce ...', 'date': '11 Aug 2022 — ', 'source': None, 'position': 8}, {'link': 'https://www.sicuritalia.it/news/casa/quali-sono-le-citta-a-rischio-furti-una-classifica/', 'title': 'Rischio furti: quali sono le città più pericolose in Italia nel ...', 'date': None, 'source': None, 'position': 9}, {'link': 'https://www.sicurezzamagazine.it/criminalita-diffusi-i-dati-relativi-ai-reati-in-italia-tra-2020-e-2021/', 'title': 'Criminalità: diffusi i dati relativi ai reati in Italia tra 2020 e ...', 'date': '15 Feb 2022 — ', 'source': None, 'position': 10}]\n"
     ]
    }
   ],
   "source": [
    "g=0\n",
    "newsData = [ ]\n",
    "l={}\n",
    "date=[]\n",
    "source=[]\n",
    "\n",
    "for i in range(0,len(newsP1)):\n",
    "                    link = newsP1[i].find('a').get('href')\n",
    "\n",
    "                    if(link is not None):\n",
    "                        if(link.find('https') != -1 and link.find('http') == 0 and link.find(\"SoaBEf\") == -1):\n",
    "                            g=g+1\n",
    "                            l[\"link\"]=link\n",
    "                            try:\n",
    "                                l[\"title\"]=newsP1[i].find(\"h3\").text\n",
    "                            except:\n",
    "                                l[\"title\"]=None \n",
    "                            try:\n",
    "                                l[\"date\"]=newsP1[i].find(\"span\",{\"class\":\"MUxGbd wuQ4Ob WZ8Tjf\"}).text\n",
    "                            except:\n",
    "                                l[\"date\"]=None \n",
    "\n",
    "                            try:\n",
    "                                l[\"source\"]=newsP1[i].find(\"div\",{\"class\":\"iRPxbe\"}).text\n",
    "                            except:\n",
    "                                l[\"source\"]=None \n",
    "\n",
    "                                l[\"position\"]=g \n",
    "\n",
    "                                newsData.append(l)  \n",
    "\n",
    "                                l={}   \n",
    "\n",
    "                            else:\n",
    "                                     continue\n",
    "                        else:\n",
    "                                     continue\n",
    "              \n",
    "                    print(newsData)"
   ]
  },
  {
   "cell_type": "code",
   "execution_count": null,
   "id": "d5bc5319",
   "metadata": {},
   "outputs": [],
   "source": []
  },
  {
   "cell_type": "code",
   "execution_count": 19,
   "id": "4f9346d9",
   "metadata": {
    "scrolled": false
   },
   "outputs": [
    {
     "data": {
      "text/plain": [
       "[{'link': 'https://www.netatmo.com/it-it/blog/burglary-france',\n",
       "  'title': 'Criminalità in Italia: cosa dicono i numeri sui furti - Netatmo',\n",
       "  'date': None,\n",
       "  'source': None,\n",
       "  'position': 1},\n",
       " {'link': 'https://www.netatmo.com/it-it/blog/burglary-france',\n",
       "  'title': 'Criminalità in Italia: cosa dicono i numeri sui furti - Netatmo',\n",
       "  'date': None,\n",
       "  'source': None,\n",
       "  'position': 2},\n",
       " {'link': 'https://lab24.ilsole24ore.com/indice-della-criminalita/',\n",
       "  'title': \"Reati, furti, rapine: trova l'indice della criminalità 2022 ... - Lab24\",\n",
       "  'date': None,\n",
       "  'source': None,\n",
       "  'position': 3},\n",
       " {'link': 'https://www.quotidiano.net/cronaca/furti-rapine-violenze-sessuali-italia-2022-1.8423068',\n",
       "  'title': 'In Italia aumentano furti (+20%) e rapine (+18). Il report ...',\n",
       "  'date': None,\n",
       "  'source': None,\n",
       "  'position': 4},\n",
       " {'link': 'https://www.truenumbers.it/furti-in-casa/',\n",
       "  'title': 'Furti in casa in Italia: colpite 10,3 famiglie ogni mille',\n",
       "  'date': None,\n",
       "  'source': None,\n",
       "  'position': 5},\n",
       " {'link': 'https://www.iodonna.it/attualita/costume-e-societa/2022/10/04/furti-rapine-e-scippi-la-classifica-delle-citta-piu-pericolose-ditalia/',\n",
       "  'title': \"La classifica delle città più pericolose d'Italia\",\n",
       "  'date': '4 Oct 2022 — ',\n",
       "  'source': None,\n",
       "  'position': 6},\n",
       " {'link': 'https://www.ilmessaggero.it/italia/furti_rapinte_omicidi_boom_dati_viminale-6873029.html',\n",
       "  'title': 'Rapine, omicidi e furti: è boom nel 2022. I dati del Viminale',\n",
       "  'date': '15 Aug 2022 — ',\n",
       "  'source': None,\n",
       "  'position': 7},\n",
       " {'link': 'https://tg24.sky.it/cronaca/2022/08/11/furti-casa-italia-dati-2021',\n",
       "  'title': 'Furti in casa, uno ogni tre minuti in Italia: 182mila denunce ...',\n",
       "  'date': '11 Aug 2022 — ',\n",
       "  'source': None,\n",
       "  'position': 8},\n",
       " {'link': 'https://www.sicuritalia.it/news/casa/quali-sono-le-citta-a-rischio-furti-una-classifica/',\n",
       "  'title': 'Rischio furti: quali sono le città più pericolose in Italia nel ...',\n",
       "  'date': None,\n",
       "  'source': None,\n",
       "  'position': 9},\n",
       " {'link': 'https://www.sicurezzamagazine.it/criminalita-diffusi-i-dati-relativi-ai-reati-in-italia-tra-2020-e-2021/',\n",
       "  'title': 'Criminalità: diffusi i dati relativi ai reati in Italia tra 2020 e ...',\n",
       "  'date': '15 Feb 2022 — ',\n",
       "  'source': None,\n",
       "  'position': 10}]"
      ]
     },
     "execution_count": 19,
     "metadata": {},
     "output_type": "execute_result"
    }
   ],
   "source": [
    "newsData"
   ]
  },
  {
   "cell_type": "code",
   "execution_count": null,
   "id": "8eb0e5f8",
   "metadata": {
    "scrolled": true
   },
   "outputs": [],
   "source": []
  },
  {
   "cell_type": "code",
   "execution_count": 20,
   "id": "0dffd640",
   "metadata": {},
   "outputs": [
    {
     "data": {
      "text/html": [
       "<div>\n",
       "<style scoped>\n",
       "    .dataframe tbody tr th:only-of-type {\n",
       "        vertical-align: middle;\n",
       "    }\n",
       "\n",
       "    .dataframe tbody tr th {\n",
       "        vertical-align: top;\n",
       "    }\n",
       "\n",
       "    .dataframe thead th {\n",
       "        text-align: right;\n",
       "    }\n",
       "</style>\n",
       "<table border=\"1\" class=\"dataframe\">\n",
       "  <thead>\n",
       "    <tr style=\"text-align: right;\">\n",
       "      <th></th>\n",
       "      <th>link</th>\n",
       "      <th>title</th>\n",
       "      <th>date</th>\n",
       "    </tr>\n",
       "  </thead>\n",
       "  <tbody>\n",
       "    <tr>\n",
       "      <th>0</th>\n",
       "      <td>https://www.netatmo.com/it-it/blog/burglary-fr...</td>\n",
       "      <td>Criminalità in Italia: cosa dicono i numeri su...</td>\n",
       "      <td>None</td>\n",
       "    </tr>\n",
       "    <tr>\n",
       "      <th>1</th>\n",
       "      <td>https://www.netatmo.com/it-it/blog/burglary-fr...</td>\n",
       "      <td>Criminalità in Italia: cosa dicono i numeri su...</td>\n",
       "      <td>None</td>\n",
       "    </tr>\n",
       "    <tr>\n",
       "      <th>2</th>\n",
       "      <td>https://lab24.ilsole24ore.com/indice-della-cri...</td>\n",
       "      <td>Reati, furti, rapine: trova l'indice della cri...</td>\n",
       "      <td>None</td>\n",
       "    </tr>\n",
       "    <tr>\n",
       "      <th>3</th>\n",
       "      <td>https://www.quotidiano.net/cronaca/furti-rapin...</td>\n",
       "      <td>In Italia aumentano furti (+20%) e rapine (+18...</td>\n",
       "      <td>None</td>\n",
       "    </tr>\n",
       "    <tr>\n",
       "      <th>4</th>\n",
       "      <td>https://www.truenumbers.it/furti-in-casa/</td>\n",
       "      <td>Furti in casa in Italia: colpite 10,3 famiglie...</td>\n",
       "      <td>None</td>\n",
       "    </tr>\n",
       "    <tr>\n",
       "      <th>5</th>\n",
       "      <td>https://www.iodonna.it/attualita/costume-e-soc...</td>\n",
       "      <td>La classifica delle città più pericolose d'Italia</td>\n",
       "      <td>4 Oct 2022 —</td>\n",
       "    </tr>\n",
       "    <tr>\n",
       "      <th>6</th>\n",
       "      <td>https://www.ilmessaggero.it/italia/furti_rapin...</td>\n",
       "      <td>Rapine, omicidi e furti: è boom nel 2022. I da...</td>\n",
       "      <td>15 Aug 2022 —</td>\n",
       "    </tr>\n",
       "    <tr>\n",
       "      <th>7</th>\n",
       "      <td>https://tg24.sky.it/cronaca/2022/08/11/furti-c...</td>\n",
       "      <td>Furti in casa, uno ogni tre minuti in Italia: ...</td>\n",
       "      <td>11 Aug 2022 —</td>\n",
       "    </tr>\n",
       "    <tr>\n",
       "      <th>8</th>\n",
       "      <td>https://www.sicuritalia.it/news/casa/quali-son...</td>\n",
       "      <td>Rischio furti: quali sono le città più pericol...</td>\n",
       "      <td>None</td>\n",
       "    </tr>\n",
       "    <tr>\n",
       "      <th>9</th>\n",
       "      <td>https://www.sicurezzamagazine.it/criminalita-d...</td>\n",
       "      <td>Criminalità: diffusi i dati relativi ai reati ...</td>\n",
       "      <td>15 Feb 2022 —</td>\n",
       "    </tr>\n",
       "  </tbody>\n",
       "</table>\n",
       "</div>"
      ],
      "text/plain": [
       "                                                link  \\\n",
       "0  https://www.netatmo.com/it-it/blog/burglary-fr...   \n",
       "1  https://www.netatmo.com/it-it/blog/burglary-fr...   \n",
       "2  https://lab24.ilsole24ore.com/indice-della-cri...   \n",
       "3  https://www.quotidiano.net/cronaca/furti-rapin...   \n",
       "4          https://www.truenumbers.it/furti-in-casa/   \n",
       "5  https://www.iodonna.it/attualita/costume-e-soc...   \n",
       "6  https://www.ilmessaggero.it/italia/furti_rapin...   \n",
       "7  https://tg24.sky.it/cronaca/2022/08/11/furti-c...   \n",
       "8  https://www.sicuritalia.it/news/casa/quali-son...   \n",
       "9  https://www.sicurezzamagazine.it/criminalita-d...   \n",
       "\n",
       "                                               title            date  \n",
       "0  Criminalità in Italia: cosa dicono i numeri su...            None  \n",
       "1  Criminalità in Italia: cosa dicono i numeri su...            None  \n",
       "2  Reati, furti, rapine: trova l'indice della cri...            None  \n",
       "3  In Italia aumentano furti (+20%) e rapine (+18...            None  \n",
       "4  Furti in casa in Italia: colpite 10,3 famiglie...            None  \n",
       "5  La classifica delle città più pericolose d'Italia   4 Oct 2022 —   \n",
       "6  Rapine, omicidi e furti: è boom nel 2022. I da...  15 Aug 2022 —   \n",
       "7  Furti in casa, uno ogni tre minuti in Italia: ...  11 Aug 2022 —   \n",
       "8  Rischio furti: quali sono le città più pericol...            None  \n",
       "9  Criminalità: diffusi i dati relativi ai reati ...  15 Feb 2022 —   "
      ]
     },
     "execution_count": 20,
     "metadata": {},
     "output_type": "execute_result"
    }
   ],
   "source": [
    "df = pd.DataFrame(newsData, columns=['link', 'title', 'date'])\n",
    "df"
   ]
  },
  {
   "cell_type": "code",
   "execution_count": null,
   "id": "1477c911",
   "metadata": {},
   "outputs": [],
   "source": [
    " df.to_csv('googledata2019-2020.csv')"
   ]
  },
  {
   "cell_type": "code",
   "execution_count": null,
   "id": "42282afc",
   "metadata": {},
   "outputs": [],
   "source": []
  },
  {
   "cell_type": "code",
   "execution_count": null,
   "id": "7f487b91",
   "metadata": {},
   "outputs": [],
   "source": []
  }
 ],
 "metadata": {
  "kernelspec": {
   "display_name": "Python 3 (ipykernel)",
   "language": "python",
   "name": "python3"
  },
  "language_info": {
   "codemirror_mode": {
    "name": "ipython",
    "version": 3
   },
   "file_extension": ".py",
   "mimetype": "text/x-python",
   "name": "python",
   "nbconvert_exporter": "python",
   "pygments_lexer": "ipython3",
   "version": "3.11.0"
  }
 },
 "nbformat": 4,
 "nbformat_minor": 5
}
