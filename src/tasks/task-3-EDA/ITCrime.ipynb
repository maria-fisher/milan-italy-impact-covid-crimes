{
 "cells": [
  {
   "cell_type": "markdown",
   "id": "61413d91",
   "metadata": {},
   "source": [
    "# Crime reported in Italy from 2011 to 2021\n",
    "\n",
    "#### Data source:  https://www.istat.it/en/\n",
    "\n",
    "Author: Maria Fisher \n"
   ]
  },
  {
   "cell_type": "code",
   "execution_count": null,
   "id": "4caf1e7c",
   "metadata": {},
   "outputs": [],
   "source": []
  },
  {
   "cell_type": "code",
   "execution_count": 2,
   "id": "affdc4b0-98e0-4e6d-acd7-f2004dcfa642",
   "metadata": {},
   "outputs": [],
   "source": [
    "import warnings \n",
    "warnings.filterwarnings(\"ignore\")\n",
    "\n",
    "import os\n",
    "import pandas as pd\n",
    "pd.options.display.float_format = \"{:.2f}\".format\n",
    "import numpy as np\n",
    "import matplotlib.pyplot as plt\n",
    "import matplotlib.dates as mdates\n",
    "import statsmodels.api as sm\n",
    "from statsmodels.stats.outliers_influence import variance_inflation_factor\n",
    "import seaborn as sns \n",
    "import sklearn\n",
    "from pivottablejs import pivot_ui\n",
    "\n"
   ]
  },
  {
   "cell_type": "code",
   "execution_count": 9,
   "id": "e8b18fef",
   "metadata": {},
   "outputs": [
    {
     "data": {
      "text/html": [
       "<div>\n",
       "<style scoped>\n",
       "    .dataframe tbody tr th:only-of-type {\n",
       "        vertical-align: middle;\n",
       "    }\n",
       "\n",
       "    .dataframe tbody tr th {\n",
       "        vertical-align: top;\n",
       "    }\n",
       "\n",
       "    .dataframe thead th {\n",
       "        text-align: right;\n",
       "    }\n",
       "</style>\n",
       "<table border=\"1\" class=\"dataframe\">\n",
       "  <thead>\n",
       "    <tr style=\"text-align: right;\">\n",
       "      <th></th>\n",
       "      <th>ITTER107</th>\n",
       "      <th>Territory</th>\n",
       "      <th>TIPO_DATO35</th>\n",
       "      <th>Data_type</th>\n",
       "      <th>REATI_PS</th>\n",
       "      <th>Type_of_crime</th>\n",
       "      <th>SEXISTAT1</th>\n",
       "      <th>Gender</th>\n",
       "      <th>ETA1</th>\n",
       "      <th>Age class</th>\n",
       "      <th>TIME</th>\n",
       "      <th>Select_time</th>\n",
       "      <th>Value</th>\n",
       "    </tr>\n",
       "  </thead>\n",
       "  <tbody>\n",
       "    <tr>\n",
       "      <th>0</th>\n",
       "      <td>IT</td>\n",
       "      <td>Italy</td>\n",
       "      <td>OFFEND</td>\n",
       "      <td>number of alleged offenders reported by the po...</td>\n",
       "      <td>MASSMURD</td>\n",
       "      <td>mass murder</td>\n",
       "      <td>1</td>\n",
       "      <td>males</td>\n",
       "      <td>18-24</td>\n",
       "      <td>18-24 years</td>\n",
       "      <td>2011</td>\n",
       "      <td>2011</td>\n",
       "      <td>9</td>\n",
       "    </tr>\n",
       "    <tr>\n",
       "      <th>1</th>\n",
       "      <td>IT</td>\n",
       "      <td>Italy</td>\n",
       "      <td>OFFEND</td>\n",
       "      <td>number of alleged offenders reported by the po...</td>\n",
       "      <td>MASSMURD</td>\n",
       "      <td>mass murder</td>\n",
       "      <td>1</td>\n",
       "      <td>males</td>\n",
       "      <td>18-24</td>\n",
       "      <td>18-24 years</td>\n",
       "      <td>2012</td>\n",
       "      <td>2012</td>\n",
       "      <td>1</td>\n",
       "    </tr>\n",
       "    <tr>\n",
       "      <th>2</th>\n",
       "      <td>IT</td>\n",
       "      <td>Italy</td>\n",
       "      <td>OFFEND</td>\n",
       "      <td>number of alleged offenders reported by the po...</td>\n",
       "      <td>MASSMURD</td>\n",
       "      <td>mass murder</td>\n",
       "      <td>1</td>\n",
       "      <td>males</td>\n",
       "      <td>18-24</td>\n",
       "      <td>18-24 years</td>\n",
       "      <td>2013</td>\n",
       "      <td>2013</td>\n",
       "      <td>2</td>\n",
       "    </tr>\n",
       "    <tr>\n",
       "      <th>3</th>\n",
       "      <td>IT</td>\n",
       "      <td>Italy</td>\n",
       "      <td>OFFEND</td>\n",
       "      <td>number of alleged offenders reported by the po...</td>\n",
       "      <td>MASSMURD</td>\n",
       "      <td>mass murder</td>\n",
       "      <td>1</td>\n",
       "      <td>males</td>\n",
       "      <td>18-24</td>\n",
       "      <td>18-24 years</td>\n",
       "      <td>2014</td>\n",
       "      <td>2014</td>\n",
       "      <td>1</td>\n",
       "    </tr>\n",
       "    <tr>\n",
       "      <th>4</th>\n",
       "      <td>IT</td>\n",
       "      <td>Italy</td>\n",
       "      <td>OFFEND</td>\n",
       "      <td>number of alleged offenders reported by the po...</td>\n",
       "      <td>MASSMURD</td>\n",
       "      <td>mass murder</td>\n",
       "      <td>1</td>\n",
       "      <td>males</td>\n",
       "      <td>18-24</td>\n",
       "      <td>18-24 years</td>\n",
       "      <td>2015</td>\n",
       "      <td>2015</td>\n",
       "      <td>3</td>\n",
       "    </tr>\n",
       "  </tbody>\n",
       "</table>\n",
       "</div>"
      ],
      "text/plain": [
       "  ITTER107 Territory TIPO_DATO35  \\\n",
       "0       IT     Italy      OFFEND   \n",
       "1       IT     Italy      OFFEND   \n",
       "2       IT     Italy      OFFEND   \n",
       "3       IT     Italy      OFFEND   \n",
       "4       IT     Italy      OFFEND   \n",
       "\n",
       "                                           Data_type  REATI_PS Type_of_crime  \\\n",
       "0  number of alleged offenders reported by the po...  MASSMURD   mass murder   \n",
       "1  number of alleged offenders reported by the po...  MASSMURD   mass murder   \n",
       "2  number of alleged offenders reported by the po...  MASSMURD   mass murder   \n",
       "3  number of alleged offenders reported by the po...  MASSMURD   mass murder   \n",
       "4  number of alleged offenders reported by the po...  MASSMURD   mass murder   \n",
       "\n",
       "   SEXISTAT1 Gender   ETA1    Age class  TIME  Select_time  Value  \n",
       "0          1  males  18-24  18-24 years  2011         2011      9  \n",
       "1          1  males  18-24  18-24 years  2012         2012      1  \n",
       "2          1  males  18-24  18-24 years  2013         2013      2  \n",
       "3          1  males  18-24  18-24 years  2014         2014      1  \n",
       "4          1  males  18-24  18-24 years  2015         2015      3  "
      ]
     },
     "execution_count": 9,
     "metadata": {},
     "output_type": "execute_result"
    }
   ],
   "source": [
    "# read dataset\n",
    "df = pd.read_csv('crimeItaly2011-2021.csv')\n",
    "\n",
    "df.head()"
   ]
  },
  {
   "cell_type": "code",
   "execution_count": 10,
   "id": "e7970cc8",
   "metadata": {},
   "outputs": [
    {
     "data": {
      "text/html": [
       "<div>\n",
       "<style scoped>\n",
       "    .dataframe tbody tr th:only-of-type {\n",
       "        vertical-align: middle;\n",
       "    }\n",
       "\n",
       "    .dataframe tbody tr th {\n",
       "        vertical-align: top;\n",
       "    }\n",
       "\n",
       "    .dataframe thead th {\n",
       "        text-align: right;\n",
       "    }\n",
       "</style>\n",
       "<table border=\"1\" class=\"dataframe\">\n",
       "  <thead>\n",
       "    <tr style=\"text-align: right;\">\n",
       "      <th></th>\n",
       "      <th>Territory</th>\n",
       "      <th>TIPO_DATO35</th>\n",
       "      <th>Type_of_crime</th>\n",
       "      <th>Gender</th>\n",
       "      <th>ETA1</th>\n",
       "      <th>TIME</th>\n",
       "      <th>Value</th>\n",
       "    </tr>\n",
       "  </thead>\n",
       "  <tbody>\n",
       "    <tr>\n",
       "      <th>0</th>\n",
       "      <td>Italy</td>\n",
       "      <td>OFFEND</td>\n",
       "      <td>mass murder</td>\n",
       "      <td>males</td>\n",
       "      <td>18-24</td>\n",
       "      <td>2011</td>\n",
       "      <td>9</td>\n",
       "    </tr>\n",
       "    <tr>\n",
       "      <th>1</th>\n",
       "      <td>Italy</td>\n",
       "      <td>OFFEND</td>\n",
       "      <td>mass murder</td>\n",
       "      <td>males</td>\n",
       "      <td>18-24</td>\n",
       "      <td>2012</td>\n",
       "      <td>1</td>\n",
       "    </tr>\n",
       "    <tr>\n",
       "      <th>2</th>\n",
       "      <td>Italy</td>\n",
       "      <td>OFFEND</td>\n",
       "      <td>mass murder</td>\n",
       "      <td>males</td>\n",
       "      <td>18-24</td>\n",
       "      <td>2013</td>\n",
       "      <td>2</td>\n",
       "    </tr>\n",
       "    <tr>\n",
       "      <th>3</th>\n",
       "      <td>Italy</td>\n",
       "      <td>OFFEND</td>\n",
       "      <td>mass murder</td>\n",
       "      <td>males</td>\n",
       "      <td>18-24</td>\n",
       "      <td>2014</td>\n",
       "      <td>1</td>\n",
       "    </tr>\n",
       "    <tr>\n",
       "      <th>4</th>\n",
       "      <td>Italy</td>\n",
       "      <td>OFFEND</td>\n",
       "      <td>mass murder</td>\n",
       "      <td>males</td>\n",
       "      <td>18-24</td>\n",
       "      <td>2015</td>\n",
       "      <td>3</td>\n",
       "    </tr>\n",
       "    <tr>\n",
       "      <th>...</th>\n",
       "      <td>...</td>\n",
       "      <td>...</td>\n",
       "      <td>...</td>\n",
       "      <td>...</td>\n",
       "      <td>...</td>\n",
       "      <td>...</td>\n",
       "      <td>...</td>\n",
       "    </tr>\n",
       "    <tr>\n",
       "      <th>500467</th>\n",
       "      <td>Sardegna</td>\n",
       "      <td>VICTIM</td>\n",
       "      <td>damage followed by arson</td>\n",
       "      <td>females</td>\n",
       "      <td>&lt;13</td>\n",
       "      <td>2017</td>\n",
       "      <td>1</td>\n",
       "    </tr>\n",
       "    <tr>\n",
       "      <th>500468</th>\n",
       "      <td>Sardegna</td>\n",
       "      <td>VICTIM</td>\n",
       "      <td>damage followed by arson</td>\n",
       "      <td>females</td>\n",
       "      <td>&lt;13</td>\n",
       "      <td>2018</td>\n",
       "      <td>0</td>\n",
       "    </tr>\n",
       "    <tr>\n",
       "      <th>500469</th>\n",
       "      <td>Sardegna</td>\n",
       "      <td>VICTIM</td>\n",
       "      <td>damage followed by arson</td>\n",
       "      <td>females</td>\n",
       "      <td>&lt;13</td>\n",
       "      <td>2019</td>\n",
       "      <td>0</td>\n",
       "    </tr>\n",
       "    <tr>\n",
       "      <th>500470</th>\n",
       "      <td>Sardegna</td>\n",
       "      <td>VICTIM</td>\n",
       "      <td>damage followed by arson</td>\n",
       "      <td>females</td>\n",
       "      <td>&lt;13</td>\n",
       "      <td>2020</td>\n",
       "      <td>0</td>\n",
       "    </tr>\n",
       "    <tr>\n",
       "      <th>500471</th>\n",
       "      <td>Sardegna</td>\n",
       "      <td>VICTIM</td>\n",
       "      <td>damage followed by arson</td>\n",
       "      <td>females</td>\n",
       "      <td>&lt;13</td>\n",
       "      <td>2021</td>\n",
       "      <td>0</td>\n",
       "    </tr>\n",
       "  </tbody>\n",
       "</table>\n",
       "<p>500472 rows × 7 columns</p>\n",
       "</div>"
      ],
      "text/plain": [
       "       Territory TIPO_DATO35             Type_of_crime   Gender   ETA1  TIME  \\\n",
       "0          Italy      OFFEND               mass murder    males  18-24  2011   \n",
       "1          Italy      OFFEND               mass murder    males  18-24  2012   \n",
       "2          Italy      OFFEND               mass murder    males  18-24  2013   \n",
       "3          Italy      OFFEND               mass murder    males  18-24  2014   \n",
       "4          Italy      OFFEND               mass murder    males  18-24  2015   \n",
       "...          ...         ...                       ...      ...    ...   ...   \n",
       "500467  Sardegna      VICTIM  damage followed by arson  females    <13  2017   \n",
       "500468  Sardegna      VICTIM  damage followed by arson  females    <13  2018   \n",
       "500469  Sardegna      VICTIM  damage followed by arson  females    <13  2019   \n",
       "500470  Sardegna      VICTIM  damage followed by arson  females    <13  2020   \n",
       "500471  Sardegna      VICTIM  damage followed by arson  females    <13  2021   \n",
       "\n",
       "        Value  \n",
       "0           9  \n",
       "1           1  \n",
       "2           2  \n",
       "3           1  \n",
       "4           3  \n",
       "...       ...  \n",
       "500467      1  \n",
       "500468      0  \n",
       "500469      0  \n",
       "500470      0  \n",
       "500471      0  \n",
       "\n",
       "[500472 rows x 7 columns]"
      ]
     },
     "execution_count": 10,
     "metadata": {},
     "output_type": "execute_result"
    }
   ],
   "source": [
    "# drop columns\n",
    "\n",
    "df = df.drop(columns=['ITTER107','Data_type','REATI_PS', 'SEXISTAT1', 'Age class','Select_time'])\n",
    "df"
   ]
  },
  {
   "cell_type": "code",
   "execution_count": 11,
   "id": "ffaeca12",
   "metadata": {
    "scrolled": false
   },
   "outputs": [
    {
     "data": {
      "text/html": [
       "<div>\n",
       "<style scoped>\n",
       "    .dataframe tbody tr th:only-of-type {\n",
       "        vertical-align: middle;\n",
       "    }\n",
       "\n",
       "    .dataframe tbody tr th {\n",
       "        vertical-align: top;\n",
       "    }\n",
       "\n",
       "    .dataframe thead th {\n",
       "        text-align: right;\n",
       "    }\n",
       "</style>\n",
       "<table border=\"1\" class=\"dataframe\">\n",
       "  <thead>\n",
       "    <tr style=\"text-align: right;\">\n",
       "      <th></th>\n",
       "      <th>Territory</th>\n",
       "      <th>Type_of_data</th>\n",
       "      <th>Type_of_crime</th>\n",
       "      <th>Gender</th>\n",
       "      <th>Age</th>\n",
       "      <th>Year</th>\n",
       "      <th>N_crime_reported</th>\n",
       "    </tr>\n",
       "  </thead>\n",
       "  <tbody>\n",
       "    <tr>\n",
       "      <th>0</th>\n",
       "      <td>Italy</td>\n",
       "      <td>OFFEND</td>\n",
       "      <td>mass murder</td>\n",
       "      <td>males</td>\n",
       "      <td>18-24</td>\n",
       "      <td>2011</td>\n",
       "      <td>9</td>\n",
       "    </tr>\n",
       "    <tr>\n",
       "      <th>1</th>\n",
       "      <td>Italy</td>\n",
       "      <td>OFFEND</td>\n",
       "      <td>mass murder</td>\n",
       "      <td>males</td>\n",
       "      <td>18-24</td>\n",
       "      <td>2012</td>\n",
       "      <td>1</td>\n",
       "    </tr>\n",
       "    <tr>\n",
       "      <th>2</th>\n",
       "      <td>Italy</td>\n",
       "      <td>OFFEND</td>\n",
       "      <td>mass murder</td>\n",
       "      <td>males</td>\n",
       "      <td>18-24</td>\n",
       "      <td>2013</td>\n",
       "      <td>2</td>\n",
       "    </tr>\n",
       "    <tr>\n",
       "      <th>3</th>\n",
       "      <td>Italy</td>\n",
       "      <td>OFFEND</td>\n",
       "      <td>mass murder</td>\n",
       "      <td>males</td>\n",
       "      <td>18-24</td>\n",
       "      <td>2014</td>\n",
       "      <td>1</td>\n",
       "    </tr>\n",
       "    <tr>\n",
       "      <th>4</th>\n",
       "      <td>Italy</td>\n",
       "      <td>OFFEND</td>\n",
       "      <td>mass murder</td>\n",
       "      <td>males</td>\n",
       "      <td>18-24</td>\n",
       "      <td>2015</td>\n",
       "      <td>3</td>\n",
       "    </tr>\n",
       "    <tr>\n",
       "      <th>...</th>\n",
       "      <td>...</td>\n",
       "      <td>...</td>\n",
       "      <td>...</td>\n",
       "      <td>...</td>\n",
       "      <td>...</td>\n",
       "      <td>...</td>\n",
       "      <td>...</td>\n",
       "    </tr>\n",
       "    <tr>\n",
       "      <th>500467</th>\n",
       "      <td>Sardegna</td>\n",
       "      <td>VICTIM</td>\n",
       "      <td>damage followed by arson</td>\n",
       "      <td>females</td>\n",
       "      <td>&lt;13</td>\n",
       "      <td>2017</td>\n",
       "      <td>1</td>\n",
       "    </tr>\n",
       "    <tr>\n",
       "      <th>500468</th>\n",
       "      <td>Sardegna</td>\n",
       "      <td>VICTIM</td>\n",
       "      <td>damage followed by arson</td>\n",
       "      <td>females</td>\n",
       "      <td>&lt;13</td>\n",
       "      <td>2018</td>\n",
       "      <td>0</td>\n",
       "    </tr>\n",
       "    <tr>\n",
       "      <th>500469</th>\n",
       "      <td>Sardegna</td>\n",
       "      <td>VICTIM</td>\n",
       "      <td>damage followed by arson</td>\n",
       "      <td>females</td>\n",
       "      <td>&lt;13</td>\n",
       "      <td>2019</td>\n",
       "      <td>0</td>\n",
       "    </tr>\n",
       "    <tr>\n",
       "      <th>500470</th>\n",
       "      <td>Sardegna</td>\n",
       "      <td>VICTIM</td>\n",
       "      <td>damage followed by arson</td>\n",
       "      <td>females</td>\n",
       "      <td>&lt;13</td>\n",
       "      <td>2020</td>\n",
       "      <td>0</td>\n",
       "    </tr>\n",
       "    <tr>\n",
       "      <th>500471</th>\n",
       "      <td>Sardegna</td>\n",
       "      <td>VICTIM</td>\n",
       "      <td>damage followed by arson</td>\n",
       "      <td>females</td>\n",
       "      <td>&lt;13</td>\n",
       "      <td>2021</td>\n",
       "      <td>0</td>\n",
       "    </tr>\n",
       "  </tbody>\n",
       "</table>\n",
       "<p>500472 rows × 7 columns</p>\n",
       "</div>"
      ],
      "text/plain": [
       "       Territory Type_of_data             Type_of_crime   Gender    Age  Year  \\\n",
       "0          Italy       OFFEND               mass murder    males  18-24  2011   \n",
       "1          Italy       OFFEND               mass murder    males  18-24  2012   \n",
       "2          Italy       OFFEND               mass murder    males  18-24  2013   \n",
       "3          Italy       OFFEND               mass murder    males  18-24  2014   \n",
       "4          Italy       OFFEND               mass murder    males  18-24  2015   \n",
       "...          ...          ...                       ...      ...    ...   ...   \n",
       "500467  Sardegna       VICTIM  damage followed by arson  females    <13  2017   \n",
       "500468  Sardegna       VICTIM  damage followed by arson  females    <13  2018   \n",
       "500469  Sardegna       VICTIM  damage followed by arson  females    <13  2019   \n",
       "500470  Sardegna       VICTIM  damage followed by arson  females    <13  2020   \n",
       "500471  Sardegna       VICTIM  damage followed by arson  females    <13  2021   \n",
       "\n",
       "        N_crime_reported  \n",
       "0                      9  \n",
       "1                      1  \n",
       "2                      2  \n",
       "3                      1  \n",
       "4                      3  \n",
       "...                  ...  \n",
       "500467                 1  \n",
       "500468                 0  \n",
       "500469                 0  \n",
       "500470                 0  \n",
       "500471                 0  \n",
       "\n",
       "[500472 rows x 7 columns]"
      ]
     },
     "execution_count": 11,
     "metadata": {},
     "output_type": "execute_result"
    }
   ],
   "source": [
    "# rename columns \n",
    "\n",
    "df = df.rename(columns={'TIPO_DATO35': 'Type_of_data', 'ETA1': 'Age', 'TIME':'Year', 'Value':'N_crime_reported'})\n",
    "df "
   ]
  },
  {
   "cell_type": "code",
   "execution_count": null,
   "id": "1caee856",
   "metadata": {},
   "outputs": [],
   "source": []
  },
  {
   "cell_type": "code",
   "execution_count": 12,
   "id": "a3277bdb",
   "metadata": {
    "scrolled": true
   },
   "outputs": [
    {
     "data": {
      "text/plain": [
       "array(['mass murder', 'intentional homicides',\n",
       "       'homicides for theft or robbery', 'homicides of mafia',\n",
       "       'terrorist homicides', 'attempted homicides', 'infanticides',\n",
       "       'manslaughter', 'unintentional homicides',\n",
       "       'homicides from road accident', 'blows', 'culpable injuries',\n",
       "       'menaces', 'stalking', 'kidnappings', 'offences', 'rapes',\n",
       "       'sexual activity with a minor', 'corruption of a minor',\n",
       "       'exploitation and abetting prostitution', 'child pornography ',\n",
       "       'thefts', 'bag-snatching', 'pickpocketing', 'burglary',\n",
       "       'shoplifting', 'theft from vehicle', 'theft of art objets',\n",
       "       'theft of cargo trucks carrying freights', 'moped theft',\n",
       "       'motorcycle theft', 'car theft', 'robberies', 'house robbery',\n",
       "       'bank robbery', 'post office robbery', 'shop robbery',\n",
       "       'street robbery', 'extortions', 'swindles and cyber frauds',\n",
       "       'cybercrime', 'counteractions of goods and industrial products',\n",
       "       'intellectual property violations', 'receiving stolen goods',\n",
       "       'money laundering', 'usury', 'damages', 'arson', 'forest arson',\n",
       "       'damage followed by arson', 'trafficking and drugs possession',\n",
       "       'attacks', 'criminal association', 'mafia criminal association',\n",
       "       'smuggling', 'other crimes', 'total'], dtype=object)"
      ]
     },
     "execution_count": 12,
     "metadata": {},
     "output_type": "execute_result"
    }
   ],
   "source": [
    "# check list of crime type in dataset\n",
    "df.Type_of_crime.unique()"
   ]
  },
  {
   "cell_type": "code",
   "execution_count": 13,
   "id": "229c3f81",
   "metadata": {},
   "outputs": [
    {
     "data": {
      "text/plain": [
       "array(['18-24', '35-44', '25-34', '45-54', '55-64', '>65', 'TOTAL',\n",
       "       '14-17', '_>65', '<13'], dtype=object)"
      ]
     },
     "execution_count": 13,
     "metadata": {},
     "output_type": "execute_result"
    }
   ],
   "source": [
    "df.Age.unique()"
   ]
  },
  {
   "cell_type": "code",
   "execution_count": 14,
   "id": "52980392",
   "metadata": {},
   "outputs": [],
   "source": [
    "# drop variable (row) total (total crime reported by the police to the justice system) to avoid confusion \n",
    "\n",
    "df.drop(df.index[(df[\"Type_of_crime\"] == \"total\")],axis=0,inplace=True)\n",
    "\n"
   ]
  },
  {
   "cell_type": "code",
   "execution_count": 15,
   "id": "60b8d68f",
   "metadata": {
    "scrolled": true
   },
   "outputs": [
    {
     "data": {
      "text/plain": [
       "array(['mass murder', 'intentional homicides',\n",
       "       'homicides for theft or robbery', 'homicides of mafia',\n",
       "       'terrorist homicides', 'attempted homicides', 'infanticides',\n",
       "       'manslaughter', 'unintentional homicides',\n",
       "       'homicides from road accident', 'blows', 'culpable injuries',\n",
       "       'menaces', 'stalking', 'kidnappings', 'offences', 'rapes',\n",
       "       'sexual activity with a minor', 'corruption of a minor',\n",
       "       'exploitation and abetting prostitution', 'child pornography ',\n",
       "       'thefts', 'bag-snatching', 'pickpocketing', 'burglary',\n",
       "       'shoplifting', 'theft from vehicle', 'theft of art objets',\n",
       "       'theft of cargo trucks carrying freights', 'moped theft',\n",
       "       'motorcycle theft', 'car theft', 'robberies', 'house robbery',\n",
       "       'bank robbery', 'post office robbery', 'shop robbery',\n",
       "       'street robbery', 'extortions', 'swindles and cyber frauds',\n",
       "       'cybercrime', 'counteractions of goods and industrial products',\n",
       "       'intellectual property violations', 'receiving stolen goods',\n",
       "       'money laundering', 'usury', 'damages', 'arson', 'forest arson',\n",
       "       'damage followed by arson', 'trafficking and drugs possession',\n",
       "       'attacks', 'criminal association', 'mafia criminal association',\n",
       "       'smuggling', 'other crimes'], dtype=object)"
      ]
     },
     "execution_count": 15,
     "metadata": {},
     "output_type": "execute_result"
    }
   ],
   "source": [
    "df.Type_of_crime.unique()"
   ]
  },
  {
   "cell_type": "code",
   "execution_count": 16,
   "id": "88441853",
   "metadata": {},
   "outputs": [],
   "source": [
    "df.to_csv('ITcrime_clean.csv')"
   ]
  },
  {
   "cell_type": "code",
   "execution_count": 17,
   "id": "f697d4b7",
   "metadata": {},
   "outputs": [
    {
     "name": "stdout",
     "output_type": "stream",
     "text": [
      "Rows:\t494928\n",
      "Variables:\t7\n"
     ]
    },
    {
     "data": {
      "text/plain": [
       "Territory           object\n",
       "Type_of_data        object\n",
       "Type_of_crime       object\n",
       "Gender              object\n",
       "Age                 object\n",
       "Year                 int64\n",
       "N_crime_reported     int64\n",
       "dtype: object"
      ]
     },
     "execution_count": 17,
     "metadata": {},
     "output_type": "execute_result"
    }
   ],
   "source": [
    "# check dataset structure \n",
    "\n",
    "print('Rows:\\t{}'.format(df.shape[0]))\n",
    "print('Variables:\\t{}'.format(df.shape[1]))\n",
    "df.dtypes\n"
   ]
  },
  {
   "cell_type": "code",
   "execution_count": 11,
   "id": "b1916367",
   "metadata": {},
   "outputs": [
    {
     "data": {
      "image/png": "[encoded data removed]",
      "text/plain": [
       "<Figure size 1000x500 with 1 Axes>"
      ]
     },
     "metadata": {},
     "output_type": "display_data"
    }
   ],
   "source": [
    "# plot graph of dataset \n",
    "\n",
    "plt.figure(figsize= (10,5))\n",
    "sns.barplot(x= 'Year',y = 'N_crime_reported',data = df,palette='Blues')\n",
    "plt.title('Crime in Italy, 2011-2021')\n",
    "plt.xlabel('Year')\n",
    "plt.ylabel('Count')\n",
    "plt.show()"
   ]
  },
  {
   "cell_type": "code",
   "execution_count": 12,
   "id": "b8063a2d",
   "metadata": {
    "scrolled": false
   },
   "outputs": [
    {
     "data": {
      "text/plain": [
       "array(['Italy', 'Nord-ovest', 'Piemonte',\n",
       "       \"Valle d'Aosta / Vallée d'Aoste\", 'Liguria', 'Lombardia',\n",
       "       'Nord-est', 'Trentino Alto Adige / Südtirol',\n",
       "       'Provincia Autonoma Bolzano / Bozen', 'Provincia Autonoma Trento',\n",
       "       'Veneto', 'Friuli-Venezia Giulia', 'Emilia-Romagna', 'Centro (I)',\n",
       "       'Toscana', 'Umbria', 'Marche', 'Lazio', 'Sud', 'Abruzzo', 'Molise',\n",
       "       'Campania', 'Puglia', 'Basilicata', 'Calabria', 'Isole', 'Sicilia',\n",
       "       'Sardegna'], dtype=object)"
      ]
     },
     "execution_count": 12,
     "metadata": {},
     "output_type": "execute_result"
    }
   ],
   "source": [
    "# list all cities \n",
    "\n",
    "df.Territory.unique()"
   ]
  },
  {
   "cell_type": "markdown",
   "id": "ade1e100",
   "metadata": {},
   "source": [
    "# Separating dataset into Victim from Offenders \n",
    "\n",
    "I am separating the dataset into two parts, Victims and Offenders to look at age, gender and location variables for each group. "
   ]
  },
  {
   "cell_type": "markdown",
   "id": "70c63a9d",
   "metadata": {},
   "source": [
    "## Victims"
   ]
  },
  {
   "cell_type": "code",
   "execution_count": 13,
   "id": "abd61536",
   "metadata": {},
   "outputs": [
    {
     "data": {
      "text/html": [
       "<div>\n",
       "<style scoped>\n",
       "    .dataframe tbody tr th:only-of-type {\n",
       "        vertical-align: middle;\n",
       "    }\n",
       "\n",
       "    .dataframe tbody tr th {\n",
       "        vertical-align: top;\n",
       "    }\n",
       "\n",
       "    .dataframe thead th {\n",
       "        text-align: right;\n",
       "    }\n",
       "</style>\n",
       "<table border=\"1\" class=\"dataframe\">\n",
       "  <thead>\n",
       "    <tr style=\"text-align: right;\">\n",
       "      <th></th>\n",
       "      <th>Territory</th>\n",
       "      <th>Type_of_data</th>\n",
       "      <th>Type_of_crime</th>\n",
       "      <th>Gender</th>\n",
       "      <th>Age</th>\n",
       "      <th>Year</th>\n",
       "      <th>N_crime_reported</th>\n",
       "    </tr>\n",
       "  </thead>\n",
       "  <tbody>\n",
       "    <tr>\n",
       "      <th>33</th>\n",
       "      <td>Italy</td>\n",
       "      <td>VICTIM</td>\n",
       "      <td>intentional homicides</td>\n",
       "      <td>males</td>\n",
       "      <td>Y18-24</td>\n",
       "      <td>2011</td>\n",
       "      <td>41</td>\n",
       "    </tr>\n",
       "    <tr>\n",
       "      <th>34</th>\n",
       "      <td>Italy</td>\n",
       "      <td>VICTIM</td>\n",
       "      <td>intentional homicides</td>\n",
       "      <td>males</td>\n",
       "      <td>Y18-24</td>\n",
       "      <td>2012</td>\n",
       "      <td>34</td>\n",
       "    </tr>\n",
       "    <tr>\n",
       "      <th>35</th>\n",
       "      <td>Italy</td>\n",
       "      <td>VICTIM</td>\n",
       "      <td>intentional homicides</td>\n",
       "      <td>males</td>\n",
       "      <td>Y18-24</td>\n",
       "      <td>2013</td>\n",
       "      <td>37</td>\n",
       "    </tr>\n",
       "    <tr>\n",
       "      <th>36</th>\n",
       "      <td>Italy</td>\n",
       "      <td>VICTIM</td>\n",
       "      <td>intentional homicides</td>\n",
       "      <td>males</td>\n",
       "      <td>Y18-24</td>\n",
       "      <td>2014</td>\n",
       "      <td>21</td>\n",
       "    </tr>\n",
       "    <tr>\n",
       "      <th>37</th>\n",
       "      <td>Italy</td>\n",
       "      <td>VICTIM</td>\n",
       "      <td>intentional homicides</td>\n",
       "      <td>males</td>\n",
       "      <td>Y18-24</td>\n",
       "      <td>2015</td>\n",
       "      <td>27</td>\n",
       "    </tr>\n",
       "  </tbody>\n",
       "</table>\n",
       "</div>"
      ],
      "text/plain": [
       "   Territory Type_of_data          Type_of_crime Gender     Age  Year  \\\n",
       "33     Italy       VICTIM  intentional homicides  males  Y18-24  2011   \n",
       "34     Italy       VICTIM  intentional homicides  males  Y18-24  2012   \n",
       "35     Italy       VICTIM  intentional homicides  males  Y18-24  2013   \n",
       "36     Italy       VICTIM  intentional homicides  males  Y18-24  2014   \n",
       "37     Italy       VICTIM  intentional homicides  males  Y18-24  2015   \n",
       "\n",
       "    N_crime_reported  \n",
       "33                41  \n",
       "34                34  \n",
       "35                37  \n",
       "36                21  \n",
       "37                27  "
      ]
     },
     "execution_count": 13,
     "metadata": {},
     "output_type": "execute_result"
    }
   ],
   "source": [
    "# group data by victims\n",
    "\n",
    "victim= df.apply(lambda row: row[df['Type_of_data'].isin(['VICTIM'])])\n",
    "victim.head()"
   ]
  },
  {
   "cell_type": "code",
   "execution_count": 39,
   "id": "82ef268c",
   "metadata": {
    "scrolled": true
   },
   "outputs": [
    {
     "data": {
      "image/png": "[encoded data removed]",
      "text/plain": [
       "<Figure size 1000x500 with 1 Axes>"
      ]
     },
     "metadata": {},
     "output_type": "display_data"
    }
   ],
   "source": [
    "# plot graph of dataset \n",
    "\n",
    "plt.figure(figsize= (10,5))\n",
    "sns.barplot(x= 'Year',y = 'N_crime_reported',data = victim,palette='Blues')\n",
    "plt.title('Victims in Italy, 2011-2021')\n",
    "plt.xlabel('Year')\n",
    "plt.ylabel('Count')\n",
    "plt.show()"
   ]
  },
  {
   "cell_type": "markdown",
   "id": "5ec21041",
   "metadata": {},
   "source": [
    "## Victim by region"
   ]
  },
  {
   "cell_type": "code",
   "execution_count": 15,
   "id": "545f45e9",
   "metadata": {},
   "outputs": [
    {
     "data": {
      "text/html": [
       "<div>\n",
       "<style scoped>\n",
       "    .dataframe tbody tr th:only-of-type {\n",
       "        vertical-align: middle;\n",
       "    }\n",
       "\n",
       "    .dataframe tbody tr th {\n",
       "        vertical-align: top;\n",
       "    }\n",
       "\n",
       "    .dataframe thead th {\n",
       "        text-align: right;\n",
       "    }\n",
       "</style>\n",
       "<table border=\"1\" class=\"dataframe\">\n",
       "  <thead>\n",
       "    <tr style=\"text-align: right;\">\n",
       "      <th></th>\n",
       "      <th>Territory</th>\n",
       "      <th>N_crime_reported</th>\n",
       "    </tr>\n",
       "  </thead>\n",
       "  <tbody>\n",
       "    <tr>\n",
       "      <th>8</th>\n",
       "      <td>Italy</td>\n",
       "      <td>43510320</td>\n",
       "    </tr>\n",
       "    <tr>\n",
       "      <th>15</th>\n",
       "      <td>Nord-ovest</td>\n",
       "      <td>13817560</td>\n",
       "    </tr>\n",
       "    <tr>\n",
       "      <th>4</th>\n",
       "      <td>Centro (I)</td>\n",
       "      <td>9635388</td>\n",
       "    </tr>\n",
       "    <tr>\n",
       "      <th>11</th>\n",
       "      <td>Lombardia</td>\n",
       "      <td>8513230</td>\n",
       "    </tr>\n",
       "    <tr>\n",
       "      <th>14</th>\n",
       "      <td>Nord-est</td>\n",
       "      <td>8331280</td>\n",
       "    </tr>\n",
       "    <tr>\n",
       "      <th>22</th>\n",
       "      <td>Sud</td>\n",
       "      <td>8007118</td>\n",
       "    </tr>\n",
       "    <tr>\n",
       "      <th>9</th>\n",
       "      <td>Lazio</td>\n",
       "      <td>5265124</td>\n",
       "    </tr>\n",
       "    <tr>\n",
       "      <th>5</th>\n",
       "      <td>Emilia-Romagna</td>\n",
       "      <td>4113000</td>\n",
       "    </tr>\n",
       "    <tr>\n",
       "      <th>16</th>\n",
       "      <td>Piemonte</td>\n",
       "      <td>3849870</td>\n",
       "    </tr>\n",
       "    <tr>\n",
       "      <th>7</th>\n",
       "      <td>Isole</td>\n",
       "      <td>3718974</td>\n",
       "    </tr>\n",
       "  </tbody>\n",
       "</table>\n",
       "</div>"
      ],
      "text/plain": [
       "         Territory  N_crime_reported\n",
       "8            Italy          43510320\n",
       "15      Nord-ovest          13817560\n",
       "4       Centro (I)           9635388\n",
       "11       Lombardia           8513230\n",
       "14        Nord-est           8331280\n",
       "22             Sud           8007118\n",
       "9            Lazio           5265124\n",
       "5   Emilia-Romagna           4113000\n",
       "16        Piemonte           3849870\n",
       "7            Isole           3718974"
      ]
     },
     "execution_count": 15,
     "metadata": {},
     "output_type": "execute_result"
    }
   ],
   "source": [
    "# sum all crimes reported by region by victim\n",
    "\n",
    "sum_victim_region = victim.groupby(by = victim.Territory)['N_crime_reported','Territory'].sum().reset_index().sort_values(by = 'N_crime_reported', ascending = False).head(10)\n",
    "sum_victim_region"
   ]
  },
  {
   "cell_type": "code",
   "execution_count": 16,
   "id": "4cf29fb8",
   "metadata": {
    "scrolled": false
   },
   "outputs": [
    {
     "data": {
      "image/png": "[encoded data removed]",
      "text/plain": [
       "<Figure size 1000x500 with 1 Axes>"
      ]
     },
     "metadata": {},
     "output_type": "display_data"
    }
   ],
   "source": [
    "# plot graph of crimes by region by victim\n",
    "\n",
    "plt.figure(figsize= (10,5))\n",
    "sns.barplot(x=sum_victim_region['N_crime_reported'],y= sum_victim_region['Territory'], orient='h', palette='Blues');\n",
    "plt.title('Total victim in Italy 2011-2021 by City')\n",
    "plt.xlabel('Total crime reported')\n",
    "plt.ylabel('Cities')\n",
    "plt.show()"
   ]
  },
  {
   "cell_type": "markdown",
   "id": "1925545e",
   "metadata": {},
   "source": [
    "## Victim by gender "
   ]
  },
  {
   "cell_type": "code",
   "execution_count": 19,
   "id": "ce18becf",
   "metadata": {},
   "outputs": [
    {
     "data": {
      "text/html": [
       "<div>\n",
       "<style scoped>\n",
       "    .dataframe tbody tr th:only-of-type {\n",
       "        vertical-align: middle;\n",
       "    }\n",
       "\n",
       "    .dataframe tbody tr th {\n",
       "        vertical-align: top;\n",
       "    }\n",
       "\n",
       "    .dataframe thead th {\n",
       "        text-align: right;\n",
       "    }\n",
       "</style>\n",
       "<table border=\"1\" class=\"dataframe\">\n",
       "  <thead>\n",
       "    <tr style=\"text-align: right;\">\n",
       "      <th></th>\n",
       "      <th>Gender</th>\n",
       "      <th>N_crime_reported</th>\n",
       "    </tr>\n",
       "  </thead>\n",
       "  <tbody>\n",
       "    <tr>\n",
       "      <th>1</th>\n",
       "      <td>males</td>\n",
       "      <td>75275886</td>\n",
       "    </tr>\n",
       "    <tr>\n",
       "      <th>0</th>\n",
       "      <td>females</td>\n",
       "      <td>55768324</td>\n",
       "    </tr>\n",
       "  </tbody>\n",
       "</table>\n",
       "</div>"
      ],
      "text/plain": [
       "    Gender  N_crime_reported\n",
       "1    males          75275886\n",
       "0  females          55768324"
      ]
     },
     "execution_count": 19,
     "metadata": {},
     "output_type": "execute_result"
    }
   ],
   "source": [
    "# sum crimes reported by gender \n",
    "sum_victim_gender = victim.groupby(by = victim.Gender)['N_crime_reported','Gender'].sum().reset_index().sort_values(by = 'N_crime_reported', ascending = False).head(10)\n",
    "sum_victim_gender"
   ]
  },
  {
   "cell_type": "code",
   "execution_count": 20,
   "id": "002531b6",
   "metadata": {},
   "outputs": [
    {
     "data": {
      "image/png": "[encoded data removed]",
      "text/plain": [
       "<Figure size 1000x500 with 1 Axes>"
      ]
     },
     "metadata": {},
     "output_type": "display_data"
    }
   ],
   "source": [
    "# graph of crimes reported by gender (Victims and offenders)\n",
    "plt.figure(figsize= (10,5))\n",
    "sns.barplot(x=sum_victim_gender['N_crime_reported'],y= sum_victim_gender['Gender'], orient='h', palette='Blues');\n",
    "plt.title('Total victim in Italy 2011-2021 by gender')\n",
    "plt.xlabel('Total crime reported')\n",
    "plt.ylabel('Gender')\n",
    "plt.show()"
   ]
  },
  {
   "cell_type": "code",
   "execution_count": null,
   "id": "c6f36041",
   "metadata": {},
   "outputs": [],
   "source": []
  },
  {
   "cell_type": "markdown",
   "id": "4a25a664",
   "metadata": {},
   "source": [
    "## Victim by age"
   ]
  },
  {
   "cell_type": "code",
   "execution_count": 23,
   "id": "daedebd6",
   "metadata": {},
   "outputs": [
    {
     "data": {
      "text/html": [
       "<div>\n",
       "<style scoped>\n",
       "    .dataframe tbody tr th:only-of-type {\n",
       "        vertical-align: middle;\n",
       "    }\n",
       "\n",
       "    .dataframe tbody tr th {\n",
       "        vertical-align: top;\n",
       "    }\n",
       "\n",
       "    .dataframe thead th {\n",
       "        text-align: right;\n",
       "    }\n",
       "</style>\n",
       "<table border=\"1\" class=\"dataframe\">\n",
       "  <thead>\n",
       "    <tr style=\"text-align: right;\">\n",
       "      <th></th>\n",
       "      <th>Age</th>\n",
       "      <th>N_crime_reported</th>\n",
       "    </tr>\n",
       "  </thead>\n",
       "  <tbody>\n",
       "    <tr>\n",
       "      <th>0</th>\n",
       "      <td>TOTAL</td>\n",
       "      <td>65522105</td>\n",
       "    </tr>\n",
       "    <tr>\n",
       "      <th>5</th>\n",
       "      <td>Y45-54</td>\n",
       "      <td>14061109</td>\n",
       "    </tr>\n",
       "    <tr>\n",
       "      <th>4</th>\n",
       "      <td>Y35-44</td>\n",
       "      <td>13234577</td>\n",
       "    </tr>\n",
       "    <tr>\n",
       "      <th>7</th>\n",
       "      <td>Y_GE65</td>\n",
       "      <td>11247469</td>\n",
       "    </tr>\n",
       "    <tr>\n",
       "      <th>3</th>\n",
       "      <td>Y25-34</td>\n",
       "      <td>10146564</td>\n",
       "    </tr>\n",
       "    <tr>\n",
       "      <th>6</th>\n",
       "      <td>Y55-64</td>\n",
       "      <td>10069992</td>\n",
       "    </tr>\n",
       "    <tr>\n",
       "      <th>2</th>\n",
       "      <td>Y18-24</td>\n",
       "      <td>5300356</td>\n",
       "    </tr>\n",
       "    <tr>\n",
       "      <th>1</th>\n",
       "      <td>Y14-17</td>\n",
       "      <td>1146679</td>\n",
       "    </tr>\n",
       "    <tr>\n",
       "      <th>8</th>\n",
       "      <td>Y_UN13</td>\n",
       "      <td>315359</td>\n",
       "    </tr>\n",
       "  </tbody>\n",
       "</table>\n",
       "</div>"
      ],
      "text/plain": [
       "      Age  N_crime_reported\n",
       "0   TOTAL          65522105\n",
       "5  Y45-54          14061109\n",
       "4  Y35-44          13234577\n",
       "7  Y_GE65          11247469\n",
       "3  Y25-34          10146564\n",
       "6  Y55-64          10069992\n",
       "2  Y18-24           5300356\n",
       "1  Y14-17           1146679\n",
       "8  Y_UN13            315359"
      ]
     },
     "execution_count": 23,
     "metadata": {},
     "output_type": "execute_result"
    }
   ],
   "source": [
    "# sum crimes reported by age range \n",
    "\n",
    "sum_victim_age = victim.groupby(by = victim.Age)['N_crime_reported','Age'].sum().reset_index().sort_values(by = 'N_crime_reported', ascending = False).head(10)\n",
    "sum_victim_age"
   ]
  },
  {
   "cell_type": "code",
   "execution_count": 24,
   "id": "18661bd5",
   "metadata": {
    "scrolled": true
   },
   "outputs": [
    {
     "data": {
      "image/png": "[encoded data removed]",
      "text/plain": [
       "<Figure size 1000x500 with 1 Axes>"
      ]
     },
     "metadata": {},
     "output_type": "display_data"
    }
   ],
   "source": [
    "# graph of crime reported by age range \n",
    "\n",
    "plt.figure(figsize= (10,5))\n",
    "sns.barplot(x=sum_victim_age['N_crime_reported'],y= sum_victim_age['Age'], orient='h', palette='Blues');\n",
    "plt.title('Total victim in Italy 2011-2021 by age')\n",
    "plt.xlabel('Total crime reported')\n",
    "plt.ylabel('Age range')\n",
    "plt.show()"
   ]
  },
  {
   "cell_type": "code",
   "execution_count": null,
   "id": "6b3e5613",
   "metadata": {},
   "outputs": [],
   "source": []
  },
  {
   "cell_type": "code",
   "execution_count": null,
   "id": "9b79d5be",
   "metadata": {},
   "outputs": [],
   "source": []
  },
  {
   "cell_type": "markdown",
   "id": "4347abd0",
   "metadata": {},
   "source": [
    "## Crime by type "
   ]
  },
  {
   "cell_type": "code",
   "execution_count": null,
   "id": "29488688",
   "metadata": {},
   "outputs": [],
   "source": []
  },
  {
   "cell_type": "code",
   "execution_count": 27,
   "id": "203208c9",
   "metadata": {
    "scrolled": true
   },
   "outputs": [
    {
     "data": {
      "text/html": [
       "<div>\n",
       "<style scoped>\n",
       "    .dataframe tbody tr th:only-of-type {\n",
       "        vertical-align: middle;\n",
       "    }\n",
       "\n",
       "    .dataframe tbody tr th {\n",
       "        vertical-align: top;\n",
       "    }\n",
       "\n",
       "    .dataframe thead th {\n",
       "        text-align: right;\n",
       "    }\n",
       "</style>\n",
       "<table border=\"1\" class=\"dataframe\">\n",
       "  <thead>\n",
       "    <tr style=\"text-align: right;\">\n",
       "      <th></th>\n",
       "      <th>Type_of_crime</th>\n",
       "      <th>N_crime_reported</th>\n",
       "    </tr>\n",
       "  </thead>\n",
       "  <tbody>\n",
       "    <tr>\n",
       "      <th>31</th>\n",
       "      <td>thefts</td>\n",
       "      <td>75515726</td>\n",
       "    </tr>\n",
       "    <tr>\n",
       "      <th>10</th>\n",
       "      <td>damages</td>\n",
       "      <td>16357634</td>\n",
       "    </tr>\n",
       "    <tr>\n",
       "      <th>29</th>\n",
       "      <td>swindles and cyber frauds</td>\n",
       "      <td>10010552</td>\n",
       "    </tr>\n",
       "    <tr>\n",
       "      <th>22</th>\n",
       "      <td>pickpocketing</td>\n",
       "      <td>9199966</td>\n",
       "    </tr>\n",
       "    <tr>\n",
       "      <th>20</th>\n",
       "      <td>menaces</td>\n",
       "      <td>5099072</td>\n",
       "    </tr>\n",
       "    <tr>\n",
       "      <th>7</th>\n",
       "      <td>culpable injuries</td>\n",
       "      <td>3947334</td>\n",
       "    </tr>\n",
       "    <tr>\n",
       "      <th>21</th>\n",
       "      <td>offences</td>\n",
       "      <td>2041714</td>\n",
       "    </tr>\n",
       "    <tr>\n",
       "      <th>24</th>\n",
       "      <td>robberies</td>\n",
       "      <td>1819774</td>\n",
       "    </tr>\n",
       "    <tr>\n",
       "      <th>28</th>\n",
       "      <td>street robbery</td>\n",
       "      <td>1087262</td>\n",
       "    </tr>\n",
       "    <tr>\n",
       "      <th>2</th>\n",
       "      <td>bag-snatching</td>\n",
       "      <td>1013572</td>\n",
       "    </tr>\n",
       "    <tr>\n",
       "      <th>4</th>\n",
       "      <td>blows</td>\n",
       "      <td>1005552</td>\n",
       "    </tr>\n",
       "    <tr>\n",
       "      <th>27</th>\n",
       "      <td>stalking</td>\n",
       "      <td>886306</td>\n",
       "    </tr>\n",
       "    <tr>\n",
       "      <th>8</th>\n",
       "      <td>cybercrime</td>\n",
       "      <td>594382</td>\n",
       "    </tr>\n",
       "    <tr>\n",
       "      <th>12</th>\n",
       "      <td>extortions</td>\n",
       "      <td>541456</td>\n",
       "    </tr>\n",
       "    <tr>\n",
       "      <th>9</th>\n",
       "      <td>damage followed by arson</td>\n",
       "      <td>499862</td>\n",
       "    </tr>\n",
       "    <tr>\n",
       "      <th>23</th>\n",
       "      <td>rapes</td>\n",
       "      <td>275022</td>\n",
       "    </tr>\n",
       "    <tr>\n",
       "      <th>0</th>\n",
       "      <td>arson</td>\n",
       "      <td>268134</td>\n",
       "    </tr>\n",
       "    <tr>\n",
       "      <th>26</th>\n",
       "      <td>shop robbery</td>\n",
       "      <td>211692</td>\n",
       "    </tr>\n",
       "    <tr>\n",
       "      <th>16</th>\n",
       "      <td>house robbery</td>\n",
       "      <td>172124</td>\n",
       "    </tr>\n",
       "    <tr>\n",
       "      <th>32</th>\n",
       "      <td>unintentional homicides</td>\n",
       "      <td>111508</td>\n",
       "    </tr>\n",
       "    <tr>\n",
       "      <th>18</th>\n",
       "      <td>kidnappings</td>\n",
       "      <td>81934</td>\n",
       "    </tr>\n",
       "    <tr>\n",
       "      <th>1</th>\n",
       "      <td>attempted homicides</td>\n",
       "      <td>74040</td>\n",
       "    </tr>\n",
       "    <tr>\n",
       "      <th>14</th>\n",
       "      <td>homicides from road accident</td>\n",
       "      <td>71958</td>\n",
       "    </tr>\n",
       "    <tr>\n",
       "      <th>11</th>\n",
       "      <td>exploitation and abetting prostitution</td>\n",
       "      <td>36530</td>\n",
       "    </tr>\n",
       "    <tr>\n",
       "      <th>25</th>\n",
       "      <td>sexual activity with a minor</td>\n",
       "      <td>29072</td>\n",
       "    </tr>\n",
       "  </tbody>\n",
       "</table>\n",
       "</div>"
      ],
      "text/plain": [
       "                             Type_of_crime  N_crime_reported\n",
       "31                                  thefts          75515726\n",
       "10                                 damages          16357634\n",
       "29               swindles and cyber frauds          10010552\n",
       "22                           pickpocketing           9199966\n",
       "20                                 menaces           5099072\n",
       "7                        culpable injuries           3947334\n",
       "21                                offences           2041714\n",
       "24                               robberies           1819774\n",
       "28                          street robbery           1087262\n",
       "2                            bag-snatching           1013572\n",
       "4                                    blows           1005552\n",
       "27                                stalking            886306\n",
       "8                               cybercrime            594382\n",
       "12                              extortions            541456\n",
       "9                 damage followed by arson            499862\n",
       "23                                   rapes            275022\n",
       "0                                    arson            268134\n",
       "26                            shop robbery            211692\n",
       "16                           house robbery            172124\n",
       "32                 unintentional homicides            111508\n",
       "18                             kidnappings             81934\n",
       "1                      attempted homicides             74040\n",
       "14            homicides from road accident             71958\n",
       "11  exploitation and abetting prostitution             36530\n",
       "25            sexual activity with a minor             29072"
      ]
     },
     "execution_count": 27,
     "metadata": {},
     "output_type": "execute_result"
    }
   ],
   "source": [
    "# sum all crimes by type across years \n",
    "sum_victim_crime_type = victim.groupby(by = victim.Type_of_crime)['N_crime_reported','Type_of_crime'].sum().reset_index().sort_values(by = 'N_crime_reported', ascending = False).head(25)\n",
    "sum_victim_crime_type\n"
   ]
  },
  {
   "cell_type": "code",
   "execution_count": 28,
   "id": "8190f69f",
   "metadata": {
    "scrolled": true
   },
   "outputs": [
    {
     "data": {
      "image/png": "[encoded data removed]",
      "text/plain": [
       "<Figure size 1000x500 with 1 Axes>"
      ]
     },
     "metadata": {},
     "output_type": "display_data"
    }
   ],
   "source": [
    "#  graph crimes by type across years \n",
    "\n",
    "plt.figure(figsize= (10,5))\n",
    "sns.barplot(x=sum_victim_crime_type['N_crime_reported'],y= sum_victim_crime_type['Type_of_crime'], orient='h', palette='Blues');\n",
    "plt.title('Total victim in Italy 2011-2021 by crime type')\n",
    "plt.xlabel('Total number of crime reported')\n",
    "plt.ylabel('Type of Crime')\n",
    "plt.show()"
   ]
  },
  {
   "cell_type": "code",
   "execution_count": null,
   "id": "6f2df856",
   "metadata": {},
   "outputs": [],
   "source": []
  },
  {
   "cell_type": "code",
   "execution_count": null,
   "id": "2fb81bb2",
   "metadata": {},
   "outputs": [],
   "source": []
  },
  {
   "cell_type": "code",
   "execution_count": null,
   "id": "f38ba767",
   "metadata": {},
   "outputs": [],
   "source": []
  },
  {
   "cell_type": "markdown",
   "id": "130ac0a1",
   "metadata": {},
   "source": [
    "## Offenders "
   ]
  },
  {
   "cell_type": "code",
   "execution_count": 14,
   "id": "07068ffe",
   "metadata": {
    "scrolled": true
   },
   "outputs": [
    {
     "data": {
      "text/html": [
       "<div>\n",
       "<style scoped>\n",
       "    .dataframe tbody tr th:only-of-type {\n",
       "        vertical-align: middle;\n",
       "    }\n",
       "\n",
       "    .dataframe tbody tr th {\n",
       "        vertical-align: top;\n",
       "    }\n",
       "\n",
       "    .dataframe thead th {\n",
       "        text-align: right;\n",
       "    }\n",
       "</style>\n",
       "<table border=\"1\" class=\"dataframe\">\n",
       "  <thead>\n",
       "    <tr style=\"text-align: right;\">\n",
       "      <th></th>\n",
       "      <th>Territory</th>\n",
       "      <th>Type_of_data</th>\n",
       "      <th>Type_of_crime</th>\n",
       "      <th>Gender</th>\n",
       "      <th>Age</th>\n",
       "      <th>Year</th>\n",
       "      <th>N_crime_reported</th>\n",
       "    </tr>\n",
       "  </thead>\n",
       "  <tbody>\n",
       "    <tr>\n",
       "      <th>0</th>\n",
       "      <td>Italy</td>\n",
       "      <td>OFFEND</td>\n",
       "      <td>mass murder</td>\n",
       "      <td>males</td>\n",
       "      <td>Y18-24</td>\n",
       "      <td>2011</td>\n",
       "      <td>9</td>\n",
       "    </tr>\n",
       "    <tr>\n",
       "      <th>1</th>\n",
       "      <td>Italy</td>\n",
       "      <td>OFFEND</td>\n",
       "      <td>mass murder</td>\n",
       "      <td>males</td>\n",
       "      <td>Y18-24</td>\n",
       "      <td>2012</td>\n",
       "      <td>1</td>\n",
       "    </tr>\n",
       "    <tr>\n",
       "      <th>2</th>\n",
       "      <td>Italy</td>\n",
       "      <td>OFFEND</td>\n",
       "      <td>mass murder</td>\n",
       "      <td>males</td>\n",
       "      <td>Y18-24</td>\n",
       "      <td>2013</td>\n",
       "      <td>2</td>\n",
       "    </tr>\n",
       "    <tr>\n",
       "      <th>3</th>\n",
       "      <td>Italy</td>\n",
       "      <td>OFFEND</td>\n",
       "      <td>mass murder</td>\n",
       "      <td>males</td>\n",
       "      <td>Y18-24</td>\n",
       "      <td>2014</td>\n",
       "      <td>1</td>\n",
       "    </tr>\n",
       "    <tr>\n",
       "      <th>4</th>\n",
       "      <td>Italy</td>\n",
       "      <td>OFFEND</td>\n",
       "      <td>mass murder</td>\n",
       "      <td>males</td>\n",
       "      <td>Y18-24</td>\n",
       "      <td>2015</td>\n",
       "      <td>3</td>\n",
       "    </tr>\n",
       "  </tbody>\n",
       "</table>\n",
       "</div>"
      ],
      "text/plain": [
       "  Territory Type_of_data Type_of_crime Gender     Age  Year  N_crime_reported\n",
       "0     Italy       OFFEND   mass murder  males  Y18-24  2011                 9\n",
       "1     Italy       OFFEND   mass murder  males  Y18-24  2012                 1\n",
       "2     Italy       OFFEND   mass murder  males  Y18-24  2013                 2\n",
       "3     Italy       OFFEND   mass murder  males  Y18-24  2014                 1\n",
       "4     Italy       OFFEND   mass murder  males  Y18-24  2015                 3"
      ]
     },
     "execution_count": 14,
     "metadata": {},
     "output_type": "execute_result"
    }
   ],
   "source": [
    "# group data by offender\n",
    "\n",
    "offender = df.apply(lambda row: row[df['Type_of_data'].isin(['OFFEND'])])\n",
    "offender.head()"
   ]
  },
  {
   "cell_type": "code",
   "execution_count": 42,
   "id": "fb1e351b",
   "metadata": {
    "scrolled": true
   },
   "outputs": [
    {
     "data": {
      "image/png": "[encoded data removed]",
      "text/plain": [
       "<Figure size 1000x500 with 1 Axes>"
      ]
     },
     "metadata": {},
     "output_type": "display_data"
    }
   ],
   "source": [
    "# plot graph of dataset \n",
    "\n",
    "plt.figure(figsize= (10,5))\n",
    "sns.barplot(x= 'Year',y = 'N_crime_reported',data = offender,palette='Blues')\n",
    "plt.title('Offenders in Italy, 2011-2021')\n",
    "plt.xlabel('Year')\n",
    "plt.ylabel('Count')\n",
    "plt.show()"
   ]
  },
  {
   "cell_type": "markdown",
   "id": "de05cb1d",
   "metadata": {},
   "source": [
    "## Offenders by region"
   ]
  },
  {
   "cell_type": "code",
   "execution_count": 17,
   "id": "12549618",
   "metadata": {},
   "outputs": [
    {
     "data": {
      "text/html": [
       "<div>\n",
       "<style scoped>\n",
       "    .dataframe tbody tr th:only-of-type {\n",
       "        vertical-align: middle;\n",
       "    }\n",
       "\n",
       "    .dataframe tbody tr th {\n",
       "        vertical-align: top;\n",
       "    }\n",
       "\n",
       "    .dataframe thead th {\n",
       "        text-align: right;\n",
       "    }\n",
       "</style>\n",
       "<table border=\"1\" class=\"dataframe\">\n",
       "  <thead>\n",
       "    <tr style=\"text-align: right;\">\n",
       "      <th></th>\n",
       "      <th>Territory</th>\n",
       "      <th>N_crime_reported</th>\n",
       "    </tr>\n",
       "  </thead>\n",
       "  <tbody>\n",
       "    <tr>\n",
       "      <th>8</th>\n",
       "      <td>Italy</td>\n",
       "      <td>21556556</td>\n",
       "    </tr>\n",
       "    <tr>\n",
       "      <th>15</th>\n",
       "      <td>Nord-ovest</td>\n",
       "      <td>5514838</td>\n",
       "    </tr>\n",
       "    <tr>\n",
       "      <th>22</th>\n",
       "      <td>Sud</td>\n",
       "      <td>5170142</td>\n",
       "    </tr>\n",
       "    <tr>\n",
       "      <th>4</th>\n",
       "      <td>Centro (I)</td>\n",
       "      <td>4421862</td>\n",
       "    </tr>\n",
       "    <tr>\n",
       "      <th>14</th>\n",
       "      <td>Nord-est</td>\n",
       "      <td>3888940</td>\n",
       "    </tr>\n",
       "    <tr>\n",
       "      <th>11</th>\n",
       "      <td>Lombardia</td>\n",
       "      <td>3207722</td>\n",
       "    </tr>\n",
       "    <tr>\n",
       "      <th>7</th>\n",
       "      <td>Isole</td>\n",
       "      <td>2560774</td>\n",
       "    </tr>\n",
       "    <tr>\n",
       "      <th>3</th>\n",
       "      <td>Campania</td>\n",
       "      <td>2133772</td>\n",
       "    </tr>\n",
       "    <tr>\n",
       "      <th>9</th>\n",
       "      <td>Lazio</td>\n",
       "      <td>2091228</td>\n",
       "    </tr>\n",
       "    <tr>\n",
       "      <th>21</th>\n",
       "      <td>Sicilia</td>\n",
       "      <td>2036066</td>\n",
       "    </tr>\n",
       "  </tbody>\n",
       "</table>\n",
       "</div>"
      ],
      "text/plain": [
       "     Territory  N_crime_reported\n",
       "8        Italy          21556556\n",
       "15  Nord-ovest           5514838\n",
       "22         Sud           5170142\n",
       "4   Centro (I)           4421862\n",
       "14    Nord-est           3888940\n",
       "11   Lombardia           3207722\n",
       "7        Isole           2560774\n",
       "3     Campania           2133772\n",
       "9        Lazio           2091228\n",
       "21     Sicilia           2036066"
      ]
     },
     "execution_count": 17,
     "metadata": {},
     "output_type": "execute_result"
    }
   ],
   "source": [
    "# sum all crimes reported by region by victim\n",
    "\n",
    "sum_offender_region = offender.groupby(by = offender.Territory)['N_crime_reported','Territory'].sum().reset_index().sort_values(by = 'N_crime_reported', ascending = False).head(10)\n",
    "sum_offender_region"
   ]
  },
  {
   "cell_type": "code",
   "execution_count": 18,
   "id": "99b9e36d",
   "metadata": {},
   "outputs": [
    {
     "data": {
      "image/png": "[encoded data removed]",
      "text/plain": [
       "<Figure size 1000x500 with 1 Axes>"
      ]
     },
     "metadata": {},
     "output_type": "display_data"
    }
   ],
   "source": [
    "# plot graph of crimes by region by offenders\n",
    "\n",
    "plt.figure(figsize= (10,5))\n",
    "sns.barplot(x=sum_offender_region['N_crime_reported'],y= sum_offender_region['Territory'], orient='h', palette='Blues');\n",
    "plt.title('Total offender in Italy 2011-2021 by City')\n",
    "plt.xlabel('Total crime reported')\n",
    "plt.ylabel('Cities')\n",
    "plt.show()"
   ]
  },
  {
   "cell_type": "markdown",
   "id": "fef33c98",
   "metadata": {},
   "source": [
    "## Offenders by gender"
   ]
  },
  {
   "cell_type": "code",
   "execution_count": 21,
   "id": "fab33c29",
   "metadata": {},
   "outputs": [
    {
     "data": {
      "text/html": [
       "<div>\n",
       "<style scoped>\n",
       "    .dataframe tbody tr th:only-of-type {\n",
       "        vertical-align: middle;\n",
       "    }\n",
       "\n",
       "    .dataframe tbody tr th {\n",
       "        vertical-align: top;\n",
       "    }\n",
       "\n",
       "    .dataframe thead th {\n",
       "        text-align: right;\n",
       "    }\n",
       "</style>\n",
       "<table border=\"1\" class=\"dataframe\">\n",
       "  <thead>\n",
       "    <tr style=\"text-align: right;\">\n",
       "      <th></th>\n",
       "      <th>Gender</th>\n",
       "      <th>N_crime_reported</th>\n",
       "    </tr>\n",
       "  </thead>\n",
       "  <tbody>\n",
       "    <tr>\n",
       "      <th>1</th>\n",
       "      <td>males</td>\n",
       "      <td>52787548</td>\n",
       "    </tr>\n",
       "    <tr>\n",
       "      <th>0</th>\n",
       "      <td>females</td>\n",
       "      <td>12204142</td>\n",
       "    </tr>\n",
       "  </tbody>\n",
       "</table>\n",
       "</div>"
      ],
      "text/plain": [
       "    Gender  N_crime_reported\n",
       "1    males          52787548\n",
       "0  females          12204142"
      ]
     },
     "execution_count": 21,
     "metadata": {},
     "output_type": "execute_result"
    }
   ],
   "source": [
    "# sum crimes reported by gender \n",
    "sum_offender_gender = offender.groupby(by = offender.Gender)['N_crime_reported','Gender'].sum().reset_index().sort_values(by = 'N_crime_reported', ascending = False).head(10)\n",
    "sum_offender_gender"
   ]
  },
  {
   "cell_type": "code",
   "execution_count": 22,
   "id": "26d46c48",
   "metadata": {},
   "outputs": [
    {
     "data": {
      "image/png": "[encoded data removed]",
      "text/plain": [
       "<Figure size 1000x500 with 1 Axes>"
      ]
     },
     "metadata": {},
     "output_type": "display_data"
    }
   ],
   "source": [
    "# graph of crimes reported by gender (Victims and offenders)\n",
    "plt.figure(figsize= (10,5))\n",
    "sns.barplot(x=sum_offender_gender['N_crime_reported'],y= sum_offender_gender['Gender'], orient='h', palette='Blues');\n",
    "plt.title('Total offender in Italy 2011-2021 by gender')\n",
    "plt.xlabel('Total crime reported')\n",
    "plt.ylabel('Gender')\n",
    "plt.show()"
   ]
  },
  {
   "cell_type": "markdown",
   "id": "e15562ee",
   "metadata": {},
   "source": [
    "## Offenders by age"
   ]
  },
  {
   "cell_type": "code",
   "execution_count": 25,
   "id": "2d5e6f2a",
   "metadata": {},
   "outputs": [
    {
     "data": {
      "text/html": [
       "<div>\n",
       "<style scoped>\n",
       "    .dataframe tbody tr th:only-of-type {\n",
       "        vertical-align: middle;\n",
       "    }\n",
       "\n",
       "    .dataframe tbody tr th {\n",
       "        vertical-align: top;\n",
       "    }\n",
       "\n",
       "    .dataframe thead th {\n",
       "        text-align: right;\n",
       "    }\n",
       "</style>\n",
       "<table border=\"1\" class=\"dataframe\">\n",
       "  <thead>\n",
       "    <tr style=\"text-align: right;\">\n",
       "      <th></th>\n",
       "      <th>Age</th>\n",
       "      <th>N_crime_reported</th>\n",
       "    </tr>\n",
       "  </thead>\n",
       "  <tbody>\n",
       "    <tr>\n",
       "      <th>0</th>\n",
       "      <td>TOTAL</td>\n",
       "      <td>32495845</td>\n",
       "    </tr>\n",
       "    <tr>\n",
       "      <th>3</th>\n",
       "      <td>Y25-34</td>\n",
       "      <td>8175588</td>\n",
       "    </tr>\n",
       "    <tr>\n",
       "      <th>4</th>\n",
       "      <td>Y35-44</td>\n",
       "      <td>7737499</td>\n",
       "    </tr>\n",
       "    <tr>\n",
       "      <th>5</th>\n",
       "      <td>Y45-54</td>\n",
       "      <td>5683255</td>\n",
       "    </tr>\n",
       "    <tr>\n",
       "      <th>2</th>\n",
       "      <td>Y18-24</td>\n",
       "      <td>5237888</td>\n",
       "    </tr>\n",
       "    <tr>\n",
       "      <th>6</th>\n",
       "      <td>Y55-64</td>\n",
       "      <td>2812437</td>\n",
       "    </tr>\n",
       "    <tr>\n",
       "      <th>7</th>\n",
       "      <td>Y_GE65</td>\n",
       "      <td>1542316</td>\n",
       "    </tr>\n",
       "    <tr>\n",
       "      <th>1</th>\n",
       "      <td>Y14-17</td>\n",
       "      <td>1228856</td>\n",
       "    </tr>\n",
       "    <tr>\n",
       "      <th>8</th>\n",
       "      <td>Y_UN13</td>\n",
       "      <td>78006</td>\n",
       "    </tr>\n",
       "  </tbody>\n",
       "</table>\n",
       "</div>"
      ],
      "text/plain": [
       "      Age  N_crime_reported\n",
       "0   TOTAL          32495845\n",
       "3  Y25-34           8175588\n",
       "4  Y35-44           7737499\n",
       "5  Y45-54           5683255\n",
       "2  Y18-24           5237888\n",
       "6  Y55-64           2812437\n",
       "7  Y_GE65           1542316\n",
       "1  Y14-17           1228856\n",
       "8  Y_UN13             78006"
      ]
     },
     "execution_count": 25,
     "metadata": {},
     "output_type": "execute_result"
    }
   ],
   "source": [
    "# sum crimes reported by age range \n",
    "\n",
    "sum_offender_age = offender.groupby(by = offender.Age)['N_crime_reported','Age'].sum().reset_index().sort_values(by = 'N_crime_reported', ascending = False).head(10)\n",
    "sum_offender_age"
   ]
  },
  {
   "cell_type": "code",
   "execution_count": 26,
   "id": "bea0aaf5",
   "metadata": {
    "scrolled": false
   },
   "outputs": [
    {
     "data": {
      "image/png": "[encoded data removed]",
      "text/plain": [
       "<Figure size 1000x500 with 1 Axes>"
      ]
     },
     "metadata": {},
     "output_type": "display_data"
    }
   ],
   "source": [
    "# graph of crime reported by age range \n",
    "\n",
    "plt.figure(figsize= (10,5))\n",
    "sns.barplot(x=sum_offender_age['N_crime_reported'],y= sum_offender_age['Age'], orient='h', palette='Blues');\n",
    "plt.title('Total offender in Italy 2011-2021 by age')\n",
    "plt.xlabel('Total crime reported')\n",
    "plt.ylabel('Age range')\n",
    "plt.show()"
   ]
  },
  {
   "cell_type": "code",
   "execution_count": null,
   "id": "0a90460a",
   "metadata": {},
   "outputs": [],
   "source": []
  },
  {
   "cell_type": "markdown",
   "id": "44631c68",
   "metadata": {},
   "source": [
    "## Offenders by type of crime"
   ]
  },
  {
   "cell_type": "code",
   "execution_count": 29,
   "id": "1286e196",
   "metadata": {
    "scrolled": true
   },
   "outputs": [
    {
     "data": {
      "text/html": [
       "<div>\n",
       "<style scoped>\n",
       "    .dataframe tbody tr th:only-of-type {\n",
       "        vertical-align: middle;\n",
       "    }\n",
       "\n",
       "    .dataframe tbody tr th {\n",
       "        vertical-align: top;\n",
       "    }\n",
       "\n",
       "    .dataframe thead th {\n",
       "        text-align: right;\n",
       "    }\n",
       "</style>\n",
       "<table border=\"1\" class=\"dataframe\">\n",
       "  <thead>\n",
       "    <tr style=\"text-align: right;\">\n",
       "      <th></th>\n",
       "      <th>Type_of_crime</th>\n",
       "      <th>N_crime_reported</th>\n",
       "    </tr>\n",
       "  </thead>\n",
       "  <tbody>\n",
       "    <tr>\n",
       "      <th>35</th>\n",
       "      <td>other crimes</td>\n",
       "      <td>24704196</td>\n",
       "    </tr>\n",
       "    <tr>\n",
       "      <th>52</th>\n",
       "      <td>thefts</td>\n",
       "      <td>7229774</td>\n",
       "    </tr>\n",
       "    <tr>\n",
       "      <th>53</th>\n",
       "      <td>trafficking and drugs possession</td>\n",
       "      <td>4424848</td>\n",
       "    </tr>\n",
       "    <tr>\n",
       "      <th>47</th>\n",
       "      <td>swindles and cyber frauds</td>\n",
       "      <td>4302140</td>\n",
       "    </tr>\n",
       "    <tr>\n",
       "      <th>30</th>\n",
       "      <td>menaces</td>\n",
       "      <td>3700086</td>\n",
       "    </tr>\n",
       "    <tr>\n",
       "      <th>12</th>\n",
       "      <td>culpable injuries</td>\n",
       "      <td>3510520</td>\n",
       "    </tr>\n",
       "    <tr>\n",
       "      <th>43</th>\n",
       "      <td>shoplifting</td>\n",
       "      <td>2084678</td>\n",
       "    </tr>\n",
       "    <tr>\n",
       "      <th>39</th>\n",
       "      <td>receiving stolen goods</td>\n",
       "      <td>1993784</td>\n",
       "    </tr>\n",
       "    <tr>\n",
       "      <th>15</th>\n",
       "      <td>damages</td>\n",
       "      <td>1799504</td>\n",
       "    </tr>\n",
       "    <tr>\n",
       "      <th>34</th>\n",
       "      <td>offences</td>\n",
       "      <td>1567206</td>\n",
       "    </tr>\n",
       "    <tr>\n",
       "      <th>40</th>\n",
       "      <td>robberies</td>\n",
       "      <td>1360968</td>\n",
       "    </tr>\n",
       "    <tr>\n",
       "      <th>6</th>\n",
       "      <td>burglary</td>\n",
       "      <td>903254</td>\n",
       "    </tr>\n",
       "    <tr>\n",
       "      <th>45</th>\n",
       "      <td>stalking</td>\n",
       "      <td>792354</td>\n",
       "    </tr>\n",
       "    <tr>\n",
       "      <th>5</th>\n",
       "      <td>blows</td>\n",
       "      <td>663386</td>\n",
       "    </tr>\n",
       "    <tr>\n",
       "      <th>17</th>\n",
       "      <td>extortions</td>\n",
       "      <td>614728</td>\n",
       "    </tr>\n",
       "    <tr>\n",
       "      <th>11</th>\n",
       "      <td>criminal association</td>\n",
       "      <td>578588</td>\n",
       "    </tr>\n",
       "    <tr>\n",
       "      <th>46</th>\n",
       "      <td>street robbery</td>\n",
       "      <td>563038</td>\n",
       "    </tr>\n",
       "    <tr>\n",
       "      <th>10</th>\n",
       "      <td>counteractions of goods and industrial products</td>\n",
       "      <td>478488</td>\n",
       "    </tr>\n",
       "    <tr>\n",
       "      <th>36</th>\n",
       "      <td>pickpocketing</td>\n",
       "      <td>452200</td>\n",
       "    </tr>\n",
       "    <tr>\n",
       "      <th>38</th>\n",
       "      <td>rapes</td>\n",
       "      <td>298908</td>\n",
       "    </tr>\n",
       "    <tr>\n",
       "      <th>42</th>\n",
       "      <td>shop robbery</td>\n",
       "      <td>283732</td>\n",
       "    </tr>\n",
       "    <tr>\n",
       "      <th>49</th>\n",
       "      <td>theft from vehicle</td>\n",
       "      <td>272026</td>\n",
       "    </tr>\n",
       "    <tr>\n",
       "      <th>31</th>\n",
       "      <td>money laundering</td>\n",
       "      <td>271540</td>\n",
       "    </tr>\n",
       "    <tr>\n",
       "      <th>7</th>\n",
       "      <td>car theft</td>\n",
       "      <td>202000</td>\n",
       "    </tr>\n",
       "    <tr>\n",
       "      <th>16</th>\n",
       "      <td>exploitation and abetting prostitution</td>\n",
       "      <td>165954</td>\n",
       "    </tr>\n",
       "  </tbody>\n",
       "</table>\n",
       "</div>"
      ],
      "text/plain": [
       "                                      Type_of_crime  N_crime_reported\n",
       "35                                     other crimes          24704196\n",
       "52                                           thefts           7229774\n",
       "53                 trafficking and drugs possession           4424848\n",
       "47                        swindles and cyber frauds           4302140\n",
       "30                                          menaces           3700086\n",
       "12                                culpable injuries           3510520\n",
       "43                                      shoplifting           2084678\n",
       "39                           receiving stolen goods           1993784\n",
       "15                                          damages           1799504\n",
       "34                                         offences           1567206\n",
       "40                                        robberies           1360968\n",
       "6                                          burglary            903254\n",
       "45                                         stalking            792354\n",
       "5                                             blows            663386\n",
       "17                                       extortions            614728\n",
       "11                             criminal association            578588\n",
       "46                                   street robbery            563038\n",
       "10  counteractions of goods and industrial products            478488\n",
       "36                                    pickpocketing            452200\n",
       "38                                            rapes            298908\n",
       "42                                     shop robbery            283732\n",
       "49                               theft from vehicle            272026\n",
       "31                                 money laundering            271540\n",
       "7                                         car theft            202000\n",
       "16           exploitation and abetting prostitution            165954"
      ]
     },
     "execution_count": 29,
     "metadata": {},
     "output_type": "execute_result"
    }
   ],
   "source": [
    "# sum all crimes by type across years \n",
    "sum_offender_crime_type = offender.groupby(by = offender.Type_of_crime)['N_crime_reported','Type_of_crime'].sum().reset_index().sort_values(by = 'N_crime_reported', ascending = False).head(25)\n",
    "sum_offender_crime_type\n"
   ]
  },
  {
   "cell_type": "code",
   "execution_count": 30,
   "id": "acd73432",
   "metadata": {
    "scrolled": false
   },
   "outputs": [
    {
     "data": {
      "image/png": "[encoded data removed]",
      "text/plain": [
       "<Figure size 1000x500 with 1 Axes>"
      ]
     },
     "metadata": {},
     "output_type": "display_data"
    }
   ],
   "source": [
    "#  graph crimes by type across years \n",
    "\n",
    "plt.figure(figsize= (10,5))\n",
    "sns.barplot(x=sum_offender_crime_type['N_crime_reported'],y= sum_offender_crime_type['Type_of_crime'], orient='h', palette='Blues');\n",
    "plt.title('Total offender in Italy 2011-2021 by crime type')\n",
    "plt.xlabel('Total number of crime reported')\n",
    "plt.ylabel('Type of Crime')\n",
    "plt.show()"
   ]
  },
  {
   "cell_type": "code",
   "execution_count": null,
   "id": "9741385f",
   "metadata": {},
   "outputs": [],
   "source": []
  },
  {
   "cell_type": "code",
   "execution_count": null,
   "id": "2a0daff1",
   "metadata": {},
   "outputs": [],
   "source": []
  },
  {
   "cell_type": "markdown",
   "id": "11113af0",
   "metadata": {},
   "source": [
    "# Subseting of the data into categories and grouping by type of crime"
   ]
  },
  {
   "cell_type": "markdown",
   "id": "c82e6020",
   "metadata": {},
   "source": [
    "## Crime type : Sex abuse"
   ]
  },
  {
   "cell_type": "code",
   "execution_count": 31,
   "id": "6ed1979d",
   "metadata": {
    "scrolled": false
   },
   "outputs": [
    {
     "data": {
      "text/html": [
       "<div>\n",
       "<style scoped>\n",
       "    .dataframe tbody tr th:only-of-type {\n",
       "        vertical-align: middle;\n",
       "    }\n",
       "\n",
       "    .dataframe tbody tr th {\n",
       "        vertical-align: top;\n",
       "    }\n",
       "\n",
       "    .dataframe thead th {\n",
       "        text-align: right;\n",
       "    }\n",
       "</style>\n",
       "<table border=\"1\" class=\"dataframe\">\n",
       "  <thead>\n",
       "    <tr style=\"text-align: right;\">\n",
       "      <th></th>\n",
       "      <th>Territory</th>\n",
       "      <th>Type_of_data</th>\n",
       "      <th>Type_of_crime</th>\n",
       "      <th>Gender</th>\n",
       "      <th>Age</th>\n",
       "      <th>Year</th>\n",
       "      <th>N_crime_reported</th>\n",
       "    </tr>\n",
       "  </thead>\n",
       "  <tbody>\n",
       "    <tr>\n",
       "      <th>528</th>\n",
       "      <td>Italy</td>\n",
       "      <td>OFFEND</td>\n",
       "      <td>stalking</td>\n",
       "      <td>males</td>\n",
       "      <td>Y18-24</td>\n",
       "      <td>2011</td>\n",
       "      <td>523</td>\n",
       "    </tr>\n",
       "    <tr>\n",
       "      <th>529</th>\n",
       "      <td>Italy</td>\n",
       "      <td>OFFEND</td>\n",
       "      <td>stalking</td>\n",
       "      <td>males</td>\n",
       "      <td>Y18-24</td>\n",
       "      <td>2012</td>\n",
       "      <td>518</td>\n",
       "    </tr>\n",
       "    <tr>\n",
       "      <th>530</th>\n",
       "      <td>Italy</td>\n",
       "      <td>OFFEND</td>\n",
       "      <td>stalking</td>\n",
       "      <td>males</td>\n",
       "      <td>Y18-24</td>\n",
       "      <td>2013</td>\n",
       "      <td>751</td>\n",
       "    </tr>\n",
       "    <tr>\n",
       "      <th>531</th>\n",
       "      <td>Italy</td>\n",
       "      <td>OFFEND</td>\n",
       "      <td>stalking</td>\n",
       "      <td>males</td>\n",
       "      <td>Y18-24</td>\n",
       "      <td>2014</td>\n",
       "      <td>709</td>\n",
       "    </tr>\n",
       "    <tr>\n",
       "      <th>532</th>\n",
       "      <td>Italy</td>\n",
       "      <td>OFFEND</td>\n",
       "      <td>stalking</td>\n",
       "      <td>males</td>\n",
       "      <td>Y18-24</td>\n",
       "      <td>2015</td>\n",
       "      <td>680</td>\n",
       "    </tr>\n",
       "  </tbody>\n",
       "</table>\n",
       "</div>"
      ],
      "text/plain": [
       "    Territory Type_of_data Type_of_crime Gender     Age  Year  \\\n",
       "528     Italy       OFFEND      stalking  males  Y18-24  2011   \n",
       "529     Italy       OFFEND      stalking  males  Y18-24  2012   \n",
       "530     Italy       OFFEND      stalking  males  Y18-24  2013   \n",
       "531     Italy       OFFEND      stalking  males  Y18-24  2014   \n",
       "532     Italy       OFFEND      stalking  males  Y18-24  2015   \n",
       "\n",
       "     N_crime_reported  \n",
       "528               523  \n",
       "529               518  \n",
       "530               751  \n",
       "531               709  \n",
       "532               680  "
      ]
     },
     "execution_count": 31,
     "metadata": {},
     "output_type": "execute_result"
    }
   ],
   "source": [
    "# group data on sex crimes\n",
    "\n",
    "crime_sex_abuse = df.apply(lambda row: row[df['Type_of_crime'].isin(['rapes','exploitation and abetting prostitution', \n",
    "                                                                                         'child pornography ','stalking',  'sexual activity with a minor', \n",
    "                                                                                         'corruption of a minor'])])\n",
    "crime_sex_abuse.head()"
   ]
  },
  {
   "cell_type": "code",
   "execution_count": 32,
   "id": "47c44522",
   "metadata": {},
   "outputs": [
    {
     "data": {
      "text/html": [
       "<div>\n",
       "<style scoped>\n",
       "    .dataframe tbody tr th:only-of-type {\n",
       "        vertical-align: middle;\n",
       "    }\n",
       "\n",
       "    .dataframe tbody tr th {\n",
       "        vertical-align: top;\n",
       "    }\n",
       "\n",
       "    .dataframe thead th {\n",
       "        text-align: right;\n",
       "    }\n",
       "</style>\n",
       "<table border=\"1\" class=\"dataframe\">\n",
       "  <thead>\n",
       "    <tr style=\"text-align: right;\">\n",
       "      <th></th>\n",
       "      <th>Territory</th>\n",
       "      <th>N_crime_reported</th>\n",
       "    </tr>\n",
       "  </thead>\n",
       "  <tbody>\n",
       "    <tr>\n",
       "      <th>8</th>\n",
       "      <td>Italy</td>\n",
       "      <td>869984</td>\n",
       "    </tr>\n",
       "    <tr>\n",
       "      <th>15</th>\n",
       "      <td>Nord-ovest</td>\n",
       "      <td>213742</td>\n",
       "    </tr>\n",
       "    <tr>\n",
       "      <th>22</th>\n",
       "      <td>Sud</td>\n",
       "      <td>213308</td>\n",
       "    </tr>\n",
       "    <tr>\n",
       "      <th>4</th>\n",
       "      <td>Centro (I)</td>\n",
       "      <td>172334</td>\n",
       "    </tr>\n",
       "    <tr>\n",
       "      <th>14</th>\n",
       "      <td>Nord-est</td>\n",
       "      <td>155954</td>\n",
       "    </tr>\n",
       "    <tr>\n",
       "      <th>11</th>\n",
       "      <td>Lombardia</td>\n",
       "      <td>129148</td>\n",
       "    </tr>\n",
       "    <tr>\n",
       "      <th>7</th>\n",
       "      <td>Isole</td>\n",
       "      <td>114646</td>\n",
       "    </tr>\n",
       "    <tr>\n",
       "      <th>21</th>\n",
       "      <td>Sicilia</td>\n",
       "      <td>91086</td>\n",
       "    </tr>\n",
       "    <tr>\n",
       "      <th>3</th>\n",
       "      <td>Campania</td>\n",
       "      <td>87054</td>\n",
       "    </tr>\n",
       "    <tr>\n",
       "      <th>9</th>\n",
       "      <td>Lazio</td>\n",
       "      <td>85112</td>\n",
       "    </tr>\n",
       "    <tr>\n",
       "      <th>5</th>\n",
       "      <td>Emilia-Romagna</td>\n",
       "      <td>69442</td>\n",
       "    </tr>\n",
       "    <tr>\n",
       "      <th>19</th>\n",
       "      <td>Puglia</td>\n",
       "      <td>61616</td>\n",
       "    </tr>\n",
       "    <tr>\n",
       "      <th>16</th>\n",
       "      <td>Piemonte</td>\n",
       "      <td>58380</td>\n",
       "    </tr>\n",
       "    <tr>\n",
       "      <th>27</th>\n",
       "      <td>Veneto</td>\n",
       "      <td>55680</td>\n",
       "    </tr>\n",
       "    <tr>\n",
       "      <th>23</th>\n",
       "      <td>Toscana</td>\n",
       "      <td>54622</td>\n",
       "    </tr>\n",
       "    <tr>\n",
       "      <th>2</th>\n",
       "      <td>Calabria</td>\n",
       "      <td>31904</td>\n",
       "    </tr>\n",
       "    <tr>\n",
       "      <th>10</th>\n",
       "      <td>Liguria</td>\n",
       "      <td>24880</td>\n",
       "    </tr>\n",
       "    <tr>\n",
       "      <th>20</th>\n",
       "      <td>Sardegna</td>\n",
       "      <td>23560</td>\n",
       "    </tr>\n",
       "    <tr>\n",
       "      <th>0</th>\n",
       "      <td>Abruzzo</td>\n",
       "      <td>19432</td>\n",
       "    </tr>\n",
       "    <tr>\n",
       "      <th>12</th>\n",
       "      <td>Marche</td>\n",
       "      <td>18626</td>\n",
       "    </tr>\n",
       "    <tr>\n",
       "      <th>6</th>\n",
       "      <td>Friuli-Venezia Giulia</td>\n",
       "      <td>16024</td>\n",
       "    </tr>\n",
       "    <tr>\n",
       "      <th>24</th>\n",
       "      <td>Trentino Alto Adige / Südtirol</td>\n",
       "      <td>14808</td>\n",
       "    </tr>\n",
       "    <tr>\n",
       "      <th>25</th>\n",
       "      <td>Umbria</td>\n",
       "      <td>13974</td>\n",
       "    </tr>\n",
       "    <tr>\n",
       "      <th>1</th>\n",
       "      <td>Basilicata</td>\n",
       "      <td>8990</td>\n",
       "    </tr>\n",
       "    <tr>\n",
       "      <th>17</th>\n",
       "      <td>Provincia Autonoma Bolzano / Bozen</td>\n",
       "      <td>7554</td>\n",
       "    </tr>\n",
       "  </tbody>\n",
       "</table>\n",
       "</div>"
      ],
      "text/plain": [
       "                             Territory  N_crime_reported\n",
       "8                                Italy            869984\n",
       "15                          Nord-ovest            213742\n",
       "22                                 Sud            213308\n",
       "4                           Centro (I)            172334\n",
       "14                            Nord-est            155954\n",
       "11                           Lombardia            129148\n",
       "7                                Isole            114646\n",
       "21                             Sicilia             91086\n",
       "3                             Campania             87054\n",
       "9                                Lazio             85112\n",
       "5                       Emilia-Romagna             69442\n",
       "19                              Puglia             61616\n",
       "16                            Piemonte             58380\n",
       "27                              Veneto             55680\n",
       "23                             Toscana             54622\n",
       "2                             Calabria             31904\n",
       "10                             Liguria             24880\n",
       "20                            Sardegna             23560\n",
       "0                              Abruzzo             19432\n",
       "12                              Marche             18626\n",
       "6                Friuli-Venezia Giulia             16024\n",
       "24      Trentino Alto Adige / Südtirol             14808\n",
       "25                              Umbria             13974\n",
       "1                           Basilicata              8990\n",
       "17  Provincia Autonoma Bolzano / Bozen              7554"
      ]
     },
     "execution_count": 32,
     "metadata": {},
     "output_type": "execute_result"
    }
   ],
   "source": [
    "# sum sex crimes \n",
    "sum_crime_sex = crime_sex_abuse.groupby(by = crime_sex_abuse.Territory)['N_crime_reported','Territory'].sum().reset_index().sort_values(by = 'N_crime_reported', ascending = False).head(25)\n",
    "sum_crime_sex"
   ]
  },
  {
   "cell_type": "code",
   "execution_count": 33,
   "id": "d40c123a",
   "metadata": {},
   "outputs": [
    {
     "data": {
      "text/html": [
       "<div>\n",
       "<style scoped>\n",
       "    .dataframe tbody tr th:only-of-type {\n",
       "        vertical-align: middle;\n",
       "    }\n",
       "\n",
       "    .dataframe tbody tr th {\n",
       "        vertical-align: top;\n",
       "    }\n",
       "\n",
       "    .dataframe thead th {\n",
       "        text-align: right;\n",
       "    }\n",
       "</style>\n",
       "<table border=\"1\" class=\"dataframe\">\n",
       "  <thead>\n",
       "    <tr style=\"text-align: right;\">\n",
       "      <th></th>\n",
       "      <th>Territory</th>\n",
       "      <th>N_crime_reported</th>\n",
       "    </tr>\n",
       "  </thead>\n",
       "  <tbody>\n",
       "    <tr>\n",
       "      <th>15</th>\n",
       "      <td>Nord-ovest</td>\n",
       "      <td>213742</td>\n",
       "    </tr>\n",
       "    <tr>\n",
       "      <th>22</th>\n",
       "      <td>Sud</td>\n",
       "      <td>213308</td>\n",
       "    </tr>\n",
       "    <tr>\n",
       "      <th>4</th>\n",
       "      <td>Centro (I)</td>\n",
       "      <td>172334</td>\n",
       "    </tr>\n",
       "    <tr>\n",
       "      <th>14</th>\n",
       "      <td>Nord-est</td>\n",
       "      <td>155954</td>\n",
       "    </tr>\n",
       "    <tr>\n",
       "      <th>11</th>\n",
       "      <td>Lombardia</td>\n",
       "      <td>129148</td>\n",
       "    </tr>\n",
       "    <tr>\n",
       "      <th>7</th>\n",
       "      <td>Isole</td>\n",
       "      <td>114646</td>\n",
       "    </tr>\n",
       "    <tr>\n",
       "      <th>21</th>\n",
       "      <td>Sicilia</td>\n",
       "      <td>91086</td>\n",
       "    </tr>\n",
       "    <tr>\n",
       "      <th>3</th>\n",
       "      <td>Campania</td>\n",
       "      <td>87054</td>\n",
       "    </tr>\n",
       "    <tr>\n",
       "      <th>9</th>\n",
       "      <td>Lazio</td>\n",
       "      <td>85112</td>\n",
       "    </tr>\n",
       "    <tr>\n",
       "      <th>5</th>\n",
       "      <td>Emilia-Romagna</td>\n",
       "      <td>69442</td>\n",
       "    </tr>\n",
       "    <tr>\n",
       "      <th>19</th>\n",
       "      <td>Puglia</td>\n",
       "      <td>61616</td>\n",
       "    </tr>\n",
       "    <tr>\n",
       "      <th>16</th>\n",
       "      <td>Piemonte</td>\n",
       "      <td>58380</td>\n",
       "    </tr>\n",
       "    <tr>\n",
       "      <th>27</th>\n",
       "      <td>Veneto</td>\n",
       "      <td>55680</td>\n",
       "    </tr>\n",
       "    <tr>\n",
       "      <th>23</th>\n",
       "      <td>Toscana</td>\n",
       "      <td>54622</td>\n",
       "    </tr>\n",
       "    <tr>\n",
       "      <th>2</th>\n",
       "      <td>Calabria</td>\n",
       "      <td>31904</td>\n",
       "    </tr>\n",
       "    <tr>\n",
       "      <th>10</th>\n",
       "      <td>Liguria</td>\n",
       "      <td>24880</td>\n",
       "    </tr>\n",
       "    <tr>\n",
       "      <th>20</th>\n",
       "      <td>Sardegna</td>\n",
       "      <td>23560</td>\n",
       "    </tr>\n",
       "    <tr>\n",
       "      <th>0</th>\n",
       "      <td>Abruzzo</td>\n",
       "      <td>19432</td>\n",
       "    </tr>\n",
       "    <tr>\n",
       "      <th>12</th>\n",
       "      <td>Marche</td>\n",
       "      <td>18626</td>\n",
       "    </tr>\n",
       "    <tr>\n",
       "      <th>6</th>\n",
       "      <td>Friuli-Venezia Giulia</td>\n",
       "      <td>16024</td>\n",
       "    </tr>\n",
       "    <tr>\n",
       "      <th>24</th>\n",
       "      <td>Trentino Alto Adige / Südtirol</td>\n",
       "      <td>14808</td>\n",
       "    </tr>\n",
       "    <tr>\n",
       "      <th>25</th>\n",
       "      <td>Umbria</td>\n",
       "      <td>13974</td>\n",
       "    </tr>\n",
       "    <tr>\n",
       "      <th>1</th>\n",
       "      <td>Basilicata</td>\n",
       "      <td>8990</td>\n",
       "    </tr>\n",
       "    <tr>\n",
       "      <th>17</th>\n",
       "      <td>Provincia Autonoma Bolzano / Bozen</td>\n",
       "      <td>7554</td>\n",
       "    </tr>\n",
       "  </tbody>\n",
       "</table>\n",
       "</div>"
      ],
      "text/plain": [
       "                             Territory  N_crime_reported\n",
       "15                          Nord-ovest            213742\n",
       "22                                 Sud            213308\n",
       "4                           Centro (I)            172334\n",
       "14                            Nord-est            155954\n",
       "11                           Lombardia            129148\n",
       "7                                Isole            114646\n",
       "21                             Sicilia             91086\n",
       "3                             Campania             87054\n",
       "9                                Lazio             85112\n",
       "5                       Emilia-Romagna             69442\n",
       "19                              Puglia             61616\n",
       "16                            Piemonte             58380\n",
       "27                              Veneto             55680\n",
       "23                             Toscana             54622\n",
       "2                             Calabria             31904\n",
       "10                             Liguria             24880\n",
       "20                            Sardegna             23560\n",
       "0                              Abruzzo             19432\n",
       "12                              Marche             18626\n",
       "6                Friuli-Venezia Giulia             16024\n",
       "24      Trentino Alto Adige / Südtirol             14808\n",
       "25                              Umbria             13974\n",
       "1                           Basilicata              8990\n",
       "17  Provincia Autonoma Bolzano / Bozen              7554"
      ]
     },
     "execution_count": 33,
     "metadata": {},
     "output_type": "execute_result"
    }
   ],
   "source": [
    "# remove the the row Italy with values for the whole contry to perform stats\n",
    "sex_abuse = sum_crime_sex.loc[sum_crime_sex[\"Territory\"] != 'Italy']\n",
    "sex_abuse"
   ]
  },
  {
   "cell_type": "code",
   "execution_count": 34,
   "id": "b13c6eac",
   "metadata": {},
   "outputs": [
    {
     "data": {
      "text/html": [
       "<div>\n",
       "<style scoped>\n",
       "    .dataframe tbody tr th:only-of-type {\n",
       "        vertical-align: middle;\n",
       "    }\n",
       "\n",
       "    .dataframe tbody tr th {\n",
       "        vertical-align: top;\n",
       "    }\n",
       "\n",
       "    .dataframe thead th {\n",
       "        text-align: right;\n",
       "    }\n",
       "</style>\n",
       "<table border=\"1\" class=\"dataframe\">\n",
       "  <thead>\n",
       "    <tr style=\"text-align: right;\">\n",
       "      <th></th>\n",
       "      <th>N_crime_reported</th>\n",
       "    </tr>\n",
       "  </thead>\n",
       "  <tbody>\n",
       "    <tr>\n",
       "      <th>count</th>\n",
       "      <td>24.00</td>\n",
       "    </tr>\n",
       "    <tr>\n",
       "      <th>mean</th>\n",
       "      <td>72578.17</td>\n",
       "    </tr>\n",
       "    <tr>\n",
       "      <th>std</th>\n",
       "      <td>63780.51</td>\n",
       "    </tr>\n",
       "    <tr>\n",
       "      <th>min</th>\n",
       "      <td>7554.00</td>\n",
       "    </tr>\n",
       "    <tr>\n",
       "      <th>25%</th>\n",
       "      <td>19230.50</td>\n",
       "    </tr>\n",
       "    <tr>\n",
       "      <th>50%</th>\n",
       "      <td>57030.00</td>\n",
       "    </tr>\n",
       "    <tr>\n",
       "      <th>75%</th>\n",
       "      <td>96976.00</td>\n",
       "    </tr>\n",
       "    <tr>\n",
       "      <th>max</th>\n",
       "      <td>213742.00</td>\n",
       "    </tr>\n",
       "  </tbody>\n",
       "</table>\n",
       "</div>"
      ],
      "text/plain": [
       "       N_crime_reported\n",
       "count             24.00\n",
       "mean           72578.17\n",
       "std            63780.51\n",
       "min             7554.00\n",
       "25%            19230.50\n",
       "50%            57030.00\n",
       "75%            96976.00\n",
       "max           213742.00"
      ]
     },
     "execution_count": 34,
     "metadata": {},
     "output_type": "execute_result"
    }
   ],
   "source": [
    "# stats\n",
    "sex_abuse.describe()"
   ]
  },
  {
   "cell_type": "code",
   "execution_count": 35,
   "id": "bb3a4a8d",
   "metadata": {
    "scrolled": true
   },
   "outputs": [
    {
     "data": {
      "image/png": "[encoded data removed]",
      "text/plain": [
       "<Figure size 1000x500 with 1 Axes>"
      ]
     },
     "metadata": {},
     "output_type": "display_data"
    }
   ],
   "source": [
    "# graph of sex crimes by region \n",
    "\n",
    "plt.figure(figsize= (10,5))\n",
    "sns.barplot(x=sum_crime_sex['N_crime_reported'],y= sum_crime_sex['Territory'], orient='h', palette='Blues');\n",
    "plt.title('Total sex crime in Italy 2011-2021 by City')\n",
    "plt.xlabel('Total number of crime reported')\n",
    "plt.ylabel('Cities')\n",
    "plt.show()"
   ]
  },
  {
   "cell_type": "code",
   "execution_count": 36,
   "id": "70cc6ca5",
   "metadata": {},
   "outputs": [
    {
     "data": {
      "text/html": [
       "<div>\n",
       "<style scoped>\n",
       "    .dataframe tbody tr th:only-of-type {\n",
       "        vertical-align: middle;\n",
       "    }\n",
       "\n",
       "    .dataframe tbody tr th {\n",
       "        vertical-align: top;\n",
       "    }\n",
       "\n",
       "    .dataframe thead th {\n",
       "        text-align: right;\n",
       "    }\n",
       "</style>\n",
       "<table border=\"1\" class=\"dataframe\">\n",
       "  <thead>\n",
       "    <tr style=\"text-align: right;\">\n",
       "      <th></th>\n",
       "      <th>Type_of_crime</th>\n",
       "      <th>N_crime_reported</th>\n",
       "    </tr>\n",
       "  </thead>\n",
       "  <tbody>\n",
       "    <tr>\n",
       "      <th>5</th>\n",
       "      <td>stalking</td>\n",
       "      <td>1678660</td>\n",
       "    </tr>\n",
       "    <tr>\n",
       "      <th>3</th>\n",
       "      <td>rapes</td>\n",
       "      <td>573930</td>\n",
       "    </tr>\n",
       "    <tr>\n",
       "      <th>2</th>\n",
       "      <td>exploitation and abetting prostitution</td>\n",
       "      <td>202484</td>\n",
       "    </tr>\n",
       "    <tr>\n",
       "      <th>0</th>\n",
       "      <td>child pornography</td>\n",
       "      <td>81160</td>\n",
       "    </tr>\n",
       "    <tr>\n",
       "      <th>4</th>\n",
       "      <td>sexual activity with a minor</td>\n",
       "      <td>69166</td>\n",
       "    </tr>\n",
       "    <tr>\n",
       "      <th>1</th>\n",
       "      <td>corruption of a minor</td>\n",
       "      <td>19286</td>\n",
       "    </tr>\n",
       "  </tbody>\n",
       "</table>\n",
       "</div>"
      ],
      "text/plain": [
       "                            Type_of_crime  N_crime_reported\n",
       "5                                stalking           1678660\n",
       "3                                   rapes            573930\n",
       "2  exploitation and abetting prostitution            202484\n",
       "0                      child pornography              81160\n",
       "4            sexual activity with a minor             69166\n",
       "1                   corruption of a minor             19286"
      ]
     },
     "execution_count": 36,
     "metadata": {},
     "output_type": "execute_result"
    }
   ],
   "source": [
    "# sex crimes by type\n",
    "sex_crime = crime_sex_abuse.groupby(by = crime_sex_abuse.Type_of_crime)['N_crime_reported','Type_of_crime'].sum().reset_index().sort_values(by = 'N_crime_reported', ascending = False).head(25)\n",
    "sex_crime"
   ]
  },
  {
   "cell_type": "code",
   "execution_count": 37,
   "id": "d22e502d",
   "metadata": {},
   "outputs": [
    {
     "data": {
      "image/png": "[encoded data removed]",
      "text/plain": [
       "<Figure size 1000x500 with 1 Axes>"
      ]
     },
     "metadata": {},
     "output_type": "display_data"
    }
   ],
   "source": [
    "#graph of sex crimes by type\n",
    "\n",
    "plt.figure(figsize= (10,5))\n",
    "sns.barplot(x=sex_crime['N_crime_reported'],y= sex_crime['Type_of_crime'], orient='h', palette='Blues');\n",
    "plt.title('Total crime in Italy 2011-2021 by type')\n",
    "plt.xlabel('Total sex crime reported ')\n",
    "plt.ylabel('Type of Crime')\n",
    "plt.show()"
   ]
  },
  {
   "cell_type": "code",
   "execution_count": 38,
   "id": "3a8cc354",
   "metadata": {},
   "outputs": [
    {
     "data": {
      "image/png": "[encoded data removed]",
      "text/plain": [
       "<Figure size 1185.5x500 with 1 Axes>"
      ]
     },
     "metadata": {},
     "output_type": "display_data"
    }
   ],
   "source": [
    "#Sexual crime by year\n",
    "crime_sex = sns.relplot(kind='line', data=crime_sex_abuse, x='Year', y='N_crime_reported', hue='Type_of_crime', style='Type_of_crime', aspect=1.75)\n"
   ]
  },
  {
   "cell_type": "code",
   "execution_count": null,
   "id": "c712aaea",
   "metadata": {},
   "outputs": [],
   "source": []
  },
  {
   "cell_type": "code",
   "execution_count": null,
   "id": "5a225ecd",
   "metadata": {},
   "outputs": [],
   "source": [
    "# graph of all crimes \n",
    "\n",
    "plt.figure(figsize=(10,5))\n",
    "df['Type_of_crime'].value_counts().plot.bar()\n",
    "plt.title('Type of crime')\n",
    "plt.ylabel('Total number of crimes')\n",
    "plt.show()"
   ]
  },
  {
   "cell_type": "markdown",
   "id": "f7db7370",
   "metadata": {},
   "source": [
    "## Crime type : Murder"
   ]
  },
  {
   "cell_type": "code",
   "execution_count": null,
   "id": "c66753dd",
   "metadata": {},
   "outputs": [],
   "source": []
  },
  {
   "cell_type": "code",
   "execution_count": null,
   "id": "7cbf13aa",
   "metadata": {
    "scrolled": false
   },
   "outputs": [],
   "source": [
    "#  group data on muder\n",
    "\n",
    "crime_murder = df.apply(lambda row: row[df['Type_of_crime'].isin(['mass murder', 'intentional homicides',\n",
    "       'homicides for theft or robbery', 'homicides of mafia', 'terrorist homicides', 'attempted homicides',\n",
    "        'infanticides', 'manslaughter', 'unintentional homicides', 'homicides from road accident'])])\n",
    "crime_murder.head()"
   ]
  },
  {
   "cell_type": "code",
   "execution_count": null,
   "id": "dbf5fe7c",
   "metadata": {},
   "outputs": [],
   "source": [
    "# sum murder\n",
    "sum_crime_murder = crime_murder.groupby(by = crime_murder.Territory)['N_crime_reported','Territory'].sum().reset_index().sort_values(by = 'N_crime_reported', ascending = False).head(25)\n",
    "sum_crime_murder"
   ]
  },
  {
   "cell_type": "code",
   "execution_count": null,
   "id": "7fe340d9",
   "metadata": {},
   "outputs": [],
   "source": []
  },
  {
   "cell_type": "code",
   "execution_count": null,
   "id": "df254b25",
   "metadata": {},
   "outputs": [],
   "source": [
    "# remove the the row Italy with values for the whole contry to perform stats\n",
    "stats_murder = sum_crime_murder.loc[sum_crime_murder[\"Territory\"] != 'Italy']\n",
    "stats_murder"
   ]
  },
  {
   "cell_type": "code",
   "execution_count": null,
   "id": "da652db1",
   "metadata": {},
   "outputs": [],
   "source": [
    "# stats\n",
    "\n",
    "stats_murder.describe()"
   ]
  },
  {
   "cell_type": "code",
   "execution_count": null,
   "id": "05f8d48a",
   "metadata": {
    "scrolled": true
   },
   "outputs": [],
   "source": [
    "# plog graph of total muder reposted by region\n",
    "\n",
    "plt.figure(figsize= (10,5))\n",
    "sns.barplot(x=sum_crime_murder['N_crime_reported'],y= sum_crime_murder['Territory'], orient='h', palette='Blues');\n",
    "plt.title('Total murder in Italy 2011-2021 by City')\n",
    "plt.xlabel('Total murder reported')\n",
    "plt.ylabel('Cities')\n",
    "plt.show()"
   ]
  },
  {
   "cell_type": "code",
   "execution_count": null,
   "id": "a4e6be1d",
   "metadata": {},
   "outputs": [],
   "source": [
    "# muder by type\n",
    "murder = crime_murder.groupby(by = crime_murder.Type_of_crime)['N_crime_reported','Type_of_crime'].sum().reset_index().sort_values(by = 'N_crime_reported', ascending = False).head(25)\n",
    "murder"
   ]
  },
  {
   "cell_type": "code",
   "execution_count": null,
   "id": "bf693057",
   "metadata": {},
   "outputs": [],
   "source": [
    "# graph of muder by type\n",
    "\n",
    "plt.figure(figsize= (10,5))\n",
    "sns.barplot(x=murder['N_crime_reported'],y= murder['Type_of_crime'], orient='h', palette='Blues');\n",
    "plt.title('Total murder in Italy 2011-2021 by type')\n",
    "plt.xlabel('Total murder reported')\n",
    "plt.ylabel('Type of murder')\n",
    "plt.show()"
   ]
  },
  {
   "cell_type": "code",
   "execution_count": null,
   "id": "b37561cb",
   "metadata": {},
   "outputs": [],
   "source": [
    "# Murder by year\n",
    "murder = sns.relplot(kind='line', data=crime_murder, x='Year', y='N_crime_reported', hue='Type_of_crime', style='Type_of_crime', aspect=1.75)\n"
   ]
  },
  {
   "cell_type": "code",
   "execution_count": null,
   "id": "29b3b450",
   "metadata": {},
   "outputs": [],
   "source": []
  },
  {
   "cell_type": "code",
   "execution_count": null,
   "id": "19a636d9",
   "metadata": {},
   "outputs": [],
   "source": []
  },
  {
   "cell_type": "markdown",
   "id": "c5cbdcfe",
   "metadata": {},
   "source": [
    "## Crime type : Robbery"
   ]
  },
  {
   "cell_type": "code",
   "execution_count": null,
   "id": "e3b5d0b0",
   "metadata": {
    "scrolled": true
   },
   "outputs": [],
   "source": [
    "# group data by robbery \n",
    "\n",
    "crime_robbery = df.apply(lambda row: row[df['Type_of_crime'].isin(['thefts', 'bag-snatching', 'pickpocketing', \n",
    "       'burglary','shoplifting', 'theft from vehicle', 'theft of art objets', 'car theft', 'robberies',\n",
    "       'theft of cargo trucks carrying freights', 'moped theft','motorcycle theft', 'house robbery',\n",
    "       'bank robbery', 'post office robbery', 'shop robbery', 'street robbery', ])])\n",
    "crime_robbery.head()"
   ]
  },
  {
   "cell_type": "code",
   "execution_count": null,
   "id": "c3651e3e",
   "metadata": {},
   "outputs": [],
   "source": [
    "# sum robbery reported by region\n",
    "\n",
    "sum_crime_robbery = crime_robbery.groupby(by = crime_robbery.Territory)['N_crime_reported','Territory'].sum().reset_index().sort_values(by = 'N_crime_reported', ascending = False).head(25)\n",
    "sum_crime_robbery"
   ]
  },
  {
   "cell_type": "code",
   "execution_count": null,
   "id": "06cef48e",
   "metadata": {},
   "outputs": [],
   "source": [
    "# remove the the row Italy with values for the whole contry to perform stats\n",
    "stats_robbery = sum_crime_robbery.loc[sum_crime_robbery[\"Territory\"] != 'Italy']\n",
    "stats_robbery"
   ]
  },
  {
   "cell_type": "code",
   "execution_count": null,
   "id": "68a6056d",
   "metadata": {},
   "outputs": [],
   "source": [
    "# stats\n",
    "\n",
    "stats_robbery.describe()"
   ]
  },
  {
   "cell_type": "code",
   "execution_count": null,
   "id": "d62f6fb9",
   "metadata": {
    "scrolled": true
   },
   "outputs": [],
   "source": [
    "# plot graph of total number of robbery by region \n",
    "\n",
    "plt.figure(figsize= (10,5))\n",
    "sns.barplot(x=sum_crime_robbery['N_crime_reported'],y= sum_crime_robbery['Territory'], orient='h', palette='Blues');\n",
    "plt.title('Total robbery in Italy 2011-2021 by City')\n",
    "plt.xlabel('Total number of robbery reported')\n",
    "plt.ylabel('Cities')\n",
    "plt.show()"
   ]
  },
  {
   "cell_type": "code",
   "execution_count": null,
   "id": "2f183a59",
   "metadata": {},
   "outputs": [],
   "source": [
    "# sum robbery by type\n",
    "\n",
    "robbery = crime_robbery.groupby(by = crime_robbery.Type_of_crime)['N_crime_reported','Type_of_crime'].sum().reset_index().sort_values(by = 'N_crime_reported', ascending = False).head(25)\n",
    "robbery"
   ]
  },
  {
   "cell_type": "code",
   "execution_count": null,
   "id": "9fa52226",
   "metadata": {},
   "outputs": [],
   "source": [
    "# plot graph of robbery by type\n",
    "\n",
    "plt.figure(figsize= (10,5))\n",
    "sns.barplot(x=robbery['N_crime_reported'],y= robbery['Type_of_crime'], orient='h', palette='Blues');\n",
    "plt.title('Total robbery in Italy 2011-2021 by type')\n",
    "plt.xlabel('Total number of robbery reported')\n",
    "plt.ylabel('Type of robbery')\n",
    "plt.show()"
   ]
  },
  {
   "cell_type": "code",
   "execution_count": null,
   "id": "923fee27",
   "metadata": {},
   "outputs": [],
   "source": [
    "robbery = sns.relplot(kind='line', data=crime_robbery, x='Year', y='N_crime_reported', hue='Type_of_crime', style='Type_of_crime', aspect=1.75)\n"
   ]
  },
  {
   "cell_type": "code",
   "execution_count": null,
   "id": "26a4596d",
   "metadata": {},
   "outputs": [],
   "source": []
  },
  {
   "cell_type": "markdown",
   "id": "1e14c786",
   "metadata": {},
   "source": [
    "## Crime type : Fraud"
   ]
  },
  {
   "cell_type": "code",
   "execution_count": null,
   "id": "0f014132",
   "metadata": {
    "scrolled": true
   },
   "outputs": [],
   "source": [
    "crime_fraud = df.apply(lambda row: row[df['Type_of_crime'].isin(['extortions', 'swindles and cyber frauds',\n",
    "       'cybercrime', 'counteractions of goods and industrial products','intellectual property violations',\n",
    "       'receiving stolen goods','money laundering', 'usury'])])\n",
    "crime_fraud.head()"
   ]
  },
  {
   "cell_type": "code",
   "execution_count": null,
   "id": "60ef6308",
   "metadata": {},
   "outputs": [],
   "source": [
    "sum_crime_fraud = crime_fraud.groupby(by = crime_fraud.Territory)['N_crime_reported','Territory'].sum().reset_index().sort_values(by = 'N_crime_reported', ascending = False).head(25)\n",
    "sum_crime_fraud"
   ]
  },
  {
   "cell_type": "code",
   "execution_count": null,
   "id": "492b403f",
   "metadata": {},
   "outputs": [],
   "source": [
    "# remove the the row Italy with values for the whole contry to perform stats\n",
    "stats_fraud = sum_crime_fraud.loc[sum_crime_fraud[\"Territory\"] != 'Italy']\n",
    "stats_fraud"
   ]
  },
  {
   "cell_type": "code",
   "execution_count": null,
   "id": "82727678",
   "metadata": {},
   "outputs": [],
   "source": [
    "# stats\n",
    "\n",
    "stats_fraud.describe()"
   ]
  },
  {
   "cell_type": "code",
   "execution_count": null,
   "id": "e4cfef36",
   "metadata": {
    "scrolled": true
   },
   "outputs": [],
   "source": [
    "# plot graph total fraud reported by region\n",
    "\n",
    "plt.figure(figsize= (10,5))\n",
    "sns.barplot(x=sum_crime_fraud['N_crime_reported'],y= sum_crime_fraud['Territory'], orient='h', palette='Blues');\n",
    "plt.title('Total fraud in Italy 2011-2021 by City')\n",
    "plt.xlabel('Total number of fraud reported')\n",
    "plt.ylabel('Cities')\n",
    "plt.show()"
   ]
  },
  {
   "cell_type": "code",
   "execution_count": null,
   "id": "150a4285",
   "metadata": {},
   "outputs": [],
   "source": [
    "# sum fraud by type\n",
    "\n",
    "fraud = crime_fraud.groupby(by = crime_fraud.Type_of_crime)['N_crime_reported','Type_of_crime'].sum().reset_index().sort_values(by = 'N_crime_reported', ascending = False).head(25)\n",
    "fraud"
   ]
  },
  {
   "cell_type": "code",
   "execution_count": null,
   "id": "7f92b2a8",
   "metadata": {},
   "outputs": [],
   "source": [
    "# plot graph fraud by type\n",
    "\n",
    "plt.figure(figsize= (10,5))\n",
    "sns.barplot(x=fraud['N_crime_reported'],y= fraud['Type_of_crime'], orient='h', palette='Blues');\n",
    "plt.title('Total fraud in Italy 2011-2021 by type')\n",
    "plt.xlabel('Total number of fraud reported')\n",
    "plt.ylabel('Type of fraud')\n",
    "plt.show()"
   ]
  },
  {
   "cell_type": "code",
   "execution_count": null,
   "id": "37560fad",
   "metadata": {},
   "outputs": [],
   "source": [
    "fraud = sns.relplot(kind='line', data=crime_fraud, x='Year', y='N_crime_reported', hue='Type_of_crime', style='Type_of_crime', aspect=1.75)\n"
   ]
  },
  {
   "cell_type": "code",
   "execution_count": null,
   "id": "d986d6e8",
   "metadata": {},
   "outputs": [],
   "source": []
  },
  {
   "cell_type": "code",
   "execution_count": null,
   "id": "0deeec23",
   "metadata": {},
   "outputs": [],
   "source": []
  },
  {
   "cell_type": "markdown",
   "id": "bb0eb4a8",
   "metadata": {},
   "source": [
    "## Crime type : Others"
   ]
  },
  {
   "cell_type": "code",
   "execution_count": null,
   "id": "56cb68c2",
   "metadata": {
    "scrolled": true
   },
   "outputs": [],
   "source": [
    "# group data on any other crime reported \n",
    "\n",
    "crime_others = df.apply(lambda row: row[df['Type_of_crime'].isin(['damages', 'arson', 'forest arson',\n",
    "       'damage followed by arson', 'trafficking and drugs possession','attacks', 'criminal association', \n",
    "       'mafia criminal association', 'smuggling', 'other crimes'])])\n",
    "crime_others.head()"
   ]
  },
  {
   "cell_type": "code",
   "execution_count": null,
   "id": "60ed1b7b",
   "metadata": {},
   "outputs": [],
   "source": [
    " # sum any other crime reported \n",
    "\n",
    "sum_crime_others = crime_others.groupby(by = crime_others.Territory)['N_crime_reported','Territory'].sum().reset_index().sort_values(by = 'N_crime_reported', ascending = False).head(25)\n",
    "sum_crime_others"
   ]
  },
  {
   "cell_type": "code",
   "execution_count": null,
   "id": "00e08877",
   "metadata": {},
   "outputs": [],
   "source": [
    "# remove the the row Italy with values for the whole contry to perform stats\n",
    "stats_othercrimes = sum_crime_others.loc[sum_crime_others[\"Territory\"] != 'Italy']\n",
    "stats_othercrimes"
   ]
  },
  {
   "cell_type": "code",
   "execution_count": null,
   "id": "47fc28e7",
   "metadata": {},
   "outputs": [],
   "source": [
    "# stats\n",
    "\n",
    "stats_othercrimes.describe()"
   ]
  },
  {
   "cell_type": "code",
   "execution_count": null,
   "id": "98ef55b7",
   "metadata": {
    "scrolled": true
   },
   "outputs": [],
   "source": [
    "#  plot graph of other crime reported \n",
    "\n",
    "plt.figure(figsize= (10,5))\n",
    "sns.barplot(x=sum_crime_others['N_crime_reported'],y= sum_crime_others['Territory'], orient='h', palette='Blues');\n",
    "plt.title('Total other crime in Italy 2011-2021 by City')\n",
    "plt.xlabel('Total number of crime reported')\n",
    "plt.ylabel('Cities')\n",
    "plt.show()"
   ]
  },
  {
   "cell_type": "code",
   "execution_count": null,
   "id": "fc8223d7",
   "metadata": {},
   "outputs": [],
   "source": [
    "# sum other crimes by type \n",
    "\n",
    "others = crime_others.groupby(by = crime_others.Type_of_crime)['N_crime_reported','Type_of_crime'].sum().reset_index().sort_values(by = 'N_crime_reported', ascending = False).head(25)\n",
    "others"
   ]
  },
  {
   "cell_type": "code",
   "execution_count": null,
   "id": "322d0cda",
   "metadata": {},
   "outputs": [],
   "source": [
    "# plot graph of other crimes by type \n",
    "\n",
    "plt.figure(figsize= (10,5))\n",
    "sns.barplot(x=others['N_crime_reported'],y= others['Type_of_crime'], orient='h', palette='Blues');\n",
    "plt.title('Total others in Italy 2011-2021 by type')\n",
    "plt.xlabel('Total number of other crime reported')\n",
    "plt.ylabel('Type of crime')\n",
    "plt.show()"
   ]
  },
  {
   "cell_type": "code",
   "execution_count": null,
   "id": "cc8430ed",
   "metadata": {
    "scrolled": true
   },
   "outputs": [],
   "source": [
    "others = sns.relplot(kind='line', data=crime_others, x='Year', y='N_crime_reported', hue='Type_of_crime', style='Type_of_crime', aspect=1.75)\n"
   ]
  },
  {
   "cell_type": "code",
   "execution_count": null,
   "id": "470405d6",
   "metadata": {},
   "outputs": [],
   "source": []
  },
  {
   "cell_type": "code",
   "execution_count": null,
   "id": "a75d0531",
   "metadata": {},
   "outputs": [],
   "source": [
    "# transform the dataframe using pivot table  \n",
    "\n",
    "p_table = pd.pivot_table(df, index = ['Territory','Gender', 'Type_of_data', 'Age', 'Year'],\n",
    "                             columns= 'Type_of_crime',\n",
    "                             values= 'N_crime_reported')\n",
    "p_table"
   ]
  },
  {
   "cell_type": "code",
   "execution_count": null,
   "id": "5636f228",
   "metadata": {
    "scrolled": true
   },
   "outputs": [],
   "source": [
    "# fill na with 0\n",
    "\n",
    "df2 = p_table.fillna(0)\n",
    "df2"
   ]
  },
  {
   "cell_type": "code",
   "execution_count": null,
   "id": "c03b28f0",
   "metadata": {},
   "outputs": [],
   "source": [
    "# save data for further use \n",
    "\n",
    "df2.to_csv('ITcrime_pivot_table.csv')"
   ]
  },
  {
   "cell_type": "markdown",
   "id": "42ccd239",
   "metadata": {},
   "source": [
    "## Interactive panel\n",
    "#pip install pivottablejs\n",
    "\n",
    "With interactive panel, it is possible to evaluate all variables and perform stats (Average, Median, Sum, Variance, Deviation, Lower and Upper bound, etc). \n"
   ]
  },
  {
   "cell_type": "code",
   "execution_count": null,
   "id": "1fa2e8ba",
   "metadata": {},
   "outputs": [],
   "source": [
    "# call interactive panel \n",
    "\n",
    "pivot_ui(df2)"
   ]
  },
  {
   "cell_type": "markdown",
   "id": "f52a9fd8",
   "metadata": {},
   "source": [
    "#### References\n"
   ]
  },
  {
   "cell_type": "markdown",
   "id": "bb285590",
   "metadata": {},
   "source": [
    "https://pivottable.js.org/examples/"
   ]
  }
 ],
 "metadata": {
  "kernelspec": {
   "display_name": "Python 3 (ipykernel)",
   "language": "python",
   "name": "python3"
  },
  "language_info": {
   "codemirror_mode": {
    "name": "ipython",
    "version": 3
   },
   "file_extension": ".py",
   "mimetype": "text/x-python",
   "name": "python",
   "nbconvert_exporter": "python",
   "pygments_lexer": "ipython3",
   "version": "3.11.0"
  }
 },
 "nbformat": 4,
 "nbformat_minor": 5
}
